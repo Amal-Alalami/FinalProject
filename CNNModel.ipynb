{
  "nbformat": 4,
  "nbformat_minor": 0,
  "metadata": {
    "colab": {
      "provenance": [],
      "authorship_tag": "ABX9TyNHOyN+y8Yf4UeDQQFXkJDh",
      "include_colab_link": true
    },
    "kernelspec": {
      "name": "python3",
      "display_name": "Python 3"
    },
    "language_info": {
      "name": "python"
    }
  },
  "cells": [
    {
      "cell_type": "markdown",
      "metadata": {
        "id": "view-in-github",
        "colab_type": "text"
      },
      "source": [
        "<a href=\"https://colab.research.google.com/github/Amal-Alalami/FinalProject/blob/main/CNNModel.ipynb\" target=\"_parent\"><img src=\"https://colab.research.google.com/assets/colab-badge.svg\" alt=\"Open In Colab\"/></a>"
      ]
    },
    {
      "cell_type": "code",
      "execution_count": 1,
      "metadata": {
        "id": "NFtM0zcbyU8U"
      },
      "outputs": [],
      "source": [
        "import cv2\n",
        "import os\n",
        "import pandas as pd\n",
        "import seaborn as sns\n",
        "import tensorflow as tf\n",
        "import numpy as np\n",
        "\n",
        "import matplotlib.pyplot as plt\n",
        "from imblearn.over_sampling import SMOTE\n",
        "from google.colab.patches import cv2_imshow\n",
        "from sklearn.model_selection import train_test_split\n",
        "from sklearn.metrics import confusion_matrix\n",
        "from sklearn.metrics import classification_report\n",
        "\n",
        "# to generate data\n",
        "from keras.preprocessing.image import ImageDataGenerator\n",
        "\n",
        "# to build model\n",
        "from keras.models import Sequential\n",
        "from keras.layers import Dense,Conv2D,MaxPool2D,Flatten,Dropout\n",
        "%matplotlib inline"
      ]
    },
    {
      "cell_type": "markdown",
      "source": [
        "# Upload Dataset"
      ],
      "metadata": {
        "id": "UTGIyVtefqsg"
      }
    },
    {
      "cell_type": "code",
      "source": [
        "!7z x archive.zip\n"
      ],
      "metadata": {
        "colab": {
          "base_uri": "https://localhost:8080/"
        },
        "id": "jBCO88_7ycdk",
        "outputId": "3eb59ccc-f27b-4ed8-c88e-b6b845a0b969"
      },
      "execution_count": 2,
      "outputs": [
        {
          "output_type": "stream",
          "name": "stdout",
          "text": [
            "\n",
            "7-Zip [64] 16.02 : Copyright (c) 1999-2016 Igor Pavlov : 2016-05-21\n",
            "p7zip Version 16.02 (locale=en_US.UTF-8,Utf16=on,HugeFiles=on,64 bits,2 CPUs Intel(R) Xeon(R) CPU @ 2.20GHz (406F0),ASM,AES-NI)\n",
            "\n",
            "Scanning the drive for archives:\n",
            "  0M Scan\b\b\b\b\b\b\b\b\b         \b\b\b\b\b\b\b\b\b1 file, 35779075 bytes (35 MiB)\n",
            "\n",
            "Extracting archive: archive.zip\n",
            " 64% 4096 Open\b\b\b\b\b\b\b\b\b\b\b\b\b\b              \b\b\b\b\b\b\b\b\b\b\b\b\b\b--\n",
            "Path = archive.zip\n",
            "Type = zip\n",
            "Physical Size = 35779075\n",
            "\n",
            "  0%\b\b\b\b    \b\b\b\b 11% 777 - Alzheimer_s Dataset/test/NonDemented/32 (51).jpg\b\b\b\b\b\b\b\b\b\b\b\b\b\b\b\b\b\b\b\b\b\b\b\b\b\b\b\b\b\b\b\b\b\b\b\b\b\b\b\b\b\b\b\b\b\b\b\b\b\b\b\b\b\b\b\b\b\b\b                                                           \b\b\b\b\b\b\b\b\b\b\b\b\b\b\b\b\b\b\b\b\b\b\b\b\b\b\b\b\b\b\b\b\b\b\b\b\b\b\b\b\b\b\b\b\b\b\b\b\b\b\b\b\b\b\b\b\b\b\b 23% 1573 - Alzheimer_s Dataset/train/MildDemented/mildDem363.jpg\b\b\b\b\b\b\b\b\b\b\b\b\b\b\b\b\b\b\b\b\b\b\b\b\b\b\b\b\b\b\b\b\b\b\b\b\b\b\b\b\b\b\b\b\b\b\b\b\b\b\b\b\b\b\b\b\b\b\b\b\b\b\b\b\b                                                                 \b\b\b\b\b\b\b\b\b\b\b\b\b\b\b\b\b\b\b\b\b\b\b\b\b\b\b\b\b\b\b\b\b\b\b\b\b\b\b\b\b\b\b\b\b\b\b\b\b\b\b\b\b\b\b\b\b\b\b\b\b\b\b\b\b 33% 2210 - Alzheimer_s Dataset/train/NonDemented/nonDem1143.jpg\b\b\b\b\b\b\b\b\b\b\b\b\b\b\b\b\b\b\b\b\b\b\b\b\b\b\b\b\b\b\b\b\b\b\b\b\b\b\b\b\b\b\b\b\b\b\b\b\b\b\b\b\b\b\b\b\b\b\b\b\b\b\b\b                                                                \b\b\b\b\b\b\b\b\b\b\b\b\b\b\b\b\b\b\b\b\b\b\b\b\b\b\b\b\b\b\b\b\b\b\b\b\b\b\b\b\b\b\b\b\b\b\b\b\b\b\b\b\b\b\b\b\b\b\b\b\b\b\b\b 43% 2795 - Alzheimer_s Dataset/train/NonDemented/nonDem1670.jpg\b\b\b\b\b\b\b\b\b\b\b\b\b\b\b\b\b\b\b\b\b\b\b\b\b\b\b\b\b\b\b\b\b\b\b\b\b\b\b\b\b\b\b\b\b\b\b\b\b\b\b\b\b\b\b\b\b\b\b\b\b\b\b\b                                                                \b\b\b\b\b\b\b\b\b\b\b\b\b\b\b\b\b\b\b\b\b\b\b\b\b\b\b\b\b\b\b\b\b\b\b\b\b\b\b\b\b\b\b\b\b\b\b\b\b\b\b\b\b\b\b\b\b\b\b\b\b\b\b\b 48% 3153 - Alzheimer_s Dataset/train/NonDemented/nonDem1993.jpg\b\b\b\b\b\b\b\b\b\b\b\b\b\b\b\b\b\b\b\b\b\b\b\b\b\b\b\b\b\b\b\b\b\b\b\b\b\b\b\b\b\b\b\b\b\b\b\b\b\b\b\b\b\b\b\b\b\b\b\b\b\b\b\b                                                                \b\b\b\b\b\b\b\b\b\b\b\b\b\b\b\b\b\b\b\b\b\b\b\b\b\b\b\b\b\b\b\b\b\b\b\b\b\b\b\b\b\b\b\b\b\b\b\b\b\b\b\b\b\b\b\b\b\b\b\b\b\b\b\b 53% 3452 - Alzheimer_s Dataset/train/NonDemented/nonDem2261.jpg\b\b\b\b\b\b\b\b\b\b\b\b\b\b\b\b\b\b\b\b\b\b\b\b\b\b\b\b\b\b\b\b\b\b\b\b\b\b\b\b\b\b\b\b\b\b\b\b\b\b\b\b\b\b\b\b\b\b\b\b\b\b\b\b                                                                \b\b\b\b\b\b\b\b\b\b\b\b\b\b\b\b\b\b\b\b\b\b\b\b\b\b\b\b\b\b\b\b\b\b\b\b\b\b\b\b\b\b\b\b\b\b\b\b\b\b\b\b\b\b\b\b\b\b\b\b\b\b\b\b 57% 3721 - Alzheimer_s Dataset/train/NonDemented/nonDem2503.jpg\b\b\b\b\b\b\b\b\b\b\b\b\b\b\b\b\b\b\b\b\b\b\b\b\b\b\b\b\b\b\b\b\b\b\b\b\b\b\b\b\b\b\b\b\b\b\b\b\b\b\b\b\b\b\b\b\b\b\b\b\b\b\b\b                                                                \b\b\b\b\b\b\b\b\b\b\b\b\b\b\b\b\b\b\b\b\b\b\b\b\b\b\b\b\b\b\b\b\b\b\b\b\b\b\b\b\b\b\b\b\b\b\b\b\b\b\b\b\b\b\b\b\b\b\b\b\b\b\b\b 61% 3954 - Alzheimer_s Dataset/train/NonDemented/nonDem41.jpg\b\b\b\b\b\b\b\b\b\b\b\b\b\b\b\b\b\b\b\b\b\b\b\b\b\b\b\b\b\b\b\b\b\b\b\b\b\b\b\b\b\b\b\b\b\b\b\b\b\b\b\b\b\b\b\b\b\b\b\b\b\b                                                              \b\b\b\b\b\b\b\b\b\b\b\b\b\b\b\b\b\b\b\b\b\b\b\b\b\b\b\b\b\b\b\b\b\b\b\b\b\b\b\b\b\b\b\b\b\b\b\b\b\b\b\b\b\b\b\b\b\b\b\b\b\b 64% 4164 - Alzheimer_s Dataset/train/NonDemented/nonDem6.jpg\b\b\b\b\b\b\b\b\b\b\b\b\b\b\b\b\b\b\b\b\b\b\b\b\b\b\b\b\b\b\b\b\b\b\b\b\b\b\b\b\b\b\b\b\b\b\b\b\b\b\b\b\b\b\b\b\b\b\b\b\b                                                             \b\b\b\b\b\b\b\b\b\b\b\b\b\b\b\b\b\b\b\b\b\b\b\b\b\b\b\b\b\b\b\b\b\b\b\b\b\b\b\b\b\b\b\b\b\b\b\b\b\b\b\b\b\b\b\b\b\b\b\b\b 67% 4352 - Alzheimer_s Dataset/train/NonDemented/nonDem769.jpg\b\b\b\b\b\b\b\b\b\b\b\b\b\b\b\b\b\b\b\b\b\b\b\b\b\b\b\b\b\b\b\b\b\b\b\b\b\b\b\b\b\b\b\b\b\b\b\b\b\b\b\b\b\b\b\b\b\b\b\b\b\b\b                                                               \b\b\b\b\b\b\b\b\b\b\b\b\b\b\b\b\b\b\b\b\b\b\b\b\b\b\b\b\b\b\b\b\b\b\b\b\b\b\b\b\b\b\b\b\b\b\b\b\b\b\b\b\b\b\b\b\b\b\b\b\b\b\b 70% 4534 - Alzheimer_s Dataset/train/NonDemented/nonDem932.jpg\b\b\b\b\b\b\b\b\b\b\b\b\b\b\b\b\b\b\b\b\b\b\b\b\b\b\b\b\b\b\b\b\b\b\b\b\b\b\b\b\b\b\b\b\b\b\b\b\b\b\b\b\b\b\b\b\b\b\b\b\b\b\b                                                               \b\b\b\b\b\b\b\b\b\b\b\b\b\b\b\b\b\b\b\b\b\b\b\b\b\b\b\b\b\b\b\b\b\b\b\b\b\b\b\b\b\b\b\b\b\b\b\b\b\b\b\b\b\b\b\b\b\b\b\b\b\b\b 78% 5075 - Alzheimer_s Dataset/train/VeryMildDemented/verymildDem1418.jpg\b\b\b\b\b\b\b\b\b\b\b\b\b\b\b\b\b\b\b\b\b\b\b\b\b\b\b\b\b\b\b\b\b\b\b\b\b\b\b\b\b\b\b\b\b\b\b\b\b\b\b\b\b\b\b\b\b\b\b\b\b\b\b\b\b\b\b\b\b\b\b\b\b\b                                                                          \b\b\b\b\b\b\b\b\b\b\b\b\b\b\b\b\b\b\b\b\b\b\b\b\b\b\b\b\b\b\b\b\b\b\b\b\b\b\b\b\b\b\b\b\b\b\b\b\b\b\b\b\b\b\b\b\b\b\b\b\b\b\b\b\b\b\b\b\b\b\b\b\b\b 85% 5526 - Alzheimer_s Dataset/train/VeryMildDemented/verymildDem211.jpg\b\b\b\b\b\b\b\b\b\b\b\b\b\b\b\b\b\b\b\b\b\b\b\b\b\b\b\b\b\b\b\b\b\b\b\b\b\b\b\b\b\b\b\b\b\b\b\b\b\b\b\b\b\b\b\b\b\b\b\b\b\b\b\b\b\b\b\b\b\b\b\b\b                                                                         \b\b\b\b\b\b\b\b\b\b\b\b\b\b\b\b\b\b\b\b\b\b\b\b\b\b\b\b\b\b\b\b\b\b\b\b\b\b\b\b\b\b\b\b\b\b\b\b\b\b\b\b\b\b\b\b\b\b\b\b\b\b\b\b\b\b\b\b\b\b\b\b\b 91% 5867 - Alzheimer_s Dataset/train/VeryMildDemented/verymildDem519.jpg\b\b\b\b\b\b\b\b\b\b\b\b\b\b\b\b\b\b\b\b\b\b\b\b\b\b\b\b\b\b\b\b\b\b\b\b\b\b\b\b\b\b\b\b\b\b\b\b\b\b\b\b\b\b\b\b\b\b\b\b\b\b\b\b\b\b\b\b\b\b\b\b\b                                                                         \b\b\b\b\b\b\b\b\b\b\b\b\b\b\b\b\b\b\b\b\b\b\b\b\b\b\b\b\b\b\b\b\b\b\b\b\b\b\b\b\b\b\b\b\b\b\b\b\b\b\b\b\b\b\b\b\b\b\b\b\b\b\b\b\b\b\b\b\b\b\b\b\b 95% 6131 - Alzheimer_s Dataset/train/VeryMildDemented/verymildDem757.jpg\b\b\b\b\b\b\b\b\b\b\b\b\b\b\b\b\b\b\b\b\b\b\b\b\b\b\b\b\b\b\b\b\b\b\b\b\b\b\b\b\b\b\b\b\b\b\b\b\b\b\b\b\b\b\b\b\b\b\b\b\b\b\b\b\b\b\b\b\b\b\b\b\b                                                                         \b\b\b\b\b\b\b\b\b\b\b\b\b\b\b\b\b\b\b\b\b\b\b\b\b\b\b\b\b\b\b\b\b\b\b\b\b\b\b\b\b\b\b\b\b\b\b\b\b\b\b\b\b\b\b\b\b\b\b\b\b\b\b\b\b\b\b\b\b\b\b\b\b 99% 6380 - Alzheimer_s Dataset/train/VeryMildDemented/verymildDem981.jpg\b\b\b\b\b\b\b\b\b\b\b\b\b\b\b\b\b\b\b\b\b\b\b\b\b\b\b\b\b\b\b\b\b\b\b\b\b\b\b\b\b\b\b\b\b\b\b\b\b\b\b\b\b\b\b\b\b\b\b\b\b\b\b\b\b\b\b\b\b\b\b\b\b                                                                         \b\b\b\b\b\b\b\b\b\b\b\b\b\b\b\b\b\b\b\b\b\b\b\b\b\b\b\b\b\b\b\b\b\b\b\b\b\b\b\b\b\b\b\b\b\b\b\b\b\b\b\b\b\b\b\b\b\b\b\b\b\b\b\b\b\b\b\b\b\b\b\b\bEverything is Ok\n",
            "\n",
            "Files: 6400\n",
            "Size:       34703396\n",
            "Compressed: 35779075\n"
          ]
        }
      ]
    },
    {
      "cell_type": "markdown",
      "source": [
        "# **Visualize Sample Images**"
      ],
      "metadata": {
        "id": "15xS79d9Kwcq"
      }
    },
    {
      "cell_type": "code",
      "source": [
        "# Method to print sample images from each class\n",
        "\n",
        "def print_sample_images(train_path, class_labels):\n",
        "\n",
        "  plt.figure(figsize=(10, 10))\n",
        "  for i, class_name in enumerate(class_labels):\n",
        "\n",
        "    # Get a random image from the class directory\n",
        "    img_name = np.random.choice(os.listdir(os.path.join(train_path, class_name)))\n",
        "    img_path = os.path.join(train_path, class_name, img_name)\n",
        "\n",
        "    img = cv2.imread(img_path)\n",
        "    img = cv2.cvtColor(img, cv2.COLOR_BGR2RGB)\n",
        "\n",
        "    plt.subplot(4, 4, i+1)\n",
        "    plt.imshow(img)\n",
        "    plt.title(class_name)\n",
        "    plt.axis('off')\n",
        "\n",
        "  plt.show()"
      ],
      "metadata": {
        "id": "MNs1CHmuLvfE"
      },
      "execution_count": 3,
      "outputs": []
    },
    {
      "cell_type": "markdown",
      "source": [
        "**Sample of train images before pre-processing data from each class**"
      ],
      "metadata": {
        "id": "-lsv3c149KfM"
      }
    },
    {
      "cell_type": "code",
      "source": [
        "train_dir = '/content/Alzheimer_s Dataset/train'\n",
        "class_names = os.listdir('/content/Alzheimer_s Dataset/train')\n",
        "print_sample_images(train_dir, class_names)"
      ],
      "metadata": {
        "colab": {
          "base_uri": "https://localhost:8080/",
          "height": 226
        },
        "id": "hRLa4rFmyi2A",
        "outputId": "c0aab977-caa6-4cd6-aaac-e5856e5e4ac2"
      },
      "execution_count": 4,
      "outputs": [
        {
          "output_type": "display_data",
          "data": {
            "text/plain": [
              "<Figure size 1000x1000 with 4 Axes>"
            ],
            "image/png": "[encoded data removed]"
          },
          "metadata": {}
        }
      ]
    },
    {
      "cell_type": "markdown",
      "source": [
        "# Images in train data"
      ],
      "metadata": {
        "id": "T93m2V-sVDhV"
      }
    },
    {
      "cell_type": "code",
      "source": [
        "train_folder = '/content/Alzheimer_s Dataset/train'\n",
        "class_names_train_folder = os.listdir(train_folder)\n",
        "class_count = []\n",
        "\n",
        "for class_name in class_names_train_folder:\n",
        "  num_images = len(os.listdir(os.path.join(train_folder, class_name)))\n",
        "  class_count.append(num_images)\n",
        "  print(f\"Class {class_name}: {num_images} images\")\n"
      ],
      "metadata": {
        "id": "iniRBG6wVCwo",
        "outputId": "8211da42-de0d-47b3-8298-ea18a5daf1fc",
        "colab": {
          "base_uri": "https://localhost:8080/"
        }
      },
      "execution_count": 5,
      "outputs": [
        {
          "output_type": "stream",
          "name": "stdout",
          "text": [
            "Class MildDemented: 717 images\n",
            "Class VeryMildDemented: 1792 images\n",
            "Class ModerateDemented: 52 images\n",
            "Class NonDemented: 2560 images\n"
          ]
        }
      ]
    },
    {
      "cell_type": "code",
      "source": [
        "\n",
        "plt.figure(figsize=(10, 6))\n",
        "plt.bar(class_names_train_folder, class_count)\n",
        "\n",
        "plt.title('The Number Of Images In Train folder For Each Class', fontsize=20)\n",
        "plt.xlabel(\"Class\", fontsize = 20)\n",
        "plt.ylabel(\"Number of Images\", fontsize=20)\n",
        "plt.xticks(rotation=45)\n",
        "\n",
        "plt.show()\n"
      ],
      "metadata": {
        "colab": {
          "base_uri": "https://localhost:8080/",
          "height": 680
        },
        "id": "BY581UoIQ8xG",
        "outputId": "98215078-91be-4ebb-9370-67adce2304b2"
      },
      "execution_count": 6,
      "outputs": [
        {
          "output_type": "display_data",
          "data": {
            "text/plain": [
              "<Figure size 1000x600 with 1 Axes>"
            ],
            "image/png": "[encoded data removed]"
          },
          "metadata": {}
        }
      ]
    },
    {
      "cell_type": "markdown",
      "source": [
        "# **Train Test split and Build Model**"
      ],
      "metadata": {
        "id": "2Jb3kOW7vsuK"
      }
    },
    {
      "cell_type": "code",
      "source": [
        "#  Loads all images and labels from a directory and converts them to a NumPy array.\n",
        "\n",
        "def load_train_data(data_dir):\n",
        "\n",
        "  image_width, image_height = 128, 128\n",
        "  class_names = os.listdir(data_dir)\n",
        "  class_name_to_label = {class_name: i for i, class_name in enumerate(class_names)}\n",
        "  images = []\n",
        "  labels = []\n",
        "\n",
        "  for class_name in class_names:\n",
        "    class_path = os.path.join(data_dir, class_name)\n",
        "    for filename in os.listdir(class_path):\n",
        "\n",
        "      image_path = os.path.join(class_path, filename)\n",
        "      image = cv2.imread(image_path)\n",
        "      image = cv2.cvtColor(image, cv2.COLOR_RGB2GRAY)\n",
        "      image = cv2.resize(image, (image_width, image_height))\n",
        "      image = image / 255.0 #normalize\n",
        "\n",
        "      label = class_name_to_label[class_name]\n",
        "      images.append(image)\n",
        "      labels.append(label)\n",
        "\n",
        "  # Convert the list of images to a NumPy array\n",
        "  X_train = np.asarray(images)\n",
        "  Y_train = np.asarray(labels)\n",
        "\n",
        "  return X_train, Y_train"
      ],
      "metadata": {
        "id": "1Iocg5AKsIE-"
      },
      "execution_count": 7,
      "outputs": []
    },
    {
      "cell_type": "code",
      "source": [
        "X_train , Y_train = load_train_data('/content/Alzheimer_s Dataset/train')"
      ],
      "metadata": {
        "id": "YvrnA0B9rb8O"
      },
      "execution_count": 8,
      "outputs": []
    },
    {
      "cell_type": "code",
      "source": [
        "print(f\"X_train shape: {X_train.shape}\")\n",
        "print(f\"Y_train shape: {Y_train.shape}\")"
      ],
      "metadata": {
        "colab": {
          "base_uri": "https://localhost:8080/"
        },
        "id": "R0abbyc4tbMP",
        "outputId": "f5549b14-6b1e-4176-8468-e76c085d746c"
      },
      "execution_count": 9,
      "outputs": [
        {
          "output_type": "stream",
          "name": "stdout",
          "text": [
            "X_train shape: (5121, 128, 128)\n",
            "Y_train shape: (5121,)\n"
          ]
        }
      ]
    },
    {
      "cell_type": "code",
      "source": [
        "Y_train"
      ],
      "metadata": {
        "colab": {
          "base_uri": "https://localhost:8080/"
        },
        "id": "0TXGmPsWvF-r",
        "outputId": "40fdaa66-8dfe-484d-c0e5-58e8629afc33"
      },
      "execution_count": 10,
      "outputs": [
        {
          "output_type": "execute_result",
          "data": {
            "text/plain": [
              "array([0, 0, 0, ..., 3, 3, 3])"
            ]
          },
          "metadata": {},
          "execution_count": 10
        }
      ]
    },
    {
      "cell_type": "code",
      "source": [
        "Y_train = tf.keras.utils.to_categorical(Y_train)"
      ],
      "metadata": {
        "id": "IrL-98W9vRTM"
      },
      "execution_count": 11,
      "outputs": []
    },
    {
      "cell_type": "code",
      "source": [
        "Y_train"
      ],
      "metadata": {
        "colab": {
          "base_uri": "https://localhost:8080/"
        },
        "id": "rqmsAPH1vSed",
        "outputId": "1bb6bf8f-4505-4eba-c014-db3dffccc979"
      },
      "execution_count": 12,
      "outputs": [
        {
          "output_type": "execute_result",
          "data": {
            "text/plain": [
              "array([[1., 0., 0., 0.],\n",
              "       [1., 0., 0., 0.],\n",
              "       [1., 0., 0., 0.],\n",
              "       ...,\n",
              "       [0., 0., 0., 1.],\n",
              "       [0., 0., 0., 1.],\n",
              "       [0., 0., 0., 1.]], dtype=float32)"
            ]
          },
          "metadata": {},
          "execution_count": 12
        }
      ]
    },
    {
      "cell_type": "code",
      "source": [
        "print(Y_train.shape)"
      ],
      "metadata": {
        "colab": {
          "base_uri": "https://localhost:8080/"
        },
        "id": "N1mHKXfsZ6jH",
        "outputId": "60668571-d951-42ee-f78a-a707dc9bcd4d"
      },
      "execution_count": 13,
      "outputs": [
        {
          "output_type": "stream",
          "name": "stdout",
          "text": [
            "(5121, 4)\n"
          ]
        }
      ]
    },
    {
      "cell_type": "code",
      "source": [
        "X_test , Y_test = load_train_data('/content/Alzheimer_s Dataset/test')"
      ],
      "metadata": {
        "id": "EluaLMR0vaed"
      },
      "execution_count": 17,
      "outputs": []
    },
    {
      "cell_type": "code",
      "source": [
        "print(f\"X_test original shape: {X_test.shape}\")\n",
        "print(f\"Y_test original shape: {Y_test.shape}\")"
      ],
      "metadata": {
        "colab": {
          "base_uri": "https://localhost:8080/"
        },
        "id": "fHHjrxCzz2Vg",
        "outputId": "bc63f5df-5a2a-41c2-fbb2-dd6007664e25"
      },
      "execution_count": 18,
      "outputs": [
        {
          "output_type": "stream",
          "name": "stdout",
          "text": [
            "X_test original shape: (1279, 128, 128)\n",
            "Y_test original shape: (1279,)\n"
          ]
        }
      ]
    },
    {
      "cell_type": "code",
      "source": [
        "X_val, X_test, Y_val , Y_test = train_test_split(X_test, Y_test, test_size=0.7, random_state=42)\n"
      ],
      "metadata": {
        "id": "J24_Ap4nJB18"
      },
      "execution_count": 19,
      "outputs": []
    },
    {
      "cell_type": "code",
      "source": [
        "print(f\"X_test shape: {X_test.shape}\")\n",
        "print(f\"Y_test shape: {Y_test.shape}\")"
      ],
      "metadata": {
        "id": "Pgdmn6R9JYZJ",
        "outputId": "83832edf-e2b8-441d-fcdf-d194ff90154e",
        "colab": {
          "base_uri": "https://localhost:8080/"
        }
      },
      "execution_count": 20,
      "outputs": [
        {
          "output_type": "stream",
          "name": "stdout",
          "text": [
            "X_test shape: (896, 128, 128)\n",
            "Y_test shape: (896,)\n"
          ]
        }
      ]
    },
    {
      "cell_type": "code",
      "source": [
        "print(f\"X_validation shape: {X_val.shape}\")\n",
        "print(f\"Y_validation shape: {Y_val.shape}\")"
      ],
      "metadata": {
        "id": "SePyyNCSJZkJ",
        "outputId": "63fefd4f-1500-4dd5-e37c-7a4d7462a996",
        "colab": {
          "base_uri": "https://localhost:8080/"
        }
      },
      "execution_count": 22,
      "outputs": [
        {
          "output_type": "stream",
          "name": "stdout",
          "text": [
            "X_validation shape: (383, 128, 128)\n",
            "Y_validation shape: (383,)\n"
          ]
        }
      ]
    },
    {
      "cell_type": "code",
      "source": [
        "Y_test"
      ],
      "metadata": {
        "colab": {
          "base_uri": "https://localhost:8080/"
        },
        "id": "dYx63ohEvlVv",
        "outputId": "10b557a0-b6c7-4b18-ae2d-908f5d1a5fb8"
      },
      "execution_count": 23,
      "outputs": [
        {
          "output_type": "execute_result",
          "data": {
            "text/plain": [
              "array([3, 3, 1, 3, 3, 1, 3, 3, 3, 3, 3, 1, 0, 0, 1, 1, 1, 3, 1, 1, 3, 3,\n",
              "       1, 1, 1, 3, 3, 3, 3, 3, 1, 3, 1, 0, 1, 3, 0, 1, 3, 3, 1, 1, 3, 0,\n",
              "       1, 3, 1, 0, 3, 3, 3, 3, 0, 0, 0, 1, 0, 3, 3, 3, 1, 1, 3, 3, 1, 3,\n",
              "       3, 1, 3, 3, 3, 1, 3, 0, 0, 3, 3, 3, 3, 1, 1, 1, 1, 3, 1, 3, 3, 1,\n",
              "       3, 1, 0, 1, 3, 3, 3, 0, 1, 0, 1, 3, 1, 1, 2, 3, 0, 3, 1, 1, 0, 3,\n",
              "       1, 1, 1, 3, 3, 1, 3, 3, 1, 3, 1, 1, 1, 3, 3, 3, 3, 3, 2, 3, 1, 1,\n",
              "       3, 3, 0, 3, 3, 0, 3, 3, 3, 0, 1, 1, 1, 1, 1, 3, 3, 1, 0, 0, 3, 1,\n",
              "       3, 3, 1, 1, 0, 3, 3, 3, 3, 3, 1, 3, 3, 3, 1, 1, 1, 0, 1, 3, 3, 3,\n",
              "       2, 0, 1, 1, 1, 1, 0, 3, 3, 1, 0, 3, 1, 0, 1, 3, 1, 3, 3, 3, 1, 1,\n",
              "       3, 3, 1, 3, 3, 1, 3, 1, 1, 3, 3, 3, 1, 3, 3, 3, 0, 1, 1, 1, 1, 1,\n",
              "       3, 1, 0, 1, 1, 1, 3, 3, 3, 3, 1, 3, 1, 1, 3, 0, 0, 3, 3, 3, 1, 1,\n",
              "       0, 1, 3, 3, 3, 1, 1, 3, 3, 3, 3, 3, 0, 1, 1, 3, 3, 3, 0, 3, 3, 3,\n",
              "       1, 1, 3, 3, 0, 1, 3, 1, 0, 1, 1, 1, 1, 3, 1, 1, 1, 1, 1, 3, 1, 3,\n",
              "       3, 1, 1, 3, 0, 3, 3, 3, 1, 3, 3, 0, 3, 3, 3, 3, 3, 3, 1, 1, 3, 1,\n",
              "       1, 0, 3, 1, 3, 3, 3, 3, 1, 3, 1, 1, 3, 3, 1, 3, 3, 3, 0, 0, 3, 1,\n",
              "       0, 3, 1, 1, 3, 3, 2, 1, 0, 1, 3, 3, 0, 1, 3, 1, 0, 3, 3, 1, 1, 1,\n",
              "       1, 3, 1, 3, 1, 3, 3, 3, 3, 3, 3, 3, 1, 3, 1, 3, 1, 3, 1, 1, 3, 3,\n",
              "       3, 0, 0, 1, 3, 0, 1, 3, 3, 3, 3, 3, 3, 0, 0, 3, 3, 3, 3, 3, 1, 1,\n",
              "       3, 1, 3, 1, 3, 3, 0, 0, 3, 3, 1, 3, 3, 1, 1, 1, 1, 3, 3, 3, 1, 0,\n",
              "       3, 0, 1, 1, 0, 1, 3, 1, 1, 3, 3, 3, 3, 3, 1, 1, 3, 3, 1, 3, 3, 1,\n",
              "       1, 1, 1, 3, 3, 0, 0, 1, 1, 3, 3, 1, 3, 3, 1, 3, 0, 3, 1, 1, 3, 1,\n",
              "       3, 3, 3, 1, 3, 1, 1, 1, 0, 1, 3, 0, 1, 0, 3, 0, 1, 1, 0, 3, 1, 1,\n",
              "       0, 1, 3, 3, 1, 1, 1, 3, 3, 1, 2, 1, 3, 1, 1, 3, 1, 3, 3, 1, 1, 3,\n",
              "       3, 1, 1, 0, 1, 3, 0, 1, 1, 1, 1, 1, 1, 1, 0, 3, 3, 1, 3, 3, 3, 3,\n",
              "       3, 1, 1, 0, 3, 0, 3, 1, 1, 0, 1, 1, 3, 3, 1, 0, 1, 3, 3, 3, 3, 3,\n",
              "       3, 1, 3, 1, 1, 3, 3, 1, 3, 3, 1, 3, 3, 0, 0, 3, 0, 3, 1, 1, 3, 3,\n",
              "       3, 0, 0, 3, 0, 1, 3, 3, 1, 3, 3, 1, 3, 3, 3, 0, 1, 3, 0, 1, 3, 1,\n",
              "       1, 0, 3, 1, 0, 3, 1, 3, 0, 1, 3, 1, 1, 3, 3, 1, 1, 3, 0, 1, 3, 1,\n",
              "       0, 3, 3, 3, 3, 0, 2, 3, 1, 1, 3, 3, 1, 3, 3, 3, 3, 3, 1, 3, 3, 3,\n",
              "       3, 1, 1, 1, 1, 3, 1, 0, 0, 3, 3, 3, 0, 3, 1, 3, 1, 3, 1, 3, 1, 1,\n",
              "       0, 1, 3, 1, 3, 3, 3, 3, 3, 0, 1, 0, 3, 1, 0, 3, 1, 3, 1, 1, 0, 0,\n",
              "       1, 3, 1, 3, 3, 1, 3, 1, 1, 3, 1, 1, 0, 0, 1, 1, 3, 3, 0, 3, 3, 0,\n",
              "       1, 3, 3, 1, 0, 3, 1, 3, 1, 1, 0, 0, 3, 3, 3, 1, 0, 3, 0, 3, 1, 3,\n",
              "       3, 3, 1, 1, 0, 3, 3, 3, 3, 1, 3, 3, 1, 3, 3, 1, 1, 3, 1, 1, 1, 3,\n",
              "       0, 0, 3, 3, 3, 3, 1, 0, 1, 3, 1, 3, 3, 1, 3, 3, 3, 3, 3, 3, 1, 3,\n",
              "       3, 3, 1, 1, 1, 3, 3, 3, 3, 1, 1, 1, 0, 3, 3, 1, 3, 1, 0, 1, 1, 1,\n",
              "       3, 0, 3, 3, 3, 1, 3, 3, 3, 0, 1, 3, 1, 0, 0, 1, 1, 1, 3, 1, 3, 1,\n",
              "       3, 3, 3, 3, 3, 0, 3, 1, 3, 1, 3, 0, 1, 1, 3, 1, 3, 3, 3, 1, 1, 3,\n",
              "       0, 3, 3, 1, 3, 0, 1, 3, 3, 3, 1, 3, 1, 1, 3, 1, 1, 3, 3, 0, 3, 0,\n",
              "       3, 1, 3, 0, 1, 3, 0, 0, 3, 3, 3, 1, 1, 3, 1, 1, 1, 1, 3, 1, 0, 2,\n",
              "       3, 3, 3, 1, 2, 3, 3, 3, 0, 3, 3, 0, 1, 3, 3, 0])"
            ]
          },
          "metadata": {},
          "execution_count": 23
        }
      ]
    },
    {
      "cell_type": "code",
      "source": [
        "Y_test_cat = tf.keras.utils.to_categorical(Y_test)"
      ],
      "metadata": {
        "id": "FVzCHTW1vnXL"
      },
      "execution_count": 24,
      "outputs": []
    },
    {
      "cell_type": "code",
      "source": [
        "print(Y_test_cat.shape)"
      ],
      "metadata": {
        "colab": {
          "base_uri": "https://localhost:8080/"
        },
        "id": "x8dTjhjLGzRb",
        "outputId": "06a2d35a-d2bc-46b5-e60c-a15fdfdc6e8a"
      },
      "execution_count": 25,
      "outputs": [
        {
          "output_type": "stream",
          "name": "stdout",
          "text": [
            "(896, 4)\n"
          ]
        }
      ]
    },
    {
      "cell_type": "code",
      "source": [
        "Y_test_cat"
      ],
      "metadata": {
        "colab": {
          "base_uri": "https://localhost:8080/"
        },
        "id": "vINQgFzqvr0U",
        "outputId": "ca439e84-f5f6-4b77-f581-7e01fba011c5"
      },
      "execution_count": 26,
      "outputs": [
        {
          "output_type": "execute_result",
          "data": {
            "text/plain": [
              "array([[0., 0., 0., 1.],\n",
              "       [0., 0., 0., 1.],\n",
              "       [0., 1., 0., 0.],\n",
              "       ...,\n",
              "       [0., 0., 0., 1.],\n",
              "       [0., 0., 0., 1.],\n",
              "       [1., 0., 0., 0.]], dtype=float32)"
            ]
          },
          "metadata": {},
          "execution_count": 26
        }
      ]
    },
    {
      "cell_type": "code",
      "source": [
        "Y_val"
      ],
      "metadata": {
        "id": "kcswxCJDJj3q",
        "outputId": "c5d0b54c-7317-4f6c-aead-c70f7f930b78",
        "colab": {
          "base_uri": "https://localhost:8080/"
        }
      },
      "execution_count": 27,
      "outputs": [
        {
          "output_type": "execute_result",
          "data": {
            "text/plain": [
              "array([1, 3, 3, 0, 3, 3, 3, 0, 2, 1, 1, 3, 3, 3, 3, 0, 1, 3, 3, 3, 1, 0,\n",
              "       0, 1, 1, 0, 1, 3, 1, 3, 3, 3, 3, 3, 1, 1, 3, 1, 0, 0, 3, 1, 3, 3,\n",
              "       0, 3, 3, 3, 3, 1, 3, 0, 1, 3, 3, 1, 1, 3, 1, 0, 3, 0, 3, 3, 1, 3,\n",
              "       3, 1, 3, 3, 3, 1, 3, 3, 3, 0, 0, 1, 3, 3, 3, 3, 3, 3, 1, 0, 2, 3,\n",
              "       3, 3, 3, 1, 1, 3, 3, 3, 3, 1, 3, 3, 3, 0, 0, 1, 1, 3, 3, 3, 3, 3,\n",
              "       1, 0, 3, 3, 3, 1, 1, 1, 1, 1, 3, 0, 3, 3, 3, 1, 1, 0, 1, 0, 0, 1,\n",
              "       3, 3, 3, 3, 3, 3, 1, 3, 1, 0, 1, 3, 1, 0, 3, 1, 3, 3, 3, 3, 3, 3,\n",
              "       3, 3, 0, 3, 3, 3, 3, 3, 0, 3, 1, 3, 0, 1, 3, 0, 0, 1, 1, 3, 0, 3,\n",
              "       3, 1, 1, 3, 3, 3, 3, 1, 1, 3, 1, 0, 1, 3, 3, 3, 1, 3, 1, 3, 0, 1,\n",
              "       3, 3, 3, 1, 1, 1, 0, 3, 3, 1, 3, 1, 1, 3, 1, 0, 1, 3, 1, 3, 3, 1,\n",
              "       3, 1, 3, 0, 0, 3, 3, 3, 3, 1, 3, 3, 1, 3, 3, 3, 2, 2, 3, 3, 3, 3,\n",
              "       3, 1, 3, 1, 3, 1, 3, 1, 3, 3, 1, 0, 3, 1, 3, 3, 3, 3, 1, 1, 3, 3,\n",
              "       1, 3, 3, 3, 3, 1, 3, 3, 3, 0, 3, 1, 1, 3, 3, 3, 3, 1, 0, 3, 0, 3,\n",
              "       1, 1, 1, 1, 1, 1, 3, 3, 3, 3, 1, 0, 0, 3, 3, 1, 1, 1, 3, 1, 3, 3,\n",
              "       3, 1, 3, 1, 3, 1, 3, 1, 3, 1, 0, 3, 1, 3, 3, 1, 3, 3, 3, 1, 0, 3,\n",
              "       1, 3, 0, 3, 1, 3, 1, 0, 1, 1, 1, 0, 3, 0, 3, 3, 3, 1, 3, 3, 3, 1,\n",
              "       3, 3, 1, 3, 1, 3, 3, 1, 0, 1, 3, 1, 3, 3, 1, 3, 1, 3, 0, 3, 3, 0,\n",
              "       1, 3, 1, 0, 3, 3, 3, 3, 3])"
            ]
          },
          "metadata": {},
          "execution_count": 27
        }
      ]
    },
    {
      "cell_type": "code",
      "source": [
        "Y_val_cat = tf.keras.utils.to_categorical(Y_val)"
      ],
      "metadata": {
        "id": "9sSMTukHJniz"
      },
      "execution_count": 28,
      "outputs": []
    },
    {
      "cell_type": "code",
      "source": [
        "print(Y_val_cat.shape)"
      ],
      "metadata": {
        "id": "dB1l7RLMJuRD",
        "outputId": "b25b6083-a771-4f7d-d25d-9635c9bb2832",
        "colab": {
          "base_uri": "https://localhost:8080/"
        }
      },
      "execution_count": 30,
      "outputs": [
        {
          "output_type": "stream",
          "name": "stdout",
          "text": [
            "(383, 4)\n"
          ]
        }
      ]
    },
    {
      "cell_type": "code",
      "source": [
        "Y_val_cat"
      ],
      "metadata": {
        "id": "C5qIM6U_Jrld",
        "outputId": "cdb3021d-bf29-40ea-fdd9-7872b999b7b3",
        "colab": {
          "base_uri": "https://localhost:8080/"
        }
      },
      "execution_count": 31,
      "outputs": [
        {
          "output_type": "execute_result",
          "data": {
            "text/plain": [
              "array([[0., 1., 0., 0.],\n",
              "       [0., 0., 0., 1.],\n",
              "       [0., 0., 0., 1.],\n",
              "       ...,\n",
              "       [0., 0., 0., 1.],\n",
              "       [0., 0., 0., 1.],\n",
              "       [0., 0., 0., 1.]], dtype=float32)"
            ]
          },
          "metadata": {},
          "execution_count": 31
        }
      ]
    },
    {
      "cell_type": "code",
      "source": [
        "# CNN model\n",
        "model1 = Sequential()\n",
        "inputSize = (128,128,1)\n",
        "\n",
        "#ilters=32, kernel_size=(4,4), input_shape=(28,28,1), activation='relu')\n",
        "model1.add(Conv2D(filters = 32, kernel_size=(3,3), input_shape=inputSize, activation='relu'))\n",
        "model1.add(MaxPool2D(pool_size=(2,2)))\n",
        "\n",
        "model1.add(Conv2D(filters = 32, kernel_size=(3,3), input_shape=inputSize, activation='relu'))\n",
        "model1.add(MaxPool2D(pool_size=(2,2)))\n",
        "\n",
        "model1.add(Conv2D(filters = 32, kernel_size=(3,3), input_shape=inputSize, activation='relu'))\n",
        "model1.add(MaxPool2D(pool_size=(2,2)))\n",
        "\n",
        "model1.add(Flatten())\n",
        "\n",
        "model1.add(Dense(1024, activation='relu'))\n",
        "model1.add(Dropout(0.2))\n",
        "\n",
        "model1.add(Dense(4, activation = 'softmax'))\n",
        "model1.compile(loss = 'categorical_crossentropy',\n",
        "              optimizer = 'adam',\n",
        "              metrics = ['accuracy'])"
      ],
      "metadata": {
        "id": "qyfIQ8gr7QZV"
      },
      "execution_count": 32,
      "outputs": []
    },
    {
      "cell_type": "code",
      "source": [
        "model1.summary()"
      ],
      "metadata": {
        "colab": {
          "base_uri": "https://localhost:8080/"
        },
        "id": "p-KxKdTWBtpn",
        "outputId": "c902764a-b63a-4433-ba60-3d2261d1cc58"
      },
      "execution_count": 33,
      "outputs": [
        {
          "output_type": "stream",
          "name": "stdout",
          "text": [
            "Model: \"sequential\"\n",
            "_________________________________________________________________\n",
            " Layer (type)                Output Shape              Param #   \n",
            "=================================================================\n",
            " conv2d (Conv2D)             (None, 126, 126, 32)      320       \n",
            "                                                                 \n",
            " max_pooling2d (MaxPooling2  (None, 63, 63, 32)        0         \n",
            " D)                                                              \n",
            "                                                                 \n",
            " conv2d_1 (Conv2D)           (None, 61, 61, 32)        9248      \n",
            "                                                                 \n",
            " max_pooling2d_1 (MaxPoolin  (None, 30, 30, 32)        0         \n",
            " g2D)                                                            \n",
            "                                                                 \n",
            " conv2d_2 (Conv2D)           (None, 28, 28, 32)        9248      \n",
            "                                                                 \n",
            " max_pooling2d_2 (MaxPoolin  (None, 14, 14, 32)        0         \n",
            " g2D)                                                            \n",
            "                                                                 \n",
            " flatten (Flatten)           (None, 6272)              0         \n",
            "                                                                 \n",
            " dense (Dense)               (None, 1024)              6423552   \n",
            "                                                                 \n",
            " dropout (Dropout)           (None, 1024)              0         \n",
            "                                                                 \n",
            " dense_1 (Dense)             (None, 4)                 4100      \n",
            "                                                                 \n",
            "=================================================================\n",
            "Total params: 6446468 (24.59 MB)\n",
            "Trainable params: 6446468 (24.59 MB)\n",
            "Non-trainable params: 0 (0.00 Byte)\n",
            "_________________________________________________________________\n"
          ]
        }
      ]
    },
    {
      "cell_type": "code",
      "source": [
        "results = model1.fit(X_train, Y_train, epochs=35, validation_data=(X_val, Y_val_cat))"
      ],
      "metadata": {
        "colab": {
          "base_uri": "https://localhost:8080/"
        },
        "id": "dIYSHz2HEwZ3",
        "outputId": "9e9880b8-aabe-44d2-9998-29f65a0e4782"
      },
      "execution_count": 34,
      "outputs": [
        {
          "output_type": "stream",
          "name": "stdout",
          "text": [
            "Epoch 1/35\n",
            "161/161 [==============================] - 113s 690ms/step - loss: 0.9795 - accuracy: 0.5343 - val_loss: 0.8874 - val_accuracy: 0.5953\n",
            "Epoch 2/35\n",
            "161/161 [==============================] - 107s 663ms/step - loss: 0.8157 - accuracy: 0.6313 - val_loss: 0.9187 - val_accuracy: 0.6319\n",
            "Epoch 3/35\n",
            "161/161 [==============================] - 108s 669ms/step - loss: 0.5418 - accuracy: 0.7629 - val_loss: 1.0603 - val_accuracy: 0.5640\n",
            "Epoch 4/35\n",
            "161/161 [==============================] - 113s 706ms/step - loss: 0.2938 - accuracy: 0.8858 - val_loss: 1.4722 - val_accuracy: 0.5640\n",
            "Epoch 5/35\n",
            "161/161 [==============================] - 105s 652ms/step - loss: 0.1525 - accuracy: 0.9440 - val_loss: 1.4742 - val_accuracy: 0.6031\n",
            "Epoch 6/35\n",
            "161/161 [==============================] - 105s 648ms/step - loss: 0.0671 - accuracy: 0.9770 - val_loss: 1.6374 - val_accuracy: 0.6345\n",
            "Epoch 7/35\n",
            "161/161 [==============================] - 102s 635ms/step - loss: 0.0478 - accuracy: 0.9857 - val_loss: 1.8926 - val_accuracy: 0.5875\n",
            "Epoch 8/35\n",
            "161/161 [==============================] - 108s 670ms/step - loss: 0.0454 - accuracy: 0.9836 - val_loss: 1.7708 - val_accuracy: 0.6710\n",
            "Epoch 9/35\n",
            "161/161 [==============================] - 102s 636ms/step - loss: 0.0102 - accuracy: 0.9975 - val_loss: 1.9600 - val_accuracy: 0.6345\n",
            "Epoch 10/35\n",
            "161/161 [==============================] - 108s 672ms/step - loss: 0.0081 - accuracy: 0.9979 - val_loss: 1.9846 - val_accuracy: 0.6658\n",
            "Epoch 11/35\n",
            "161/161 [==============================] - 105s 650ms/step - loss: 6.6128e-04 - accuracy: 1.0000 - val_loss: 2.1940 - val_accuracy: 0.6527\n",
            "Epoch 12/35\n",
            "161/161 [==============================] - 104s 644ms/step - loss: 4.2706e-04 - accuracy: 1.0000 - val_loss: 2.4903 - val_accuracy: 0.6475\n",
            "Epoch 13/35\n",
            "161/161 [==============================] - 103s 642ms/step - loss: 4.0711e-04 - accuracy: 1.0000 - val_loss: 2.4701 - val_accuracy: 0.6606\n",
            "Epoch 14/35\n",
            "161/161 [==============================] - 101s 628ms/step - loss: 2.5540e-04 - accuracy: 1.0000 - val_loss: 2.6293 - val_accuracy: 0.6345\n",
            "Epoch 15/35\n",
            "161/161 [==============================] - 107s 665ms/step - loss: 3.5131e-04 - accuracy: 1.0000 - val_loss: 2.7983 - val_accuracy: 0.6292\n",
            "Epoch 16/35\n",
            "161/161 [==============================] - 109s 676ms/step - loss: 2.1633e-04 - accuracy: 1.0000 - val_loss: 2.7337 - val_accuracy: 0.6449\n",
            "Epoch 17/35\n",
            "161/161 [==============================] - 109s 675ms/step - loss: 1.6998e-04 - accuracy: 1.0000 - val_loss: 2.5915 - val_accuracy: 0.6501\n",
            "Epoch 18/35\n",
            "161/161 [==============================] - 106s 661ms/step - loss: 1.4722e-04 - accuracy: 1.0000 - val_loss: 2.4457 - val_accuracy: 0.6710\n",
            "Epoch 19/35\n",
            "161/161 [==============================] - 104s 649ms/step - loss: 1.2855e-04 - accuracy: 1.0000 - val_loss: 2.4557 - val_accuracy: 0.6736\n",
            "Epoch 20/35\n",
            "161/161 [==============================] - 107s 664ms/step - loss: 7.9876e-05 - accuracy: 1.0000 - val_loss: 2.7397 - val_accuracy: 0.6501\n",
            "Epoch 21/35\n",
            "161/161 [==============================] - 105s 652ms/step - loss: 6.1875e-05 - accuracy: 1.0000 - val_loss: 2.7268 - val_accuracy: 0.6632\n",
            "Epoch 22/35\n",
            "161/161 [==============================] - 109s 677ms/step - loss: 5.1493e-05 - accuracy: 1.0000 - val_loss: 2.7145 - val_accuracy: 0.6554\n",
            "Epoch 23/35\n",
            "161/161 [==============================] - 111s 688ms/step - loss: 4.1210e-05 - accuracy: 1.0000 - val_loss: 2.8967 - val_accuracy: 0.6475\n",
            "Epoch 24/35\n",
            "161/161 [==============================] - 109s 679ms/step - loss: 4.8295e-05 - accuracy: 1.0000 - val_loss: 2.9758 - val_accuracy: 0.6449\n",
            "Epoch 25/35\n",
            "161/161 [==============================] - 111s 691ms/step - loss: 3.8481e-05 - accuracy: 1.0000 - val_loss: 2.9229 - val_accuracy: 0.6475\n",
            "Epoch 26/35\n",
            "161/161 [==============================] - 111s 691ms/step - loss: 3.9968e-05 - accuracy: 1.0000 - val_loss: 3.1102 - val_accuracy: 0.6371\n",
            "Epoch 27/35\n",
            "161/161 [==============================] - 106s 655ms/step - loss: 4.6269e-05 - accuracy: 1.0000 - val_loss: 2.9152 - val_accuracy: 0.6580\n",
            "Epoch 28/35\n",
            "161/161 [==============================] - 106s 657ms/step - loss: 3.1543e-05 - accuracy: 1.0000 - val_loss: 3.0593 - val_accuracy: 0.6397\n",
            "Epoch 29/35\n",
            "161/161 [==============================] - 106s 657ms/step - loss: 2.6144e-05 - accuracy: 1.0000 - val_loss: 3.1388 - val_accuracy: 0.6423\n",
            "Epoch 30/35\n",
            "161/161 [==============================] - 104s 648ms/step - loss: 5.3924e-05 - accuracy: 1.0000 - val_loss: 2.8514 - val_accuracy: 0.6762\n",
            "Epoch 31/35\n",
            "161/161 [==============================] - 104s 646ms/step - loss: 5.2929e-05 - accuracy: 1.0000 - val_loss: 2.8972 - val_accuracy: 0.6710\n",
            "Epoch 32/35\n",
            "161/161 [==============================] - 104s 642ms/step - loss: 2.1812e-05 - accuracy: 1.0000 - val_loss: 2.8907 - val_accuracy: 0.6710\n",
            "Epoch 33/35\n",
            "161/161 [==============================] - 105s 651ms/step - loss: 1.6803e-05 - accuracy: 1.0000 - val_loss: 3.0852 - val_accuracy: 0.6554\n",
            "Epoch 34/35\n",
            "161/161 [==============================] - 101s 628ms/step - loss: 0.4935 - accuracy: 0.8055 - val_loss: 0.8995 - val_accuracy: 0.5953\n",
            "Epoch 35/35\n",
            "161/161 [==============================] - 102s 631ms/step - loss: 0.3319 - accuracy: 0.8645 - val_loss: 1.0176 - val_accuracy: 0.6762\n"
          ]
        }
      ]
    },
    {
      "cell_type": "code",
      "source": [
        "print(model1.output_shape)"
      ],
      "metadata": {
        "id": "PAPdI8YsHE63",
        "colab": {
          "base_uri": "https://localhost:8080/"
        },
        "outputId": "1fb0ccfa-e558-434b-acf5-563be47beb5c"
      },
      "execution_count": 35,
      "outputs": [
        {
          "output_type": "stream",
          "name": "stdout",
          "text": [
            "(None, 4)\n"
          ]
        }
      ]
    },
    {
      "cell_type": "code",
      "source": [
        "hist_=pd.DataFrame(results.history)\n",
        "hist_"
      ],
      "metadata": {
        "colab": {
          "base_uri": "https://localhost:8080/",
          "height": 1000
        },
        "id": "JTD7k4UktUDx",
        "outputId": "10d45658-06db-4d7f-fc68-de5902a87aa8"
      },
      "execution_count": 36,
      "outputs": [
        {
          "output_type": "execute_result",
          "data": {
            "text/plain": [
              "        loss  accuracy  val_loss  val_accuracy\n",
              "0   0.979545  0.534271  0.887430      0.595300\n",
              "1   0.815666  0.631322  0.918732      0.631854\n",
              "2   0.541769  0.762937  1.060277      0.563969\n",
              "3   0.293775  0.885764  1.472241      0.563969\n",
              "4   0.152527  0.943956  1.474242      0.603133\n",
              "5   0.067058  0.976958  1.637373      0.634465\n",
              "6   0.047793  0.985745  1.892631      0.587467\n",
              "7   0.045371  0.983597  1.770848      0.671018\n",
              "8   0.010244  0.997461  1.960004      0.634465\n",
              "9   0.008139  0.997852  1.984569      0.665796\n",
              "10  0.000661  1.000000  2.193959      0.652741\n",
              "11  0.000427  1.000000  2.490307      0.647520\n",
              "12  0.000407  1.000000  2.470064      0.660574\n",
              "13  0.000255  1.000000  2.629310      0.634465\n",
              "14  0.000351  1.000000  2.798300      0.629243\n",
              "15  0.000216  1.000000  2.733655      0.644909\n",
              "16  0.000170  1.000000  2.591463      0.650131\n",
              "17  0.000147  1.000000  2.445740      0.671018\n",
              "18  0.000129  1.000000  2.455667      0.673629\n",
              "19  0.000080  1.000000  2.739742      0.650131\n",
              "20  0.000062  1.000000  2.726772      0.663185\n",
              "21  0.000051  1.000000  2.714462      0.655352\n",
              "22  0.000041  1.000000  2.896735      0.647520\n",
              "23  0.000048  1.000000  2.975778      0.644909\n",
              "24  0.000038  1.000000  2.922921      0.647520\n",
              "25  0.000040  1.000000  3.110184      0.637076\n",
              "26  0.000046  1.000000  2.915213      0.657963\n",
              "27  0.000032  1.000000  3.059260      0.639687\n",
              "28  0.000026  1.000000  3.138806      0.642298\n",
              "29  0.000054  1.000000  2.851385      0.676240\n",
              "30  0.000053  1.000000  2.897163      0.671018\n",
              "31  0.000022  1.000000  2.890695      0.671018\n",
              "32  0.000017  1.000000  3.085224      0.655352\n",
              "33  0.493465  0.805507  0.899451      0.595300\n",
              "34  0.331916  0.864480  1.017552      0.676240"
            ],
            "text/html": [
              "\n",
              "  <div id=\"df-88b177fe-9920-48af-8137-3c245aebef1b\" class=\"colab-df-container\">\n",
              "    <div>\n",
              "<style scoped>\n",
              "    .dataframe tbody tr th:only-of-type {\n",
              "        vertical-align: middle;\n",
              "    }\n",
              "\n",
              "    .dataframe tbody tr th {\n",
              "        vertical-align: top;\n",
              "    }\n",
              "\n",
              "    .dataframe thead th {\n",
              "        text-align: right;\n",
              "    }\n",
              "</style>\n",
              "<table border=\"1\" class=\"dataframe\">\n",
              "  <thead>\n",
              "    <tr style=\"text-align: right;\">\n",
              "      <th></th>\n",
              "      <th>loss</th>\n",
              "      <th>accuracy</th>\n",
              "      <th>val_loss</th>\n",
              "      <th>val_accuracy</th>\n",
              "    </tr>\n",
              "  </thead>\n",
              "  <tbody>\n",
              "    <tr>\n",
              "      <th>0</th>\n",
              "      <td>0.979545</td>\n",
              "      <td>0.534271</td>\n",
              "      <td>0.887430</td>\n",
              "      <td>0.595300</td>\n",
              "    </tr>\n",
              "    <tr>\n",
              "      <th>1</th>\n",
              "      <td>0.815666</td>\n",
              "      <td>0.631322</td>\n",
              "      <td>0.918732</td>\n",
              "      <td>0.631854</td>\n",
              "    </tr>\n",
              "    <tr>\n",
              "      <th>2</th>\n",
              "      <td>0.541769</td>\n",
              "      <td>0.762937</td>\n",
              "      <td>1.060277</td>\n",
              "      <td>0.563969</td>\n",
              "    </tr>\n",
              "    <tr>\n",
              "      <th>3</th>\n",
              "      <td>0.293775</td>\n",
              "      <td>0.885764</td>\n",
              "      <td>1.472241</td>\n",
              "      <td>0.563969</td>\n",
              "    </tr>\n",
              "    <tr>\n",
              "      <th>4</th>\n",
              "      <td>0.152527</td>\n",
              "      <td>0.943956</td>\n",
              "      <td>1.474242</td>\n",
              "      <td>0.603133</td>\n",
              "    </tr>\n",
              "    <tr>\n",
              "      <th>5</th>\n",
              "      <td>0.067058</td>\n",
              "      <td>0.976958</td>\n",
              "      <td>1.637373</td>\n",
              "      <td>0.634465</td>\n",
              "    </tr>\n",
              "    <tr>\n",
              "      <th>6</th>\n",
              "      <td>0.047793</td>\n",
              "      <td>0.985745</td>\n",
              "      <td>1.892631</td>\n",
              "      <td>0.587467</td>\n",
              "    </tr>\n",
              "    <tr>\n",
              "      <th>7</th>\n",
              "      <td>0.045371</td>\n",
              "      <td>0.983597</td>\n",
              "      <td>1.770848</td>\n",
              "      <td>0.671018</td>\n",
              "    </tr>\n",
              "    <tr>\n",
              "      <th>8</th>\n",
              "      <td>0.010244</td>\n",
              "      <td>0.997461</td>\n",
              "      <td>1.960004</td>\n",
              "      <td>0.634465</td>\n",
              "    </tr>\n",
              "    <tr>\n",
              "      <th>9</th>\n",
              "      <td>0.008139</td>\n",
              "      <td>0.997852</td>\n",
              "      <td>1.984569</td>\n",
              "      <td>0.665796</td>\n",
              "    </tr>\n",
              "    <tr>\n",
              "      <th>10</th>\n",
              "      <td>0.000661</td>\n",
              "      <td>1.000000</td>\n",
              "      <td>2.193959</td>\n",
              "      <td>0.652741</td>\n",
              "    </tr>\n",
              "    <tr>\n",
              "      <th>11</th>\n",
              "      <td>0.000427</td>\n",
              "      <td>1.000000</td>\n",
              "      <td>2.490307</td>\n",
              "      <td>0.647520</td>\n",
              "    </tr>\n",
              "    <tr>\n",
              "      <th>12</th>\n",
              "      <td>0.000407</td>\n",
              "      <td>1.000000</td>\n",
              "      <td>2.470064</td>\n",
              "      <td>0.660574</td>\n",
              "    </tr>\n",
              "    <tr>\n",
              "      <th>13</th>\n",
              "      <td>0.000255</td>\n",
              "      <td>1.000000</td>\n",
              "      <td>2.629310</td>\n",
              "      <td>0.634465</td>\n",
              "    </tr>\n",
              "    <tr>\n",
              "      <th>14</th>\n",
              "      <td>0.000351</td>\n",
              "      <td>1.000000</td>\n",
              "      <td>2.798300</td>\n",
              "      <td>0.629243</td>\n",
              "    </tr>\n",
              "    <tr>\n",
              "      <th>15</th>\n",
              "      <td>0.000216</td>\n",
              "      <td>1.000000</td>\n",
              "      <td>2.733655</td>\n",
              "      <td>0.644909</td>\n",
              "    </tr>\n",
              "    <tr>\n",
              "      <th>16</th>\n",
              "      <td>0.000170</td>\n",
              "      <td>1.000000</td>\n",
              "      <td>2.591463</td>\n",
              "      <td>0.650131</td>\n",
              "    </tr>\n",
              "    <tr>\n",
              "      <th>17</th>\n",
              "      <td>0.000147</td>\n",
              "      <td>1.000000</td>\n",
              "      <td>2.445740</td>\n",
              "      <td>0.671018</td>\n",
              "    </tr>\n",
              "    <tr>\n",
              "      <th>18</th>\n",
              "      <td>0.000129</td>\n",
              "      <td>1.000000</td>\n",
              "      <td>2.455667</td>\n",
              "      <td>0.673629</td>\n",
              "    </tr>\n",
              "    <tr>\n",
              "      <th>19</th>\n",
              "      <td>0.000080</td>\n",
              "      <td>1.000000</td>\n",
              "      <td>2.739742</td>\n",
              "      <td>0.650131</td>\n",
              "    </tr>\n",
              "    <tr>\n",
              "      <th>20</th>\n",
              "      <td>0.000062</td>\n",
              "      <td>1.000000</td>\n",
              "      <td>2.726772</td>\n",
              "      <td>0.663185</td>\n",
              "    </tr>\n",
              "    <tr>\n",
              "      <th>21</th>\n",
              "      <td>0.000051</td>\n",
              "      <td>1.000000</td>\n",
              "      <td>2.714462</td>\n",
              "      <td>0.655352</td>\n",
              "    </tr>\n",
              "    <tr>\n",
              "      <th>22</th>\n",
              "      <td>0.000041</td>\n",
              "      <td>1.000000</td>\n",
              "      <td>2.896735</td>\n",
              "      <td>0.647520</td>\n",
              "    </tr>\n",
              "    <tr>\n",
              "      <th>23</th>\n",
              "      <td>0.000048</td>\n",
              "      <td>1.000000</td>\n",
              "      <td>2.975778</td>\n",
              "      <td>0.644909</td>\n",
              "    </tr>\n",
              "    <tr>\n",
              "      <th>24</th>\n",
              "      <td>0.000038</td>\n",
              "      <td>1.000000</td>\n",
              "      <td>2.922921</td>\n",
              "      <td>0.647520</td>\n",
              "    </tr>\n",
              "    <tr>\n",
              "      <th>25</th>\n",
              "      <td>0.000040</td>\n",
              "      <td>1.000000</td>\n",
              "      <td>3.110184</td>\n",
              "      <td>0.637076</td>\n",
              "    </tr>\n",
              "    <tr>\n",
              "      <th>26</th>\n",
              "      <td>0.000046</td>\n",
              "      <td>1.000000</td>\n",
              "      <td>2.915213</td>\n",
              "      <td>0.657963</td>\n",
              "    </tr>\n",
              "    <tr>\n",
              "      <th>27</th>\n",
              "      <td>0.000032</td>\n",
              "      <td>1.000000</td>\n",
              "      <td>3.059260</td>\n",
              "      <td>0.639687</td>\n",
              "    </tr>\n",
              "    <tr>\n",
              "      <th>28</th>\n",
              "      <td>0.000026</td>\n",
              "      <td>1.000000</td>\n",
              "      <td>3.138806</td>\n",
              "      <td>0.642298</td>\n",
              "    </tr>\n",
              "    <tr>\n",
              "      <th>29</th>\n",
              "      <td>0.000054</td>\n",
              "      <td>1.000000</td>\n",
              "      <td>2.851385</td>\n",
              "      <td>0.676240</td>\n",
              "    </tr>\n",
              "    <tr>\n",
              "      <th>30</th>\n",
              "      <td>0.000053</td>\n",
              "      <td>1.000000</td>\n",
              "      <td>2.897163</td>\n",
              "      <td>0.671018</td>\n",
              "    </tr>\n",
              "    <tr>\n",
              "      <th>31</th>\n",
              "      <td>0.000022</td>\n",
              "      <td>1.000000</td>\n",
              "      <td>2.890695</td>\n",
              "      <td>0.671018</td>\n",
              "    </tr>\n",
              "    <tr>\n",
              "      <th>32</th>\n",
              "      <td>0.000017</td>\n",
              "      <td>1.000000</td>\n",
              "      <td>3.085224</td>\n",
              "      <td>0.655352</td>\n",
              "    </tr>\n",
              "    <tr>\n",
              "      <th>33</th>\n",
              "      <td>0.493465</td>\n",
              "      <td>0.805507</td>\n",
              "      <td>0.899451</td>\n",
              "      <td>0.595300</td>\n",
              "    </tr>\n",
              "    <tr>\n",
              "      <th>34</th>\n",
              "      <td>0.331916</td>\n",
              "      <td>0.864480</td>\n",
              "      <td>1.017552</td>\n",
              "      <td>0.676240</td>\n",
              "    </tr>\n",
              "  </tbody>\n",
              "</table>\n",
              "</div>\n",
              "    <div class=\"colab-df-buttons\">\n",
              "\n",
              "  <div class=\"colab-df-container\">\n",
              "    <button class=\"colab-df-convert\" onclick=\"convertToInteractive('df-88b177fe-9920-48af-8137-3c245aebef1b')\"\n",
              "            title=\"Convert this dataframe to an interactive table.\"\n",
              "            style=\"display:none;\">\n",
              "\n",
              "  <svg xmlns=\"http://www.w3.org/2000/svg\" height=\"24px\" viewBox=\"0 -960 960 960\">\n",
              "    <path d=\"M120-120v-720h720v720H120Zm60-500h600v-160H180v160Zm220 220h160v-160H400v160Zm0 220h160v-160H400v160ZM180-400h160v-160H180v160Zm440 0h160v-160H620v160ZM180-180h160v-160H180v160Zm440 0h160v-160H620v160Z\"/>\n",
              "  </svg>\n",
              "    </button>\n",
              "\n",
              "  <style>\n",
              "    .colab-df-container {\n",
              "      display:flex;\n",
              "      gap: 12px;\n",
              "    }\n",
              "\n",
              "    .colab-df-convert {\n",
              "      background-color: #E8F0FE;\n",
              "      border: none;\n",
              "      border-radius: 50%;\n",
              "      cursor: pointer;\n",
              "      display: none;\n",
              "      fill: #1967D2;\n",
              "      height: 32px;\n",
              "      padding: 0 0 0 0;\n",
              "      width: 32px;\n",
              "    }\n",
              "\n",
              "    .colab-df-convert:hover {\n",
              "      background-color: #E2EBFA;\n",
              "      box-shadow: 0px 1px 2px rgba(60, 64, 67, 0.3), 0px 1px 3px 1px rgba(60, 64, 67, 0.15);\n",
              "      fill: #174EA6;\n",
              "    }\n",
              "\n",
              "    .colab-df-buttons div {\n",
              "      margin-bottom: 4px;\n",
              "    }\n",
              "\n",
              "    [theme=dark] .colab-df-convert {\n",
              "      background-color: #3B4455;\n",
              "      fill: #D2E3FC;\n",
              "    }\n",
              "\n",
              "    [theme=dark] .colab-df-convert:hover {\n",
              "      background-color: #434B5C;\n",
              "      box-shadow: 0px 1px 3px 1px rgba(0, 0, 0, 0.15);\n",
              "      filter: drop-shadow(0px 1px 2px rgba(0, 0, 0, 0.3));\n",
              "      fill: #FFFFFF;\n",
              "    }\n",
              "  </style>\n",
              "\n",
              "    <script>\n",
              "      const buttonEl =\n",
              "        document.querySelector('#df-88b177fe-9920-48af-8137-3c245aebef1b button.colab-df-convert');\n",
              "      buttonEl.style.display =\n",
              "        google.colab.kernel.accessAllowed ? 'block' : 'none';\n",
              "\n",
              "      async function convertToInteractive(key) {\n",
              "        const element = document.querySelector('#df-88b177fe-9920-48af-8137-3c245aebef1b');\n",
              "        const dataTable =\n",
              "          await google.colab.kernel.invokeFunction('convertToInteractive',\n",
              "                                                    [key], {});\n",
              "        if (!dataTable) return;\n",
              "\n",
              "        const docLinkHtml = 'Like what you see? Visit the ' +\n",
              "          '<a target=\"_blank\" href=https://colab.research.google.com/notebooks/data_table.ipynb>data table notebook</a>'\n",
              "          + ' to learn more about interactive tables.';\n",
              "        element.innerHTML = '';\n",
              "        dataTable['output_type'] = 'display_data';\n",
              "        await google.colab.output.renderOutput(dataTable, element);\n",
              "        const docLink = document.createElement('div');\n",
              "        docLink.innerHTML = docLinkHtml;\n",
              "        element.appendChild(docLink);\n",
              "      }\n",
              "    </script>\n",
              "  </div>\n",
              "\n",
              "\n",
              "<div id=\"df-061e5146-af93-4c61-ba07-9672e72fff5b\">\n",
              "  <button class=\"colab-df-quickchart\" onclick=\"quickchart('df-061e5146-af93-4c61-ba07-9672e72fff5b')\"\n",
              "            title=\"Suggest charts\"\n",
              "            style=\"display:none;\">\n",
              "\n",
              "<svg xmlns=\"http://www.w3.org/2000/svg\" height=\"24px\"viewBox=\"0 0 24 24\"\n",
              "     width=\"24px\">\n",
              "    <g>\n",
              "        <path d=\"M19 3H5c-1.1 0-2 .9-2 2v14c0 1.1.9 2 2 2h14c1.1 0 2-.9 2-2V5c0-1.1-.9-2-2-2zM9 17H7v-7h2v7zm4 0h-2V7h2v10zm4 0h-2v-4h2v4z\"/>\n",
              "    </g>\n",
              "</svg>\n",
              "  </button>\n",
              "\n",
              "<style>\n",
              "  .colab-df-quickchart {\n",
              "      --bg-color: #E8F0FE;\n",
              "      --fill-color: #1967D2;\n",
              "      --hover-bg-color: #E2EBFA;\n",
              "      --hover-fill-color: #174EA6;\n",
              "      --disabled-fill-color: #AAA;\n",
              "      --disabled-bg-color: #DDD;\n",
              "  }\n",
              "\n",
              "  [theme=dark] .colab-df-quickchart {\n",
              "      --bg-color: #3B4455;\n",
              "      --fill-color: #D2E3FC;\n",
              "      --hover-bg-color: #434B5C;\n",
              "      --hover-fill-color: #FFFFFF;\n",
              "      --disabled-bg-color: #3B4455;\n",
              "      --disabled-fill-color: #666;\n",
              "  }\n",
              "\n",
              "  .colab-df-quickchart {\n",
              "    background-color: var(--bg-color);\n",
              "    border: none;\n",
              "    border-radius: 50%;\n",
              "    cursor: pointer;\n",
              "    display: none;\n",
              "    fill: var(--fill-color);\n",
              "    height: 32px;\n",
              "    padding: 0;\n",
              "    width: 32px;\n",
              "  }\n",
              "\n",
              "  .colab-df-quickchart:hover {\n",
              "    background-color: var(--hover-bg-color);\n",
              "    box-shadow: 0 1px 2px rgba(60, 64, 67, 0.3), 0 1px 3px 1px rgba(60, 64, 67, 0.15);\n",
              "    fill: var(--button-hover-fill-color);\n",
              "  }\n",
              "\n",
              "  .colab-df-quickchart-complete:disabled,\n",
              "  .colab-df-quickchart-complete:disabled:hover {\n",
              "    background-color: var(--disabled-bg-color);\n",
              "    fill: var(--disabled-fill-color);\n",
              "    box-shadow: none;\n",
              "  }\n",
              "\n",
              "  .colab-df-spinner {\n",
              "    border: 2px solid var(--fill-color);\n",
              "    border-color: transparent;\n",
              "    border-bottom-color: var(--fill-color);\n",
              "    animation:\n",
              "      spin 1s steps(1) infinite;\n",
              "  }\n",
              "\n",
              "  @keyframes spin {\n",
              "    0% {\n",
              "      border-color: transparent;\n",
              "      border-bottom-color: var(--fill-color);\n",
              "      border-left-color: var(--fill-color);\n",
              "    }\n",
              "    20% {\n",
              "      border-color: transparent;\n",
              "      border-left-color: var(--fill-color);\n",
              "      border-top-color: var(--fill-color);\n",
              "    }\n",
              "    30% {\n",
              "      border-color: transparent;\n",
              "      border-left-color: var(--fill-color);\n",
              "      border-top-color: var(--fill-color);\n",
              "      border-right-color: var(--fill-color);\n",
              "    }\n",
              "    40% {\n",
              "      border-color: transparent;\n",
              "      border-right-color: var(--fill-color);\n",
              "      border-top-color: var(--fill-color);\n",
              "    }\n",
              "    60% {\n",
              "      border-color: transparent;\n",
              "      border-right-color: var(--fill-color);\n",
              "    }\n",
              "    80% {\n",
              "      border-color: transparent;\n",
              "      border-right-color: var(--fill-color);\n",
              "      border-bottom-color: var(--fill-color);\n",
              "    }\n",
              "    90% {\n",
              "      border-color: transparent;\n",
              "      border-bottom-color: var(--fill-color);\n",
              "    }\n",
              "  }\n",
              "</style>\n",
              "\n",
              "  <script>\n",
              "    async function quickchart(key) {\n",
              "      const quickchartButtonEl =\n",
              "        document.querySelector('#' + key + ' button');\n",
              "      quickchartButtonEl.disabled = true;  // To prevent multiple clicks.\n",
              "      quickchartButtonEl.classList.add('colab-df-spinner');\n",
              "      try {\n",
              "        const charts = await google.colab.kernel.invokeFunction(\n",
              "            'suggestCharts', [key], {});\n",
              "      } catch (error) {\n",
              "        console.error('Error during call to suggestCharts:', error);\n",
              "      }\n",
              "      quickchartButtonEl.classList.remove('colab-df-spinner');\n",
              "      quickchartButtonEl.classList.add('colab-df-quickchart-complete');\n",
              "    }\n",
              "    (() => {\n",
              "      let quickchartButtonEl =\n",
              "        document.querySelector('#df-061e5146-af93-4c61-ba07-9672e72fff5b button');\n",
              "      quickchartButtonEl.style.display =\n",
              "        google.colab.kernel.accessAllowed ? 'block' : 'none';\n",
              "    })();\n",
              "  </script>\n",
              "</div>\n",
              "\n",
              "  <div id=\"id_8fa63bef-6064-43cc-b3d5-c99db15adb9e\">\n",
              "    <style>\n",
              "      .colab-df-generate {\n",
              "        background-color: #E8F0FE;\n",
              "        border: none;\n",
              "        border-radius: 50%;\n",
              "        cursor: pointer;\n",
              "        display: none;\n",
              "        fill: #1967D2;\n",
              "        height: 32px;\n",
              "        padding: 0 0 0 0;\n",
              "        width: 32px;\n",
              "      }\n",
              "\n",
              "      .colab-df-generate:hover {\n",
              "        background-color: #E2EBFA;\n",
              "        box-shadow: 0px 1px 2px rgba(60, 64, 67, 0.3), 0px 1px 3px 1px rgba(60, 64, 67, 0.15);\n",
              "        fill: #174EA6;\n",
              "      }\n",
              "\n",
              "      [theme=dark] .colab-df-generate {\n",
              "        background-color: #3B4455;\n",
              "        fill: #D2E3FC;\n",
              "      }\n",
              "\n",
              "      [theme=dark] .colab-df-generate:hover {\n",
              "        background-color: #434B5C;\n",
              "        box-shadow: 0px 1px 3px 1px rgba(0, 0, 0, 0.15);\n",
              "        filter: drop-shadow(0px 1px 2px rgba(0, 0, 0, 0.3));\n",
              "        fill: #FFFFFF;\n",
              "      }\n",
              "    </style>\n",
              "    <button class=\"colab-df-generate\" onclick=\"generateWithVariable('hist_')\"\n",
              "            title=\"Generate code using this dataframe.\"\n",
              "            style=\"display:none;\">\n",
              "\n",
              "  <svg xmlns=\"http://www.w3.org/2000/svg\" height=\"24px\"viewBox=\"0 0 24 24\"\n",
              "       width=\"24px\">\n",
              "    <path d=\"M7,19H8.4L18.45,9,17,7.55,7,17.6ZM5,21V16.75L18.45,3.32a2,2,0,0,1,2.83,0l1.4,1.43a1.91,1.91,0,0,1,.58,1.4,1.91,1.91,0,0,1-.58,1.4L9.25,21ZM18.45,9,17,7.55Zm-12,3A5.31,5.31,0,0,0,4.9,8.1,5.31,5.31,0,0,0,1,6.5,5.31,5.31,0,0,0,4.9,4.9,5.31,5.31,0,0,0,6.5,1,5.31,5.31,0,0,0,8.1,4.9,5.31,5.31,0,0,0,12,6.5,5.46,5.46,0,0,0,6.5,12Z\"/>\n",
              "  </svg>\n",
              "    </button>\n",
              "    <script>\n",
              "      (() => {\n",
              "      const buttonEl =\n",
              "        document.querySelector('#id_8fa63bef-6064-43cc-b3d5-c99db15adb9e button.colab-df-generate');\n",
              "      buttonEl.style.display =\n",
              "        google.colab.kernel.accessAllowed ? 'block' : 'none';\n",
              "\n",
              "      buttonEl.onclick = () => {\n",
              "        google.colab.notebook.generateWithVariable('hist_');\n",
              "      }\n",
              "      })();\n",
              "    </script>\n",
              "  </div>\n",
              "\n",
              "    </div>\n",
              "  </div>\n"
            ],
            "application/vnd.google.colaboratory.intrinsic+json": {
              "type": "dataframe",
              "variable_name": "hist_",
              "summary": "{\n  \"name\": \"hist_\",\n  \"rows\": 35,\n  \"fields\": [\n    {\n      \"column\": \"loss\",\n      \"properties\": {\n        \"dtype\": \"number\",\n        \"std\": 0.24132275309313395,\n        \"min\": 1.6802972822915763e-05,\n        \"max\": 0.9795451760292053,\n        \"num_unique_values\": 35,\n        \"samples\": [\n          4.6269415179267526e-05,\n          0.000255400751484558,\n          3.848076084977947e-05\n        ],\n        \"semantic_type\": \"\",\n        \"description\": \"\"\n      }\n    },\n    {\n      \"column\": \"accuracy\",\n      \"properties\": {\n        \"dtype\": \"number\",\n        \"std\": 0.10934283210499075,\n        \"min\": 0.5342706441879272,\n        \"max\": 1.0,\n        \"num_unique_values\": 13,\n        \"samples\": [\n          0.8055067658424377,\n          0.9978519678115845,\n          0.5342706441879272\n        ],\n        \"semantic_type\": \"\",\n        \"description\": \"\"\n      }\n    },\n    {\n      \"column\": \"val_loss\",\n      \"properties\": {\n        \"dtype\": \"number\",\n        \"std\": 0.7266583155711392,\n        \"min\": 0.8874303102493286,\n        \"max\": 3.138806104660034,\n        \"num_unique_values\": 35,\n        \"samples\": [\n          2.915213108062744,\n          2.629310131072998,\n          2.9229207038879395\n        ],\n        \"semantic_type\": \"\",\n        \"description\": \"\"\n      }\n    },\n    {\n      \"column\": \"val_accuracy\",\n      \"properties\": {\n        \"dtype\": \"number\",\n        \"std\": 0.029958163489576188,\n        \"min\": 0.5639686584472656,\n        \"max\": 0.6762402057647705,\n        \"num_unique_values\": 22,\n        \"samples\": [\n          0.5953002572059631,\n          0.650130569934845,\n          0.6527414917945862\n        ],\n        \"semantic_type\": \"\",\n        \"description\": \"\"\n      }\n    }\n  ]\n}"
            }
          },
          "metadata": {},
          "execution_count": 36
        }
      ]
    },
    {
      "cell_type": "markdown",
      "source": [
        "# **Model Evaluation**"
      ],
      "metadata": {
        "id": "H5U-0AnsNnlB"
      }
    },
    {
      "cell_type": "code",
      "source": [
        "loss, acc = model1.evaluate(X_test, Y_test_cat)\n",
        "print('loss: ', loss)\n",
        "print('accuracy ', acc)"
      ],
      "metadata": {
        "id": "hAhOrJj7NsU8",
        "outputId": "6c67bd9c-9348-46b7-d228-e1b896a73124",
        "colab": {
          "base_uri": "https://localhost:8080/"
        }
      },
      "execution_count": 37,
      "outputs": [
        {
          "output_type": "stream",
          "name": "stdout",
          "text": [
            "28/28 [==============================] - 4s 145ms/step - loss: 1.3155 - accuracy: 0.6038\n",
            "loss:  1.3154557943344116\n",
            "accuracy  0.6037946343421936\n"
          ]
        }
      ]
    },
    {
      "cell_type": "code",
      "source": [
        "# Reshape Y_test to a 1-dimensional array\n",
        "Y_test = Y_test.reshape(-1,)\n",
        "\n",
        "predictions = model1.predict(X_test)\n",
        "Y_predected = np.argmax(predictions, axis=1)\n",
        "#Y_test_ = np.argmax(Y_test,axis=0)\n",
        "\n",
        "df = pd.DataFrame({'Actual': Y_test, 'Prediction': Y_predected})\n",
        "df"
      ],
      "metadata": {
        "id": "Rjjfs1ANN1e1",
        "outputId": "2bd0a7c6-3b84-4333-a07e-173a9b348b6d",
        "colab": {
          "base_uri": "https://localhost:8080/",
          "height": 442
        }
      },
      "execution_count": 38,
      "outputs": [
        {
          "output_type": "stream",
          "name": "stdout",
          "text": [
            "28/28 [==============================] - 6s 189ms/step\n"
          ]
        },
        {
          "output_type": "execute_result",
          "data": {
            "text/plain": [
              "     Actual  Prediction\n",
              "0         3           3\n",
              "1         3           1\n",
              "2         1           1\n",
              "3         3           3\n",
              "4         3           3\n",
              "..      ...         ...\n",
              "891       0           3\n",
              "892       1           1\n",
              "893       3           3\n",
              "894       3           3\n",
              "895       0           0\n",
              "\n",
              "[896 rows x 2 columns]"
            ],
            "text/html": [
              "\n",
              "  <div id=\"df-7066aab3-220d-434e-afa8-b36eece70bc8\" class=\"colab-df-container\">\n",
              "    <div>\n",
              "<style scoped>\n",
              "    .dataframe tbody tr th:only-of-type {\n",
              "        vertical-align: middle;\n",
              "    }\n",
              "\n",
              "    .dataframe tbody tr th {\n",
              "        vertical-align: top;\n",
              "    }\n",
              "\n",
              "    .dataframe thead th {\n",
              "        text-align: right;\n",
              "    }\n",
              "</style>\n",
              "<table border=\"1\" class=\"dataframe\">\n",
              "  <thead>\n",
              "    <tr style=\"text-align: right;\">\n",
              "      <th></th>\n",
              "      <th>Actual</th>\n",
              "      <th>Prediction</th>\n",
              "    </tr>\n",
              "  </thead>\n",
              "  <tbody>\n",
              "    <tr>\n",
              "      <th>0</th>\n",
              "      <td>3</td>\n",
              "      <td>3</td>\n",
              "    </tr>\n",
              "    <tr>\n",
              "      <th>1</th>\n",
              "      <td>3</td>\n",
              "      <td>1</td>\n",
              "    </tr>\n",
              "    <tr>\n",
              "      <th>2</th>\n",
              "      <td>1</td>\n",
              "      <td>1</td>\n",
              "    </tr>\n",
              "    <tr>\n",
              "      <th>3</th>\n",
              "      <td>3</td>\n",
              "      <td>3</td>\n",
              "    </tr>\n",
              "    <tr>\n",
              "      <th>4</th>\n",
              "      <td>3</td>\n",
              "      <td>3</td>\n",
              "    </tr>\n",
              "    <tr>\n",
              "      <th>...</th>\n",
              "      <td>...</td>\n",
              "      <td>...</td>\n",
              "    </tr>\n",
              "    <tr>\n",
              "      <th>891</th>\n",
              "      <td>0</td>\n",
              "      <td>3</td>\n",
              "    </tr>\n",
              "    <tr>\n",
              "      <th>892</th>\n",
              "      <td>1</td>\n",
              "      <td>1</td>\n",
              "    </tr>\n",
              "    <tr>\n",
              "      <th>893</th>\n",
              "      <td>3</td>\n",
              "      <td>3</td>\n",
              "    </tr>\n",
              "    <tr>\n",
              "      <th>894</th>\n",
              "      <td>3</td>\n",
              "      <td>3</td>\n",
              "    </tr>\n",
              "    <tr>\n",
              "      <th>895</th>\n",
              "      <td>0</td>\n",
              "      <td>0</td>\n",
              "    </tr>\n",
              "  </tbody>\n",
              "</table>\n",
              "<p>896 rows × 2 columns</p>\n",
              "</div>\n",
              "    <div class=\"colab-df-buttons\">\n",
              "\n",
              "  <div class=\"colab-df-container\">\n",
              "    <button class=\"colab-df-convert\" onclick=\"convertToInteractive('df-7066aab3-220d-434e-afa8-b36eece70bc8')\"\n",
              "            title=\"Convert this dataframe to an interactive table.\"\n",
              "            style=\"display:none;\">\n",
              "\n",
              "  <svg xmlns=\"http://www.w3.org/2000/svg\" height=\"24px\" viewBox=\"0 -960 960 960\">\n",
              "    <path d=\"M120-120v-720h720v720H120Zm60-500h600v-160H180v160Zm220 220h160v-160H400v160Zm0 220h160v-160H400v160ZM180-400h160v-160H180v160Zm440 0h160v-160H620v160ZM180-180h160v-160H180v160Zm440 0h160v-160H620v160Z\"/>\n",
              "  </svg>\n",
              "    </button>\n",
              "\n",
              "  <style>\n",
              "    .colab-df-container {\n",
              "      display:flex;\n",
              "      gap: 12px;\n",
              "    }\n",
              "\n",
              "    .colab-df-convert {\n",
              "      background-color: #E8F0FE;\n",
              "      border: none;\n",
              "      border-radius: 50%;\n",
              "      cursor: pointer;\n",
              "      display: none;\n",
              "      fill: #1967D2;\n",
              "      height: 32px;\n",
              "      padding: 0 0 0 0;\n",
              "      width: 32px;\n",
              "    }\n",
              "\n",
              "    .colab-df-convert:hover {\n",
              "      background-color: #E2EBFA;\n",
              "      box-shadow: 0px 1px 2px rgba(60, 64, 67, 0.3), 0px 1px 3px 1px rgba(60, 64, 67, 0.15);\n",
              "      fill: #174EA6;\n",
              "    }\n",
              "\n",
              "    .colab-df-buttons div {\n",
              "      margin-bottom: 4px;\n",
              "    }\n",
              "\n",
              "    [theme=dark] .colab-df-convert {\n",
              "      background-color: #3B4455;\n",
              "      fill: #D2E3FC;\n",
              "    }\n",
              "\n",
              "    [theme=dark] .colab-df-convert:hover {\n",
              "      background-color: #434B5C;\n",
              "      box-shadow: 0px 1px 3px 1px rgba(0, 0, 0, 0.15);\n",
              "      filter: drop-shadow(0px 1px 2px rgba(0, 0, 0, 0.3));\n",
              "      fill: #FFFFFF;\n",
              "    }\n",
              "  </style>\n",
              "\n",
              "    <script>\n",
              "      const buttonEl =\n",
              "        document.querySelector('#df-7066aab3-220d-434e-afa8-b36eece70bc8 button.colab-df-convert');\n",
              "      buttonEl.style.display =\n",
              "        google.colab.kernel.accessAllowed ? 'block' : 'none';\n",
              "\n",
              "      async function convertToInteractive(key) {\n",
              "        const element = document.querySelector('#df-7066aab3-220d-434e-afa8-b36eece70bc8');\n",
              "        const dataTable =\n",
              "          await google.colab.kernel.invokeFunction('convertToInteractive',\n",
              "                                                    [key], {});\n",
              "        if (!dataTable) return;\n",
              "\n",
              "        const docLinkHtml = 'Like what you see? Visit the ' +\n",
              "          '<a target=\"_blank\" href=https://colab.research.google.com/notebooks/data_table.ipynb>data table notebook</a>'\n",
              "          + ' to learn more about interactive tables.';\n",
              "        element.innerHTML = '';\n",
              "        dataTable['output_type'] = 'display_data';\n",
              "        await google.colab.output.renderOutput(dataTable, element);\n",
              "        const docLink = document.createElement('div');\n",
              "        docLink.innerHTML = docLinkHtml;\n",
              "        element.appendChild(docLink);\n",
              "      }\n",
              "    </script>\n",
              "  </div>\n",
              "\n",
              "\n",
              "<div id=\"df-0ee1e08d-5475-4238-b5b5-2e955c24fa38\">\n",
              "  <button class=\"colab-df-quickchart\" onclick=\"quickchart('df-0ee1e08d-5475-4238-b5b5-2e955c24fa38')\"\n",
              "            title=\"Suggest charts\"\n",
              "            style=\"display:none;\">\n",
              "\n",
              "<svg xmlns=\"http://www.w3.org/2000/svg\" height=\"24px\"viewBox=\"0 0 24 24\"\n",
              "     width=\"24px\">\n",
              "    <g>\n",
              "        <path d=\"M19 3H5c-1.1 0-2 .9-2 2v14c0 1.1.9 2 2 2h14c1.1 0 2-.9 2-2V5c0-1.1-.9-2-2-2zM9 17H7v-7h2v7zm4 0h-2V7h2v10zm4 0h-2v-4h2v4z\"/>\n",
              "    </g>\n",
              "</svg>\n",
              "  </button>\n",
              "\n",
              "<style>\n",
              "  .colab-df-quickchart {\n",
              "      --bg-color: #E8F0FE;\n",
              "      --fill-color: #1967D2;\n",
              "      --hover-bg-color: #E2EBFA;\n",
              "      --hover-fill-color: #174EA6;\n",
              "      --disabled-fill-color: #AAA;\n",
              "      --disabled-bg-color: #DDD;\n",
              "  }\n",
              "\n",
              "  [theme=dark] .colab-df-quickchart {\n",
              "      --bg-color: #3B4455;\n",
              "      --fill-color: #D2E3FC;\n",
              "      --hover-bg-color: #434B5C;\n",
              "      --hover-fill-color: #FFFFFF;\n",
              "      --disabled-bg-color: #3B4455;\n",
              "      --disabled-fill-color: #666;\n",
              "  }\n",
              "\n",
              "  .colab-df-quickchart {\n",
              "    background-color: var(--bg-color);\n",
              "    border: none;\n",
              "    border-radius: 50%;\n",
              "    cursor: pointer;\n",
              "    display: none;\n",
              "    fill: var(--fill-color);\n",
              "    height: 32px;\n",
              "    padding: 0;\n",
              "    width: 32px;\n",
              "  }\n",
              "\n",
              "  .colab-df-quickchart:hover {\n",
              "    background-color: var(--hover-bg-color);\n",
              "    box-shadow: 0 1px 2px rgba(60, 64, 67, 0.3), 0 1px 3px 1px rgba(60, 64, 67, 0.15);\n",
              "    fill: var(--button-hover-fill-color);\n",
              "  }\n",
              "\n",
              "  .colab-df-quickchart-complete:disabled,\n",
              "  .colab-df-quickchart-complete:disabled:hover {\n",
              "    background-color: var(--disabled-bg-color);\n",
              "    fill: var(--disabled-fill-color);\n",
              "    box-shadow: none;\n",
              "  }\n",
              "\n",
              "  .colab-df-spinner {\n",
              "    border: 2px solid var(--fill-color);\n",
              "    border-color: transparent;\n",
              "    border-bottom-color: var(--fill-color);\n",
              "    animation:\n",
              "      spin 1s steps(1) infinite;\n",
              "  }\n",
              "\n",
              "  @keyframes spin {\n",
              "    0% {\n",
              "      border-color: transparent;\n",
              "      border-bottom-color: var(--fill-color);\n",
              "      border-left-color: var(--fill-color);\n",
              "    }\n",
              "    20% {\n",
              "      border-color: transparent;\n",
              "      border-left-color: var(--fill-color);\n",
              "      border-top-color: var(--fill-color);\n",
              "    }\n",
              "    30% {\n",
              "      border-color: transparent;\n",
              "      border-left-color: var(--fill-color);\n",
              "      border-top-color: var(--fill-color);\n",
              "      border-right-color: var(--fill-color);\n",
              "    }\n",
              "    40% {\n",
              "      border-color: transparent;\n",
              "      border-right-color: var(--fill-color);\n",
              "      border-top-color: var(--fill-color);\n",
              "    }\n",
              "    60% {\n",
              "      border-color: transparent;\n",
              "      border-right-color: var(--fill-color);\n",
              "    }\n",
              "    80% {\n",
              "      border-color: transparent;\n",
              "      border-right-color: var(--fill-color);\n",
              "      border-bottom-color: var(--fill-color);\n",
              "    }\n",
              "    90% {\n",
              "      border-color: transparent;\n",
              "      border-bottom-color: var(--fill-color);\n",
              "    }\n",
              "  }\n",
              "</style>\n",
              "\n",
              "  <script>\n",
              "    async function quickchart(key) {\n",
              "      const quickchartButtonEl =\n",
              "        document.querySelector('#' + key + ' button');\n",
              "      quickchartButtonEl.disabled = true;  // To prevent multiple clicks.\n",
              "      quickchartButtonEl.classList.add('colab-df-spinner');\n",
              "      try {\n",
              "        const charts = await google.colab.kernel.invokeFunction(\n",
              "            'suggestCharts', [key], {});\n",
              "      } catch (error) {\n",
              "        console.error('Error during call to suggestCharts:', error);\n",
              "      }\n",
              "      quickchartButtonEl.classList.remove('colab-df-spinner');\n",
              "      quickchartButtonEl.classList.add('colab-df-quickchart-complete');\n",
              "    }\n",
              "    (() => {\n",
              "      let quickchartButtonEl =\n",
              "        document.querySelector('#df-0ee1e08d-5475-4238-b5b5-2e955c24fa38 button');\n",
              "      quickchartButtonEl.style.display =\n",
              "        google.colab.kernel.accessAllowed ? 'block' : 'none';\n",
              "    })();\n",
              "  </script>\n",
              "</div>\n",
              "\n",
              "  <div id=\"id_68c4e065-ae53-4988-a120-1faf47d047e3\">\n",
              "    <style>\n",
              "      .colab-df-generate {\n",
              "        background-color: #E8F0FE;\n",
              "        border: none;\n",
              "        border-radius: 50%;\n",
              "        cursor: pointer;\n",
              "        display: none;\n",
              "        fill: #1967D2;\n",
              "        height: 32px;\n",
              "        padding: 0 0 0 0;\n",
              "        width: 32px;\n",
              "      }\n",
              "\n",
              "      .colab-df-generate:hover {\n",
              "        background-color: #E2EBFA;\n",
              "        box-shadow: 0px 1px 2px rgba(60, 64, 67, 0.3), 0px 1px 3px 1px rgba(60, 64, 67, 0.15);\n",
              "        fill: #174EA6;\n",
              "      }\n",
              "\n",
              "      [theme=dark] .colab-df-generate {\n",
              "        background-color: #3B4455;\n",
              "        fill: #D2E3FC;\n",
              "      }\n",
              "\n",
              "      [theme=dark] .colab-df-generate:hover {\n",
              "        background-color: #434B5C;\n",
              "        box-shadow: 0px 1px 3px 1px rgba(0, 0, 0, 0.15);\n",
              "        filter: drop-shadow(0px 1px 2px rgba(0, 0, 0, 0.3));\n",
              "        fill: #FFFFFF;\n",
              "      }\n",
              "    </style>\n",
              "    <button class=\"colab-df-generate\" onclick=\"generateWithVariable('df')\"\n",
              "            title=\"Generate code using this dataframe.\"\n",
              "            style=\"display:none;\">\n",
              "\n",
              "  <svg xmlns=\"http://www.w3.org/2000/svg\" height=\"24px\"viewBox=\"0 0 24 24\"\n",
              "       width=\"24px\">\n",
              "    <path d=\"M7,19H8.4L18.45,9,17,7.55,7,17.6ZM5,21V16.75L18.45,3.32a2,2,0,0,1,2.83,0l1.4,1.43a1.91,1.91,0,0,1,.58,1.4,1.91,1.91,0,0,1-.58,1.4L9.25,21ZM18.45,9,17,7.55Zm-12,3A5.31,5.31,0,0,0,4.9,8.1,5.31,5.31,0,0,0,1,6.5,5.31,5.31,0,0,0,4.9,4.9,5.31,5.31,0,0,0,6.5,1,5.31,5.31,0,0,0,8.1,4.9,5.31,5.31,0,0,0,12,6.5,5.46,5.46,0,0,0,6.5,12Z\"/>\n",
              "  </svg>\n",
              "    </button>\n",
              "    <script>\n",
              "      (() => {\n",
              "      const buttonEl =\n",
              "        document.querySelector('#id_68c4e065-ae53-4988-a120-1faf47d047e3 button.colab-df-generate');\n",
              "      buttonEl.style.display =\n",
              "        google.colab.kernel.accessAllowed ? 'block' : 'none';\n",
              "\n",
              "      buttonEl.onclick = () => {\n",
              "        google.colab.notebook.generateWithVariable('df');\n",
              "      }\n",
              "      })();\n",
              "    </script>\n",
              "  </div>\n",
              "\n",
              "    </div>\n",
              "  </div>\n"
            ],
            "application/vnd.google.colaboratory.intrinsic+json": {
              "type": "dataframe",
              "variable_name": "df",
              "summary": "{\n  \"name\": \"df\",\n  \"rows\": 896,\n  \"fields\": [\n    {\n      \"column\": \"Actual\",\n      \"properties\": {\n        \"dtype\": \"number\",\n        \"std\": 1,\n        \"min\": 0,\n        \"max\": 3,\n        \"num_unique_values\": 4,\n        \"samples\": [\n          1,\n          2,\n          3\n        ],\n        \"semantic_type\": \"\",\n        \"description\": \"\"\n      }\n    },\n    {\n      \"column\": \"Prediction\",\n      \"properties\": {\n        \"dtype\": \"number\",\n        \"std\": 1,\n        \"min\": 0,\n        \"max\": 3,\n        \"num_unique_values\": 4,\n        \"samples\": [\n          1,\n          2,\n          3\n        ],\n        \"semantic_type\": \"\",\n        \"description\": \"\"\n      }\n    }\n  ]\n}"
            }
          },
          "metadata": {},
          "execution_count": 38
        }
      ]
    },
    {
      "cell_type": "code",
      "source": [
        "CM = confusion_matrix(Y_test,Y_predected)\n",
        "CM_percent = CM.astype('float') / CM.sum(axis=1)[:, np.newaxis]\n",
        "\n",
        "sns.heatmap(CM_percent,fmt='g',center = True,cbar=False,annot=True,cmap='Blues')\n",
        "CM"
      ],
      "metadata": {
        "colab": {
          "base_uri": "https://localhost:8080/",
          "height": 501
        },
        "id": "V883lZCBqEgj",
        "outputId": "8bab9f3c-1c58-494d-9b1f-519694e3b444"
      },
      "execution_count": 39,
      "outputs": [
        {
          "output_type": "execute_result",
          "data": {
            "text/plain": [
              "array([[ 55,  40,   1,  31],\n",
              "       [ 34, 159,   0, 137],\n",
              "       [  3,   3,   2,   0],\n",
              "       [ 12,  94,   0, 325]])"
            ]
          },
          "metadata": {},
          "execution_count": 39
        },
        {
          "output_type": "display_data",
          "data": {
            "text/plain": [
              "<Figure size 640x480 with 1 Axes>"
            ],
            "image/png": "[encoded data removed]"
          },
          "metadata": {}
        }
      ]
    },
    {
      "cell_type": "code",
      "source": [
        "print(classification_report(Y_test, Y_predected))"
      ],
      "metadata": {
        "id": "jFtuqVUeOdYf",
        "outputId": "5965f58b-da1a-4ee7-8205-cd24c801969a",
        "colab": {
          "base_uri": "https://localhost:8080/"
        }
      },
      "execution_count": 40,
      "outputs": [
        {
          "output_type": "stream",
          "name": "stdout",
          "text": [
            "              precision    recall  f1-score   support\n",
            "\n",
            "           0       0.53      0.43      0.48       127\n",
            "           1       0.54      0.48      0.51       330\n",
            "           2       0.67      0.25      0.36         8\n",
            "           3       0.66      0.75      0.70       431\n",
            "\n",
            "    accuracy                           0.60       896\n",
            "   macro avg       0.60      0.48      0.51       896\n",
            "weighted avg       0.60      0.60      0.60       896\n",
            "\n"
          ]
        }
      ]
    }
  ]
}