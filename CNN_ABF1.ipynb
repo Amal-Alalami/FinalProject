{
  "nbformat": 4,
  "nbformat_minor": 0,
  "metadata": {
    "colab": {
      "provenance": [],
      "authorship_tag": "ABX9TyOfu3Y2z0F+duKBxQwt+/h6",
      "include_colab_link": true
    },
    "kernelspec": {
      "name": "python3",
      "display_name": "Python 3"
    },
    "language_info": {
      "name": "python"
    }
  },
  "cells": [
    {
      "cell_type": "markdown",
      "metadata": {
        "id": "view-in-github",
        "colab_type": "text"
      },
      "source": [
        "<a href=\"https://colab.research.google.com/github/Amal-Alalami/FinalProject/blob/main/CNN_ABF1.ipynb\" target=\"_parent\"><img src=\"https://colab.research.google.com/assets/colab-badge.svg\" alt=\"Open In Colab\"/></a>"
      ]
    },
    {
      "cell_type": "code",
      "execution_count": null,
      "metadata": {
        "id": "NFtM0zcbyU8U"
      },
      "outputs": [],
      "source": [
        "import cv2\n",
        "import os\n",
        "import pandas as pd\n",
        "import seaborn as sns\n",
        "import tensorflow as tf\n",
        "import numpy as np\n",
        "\n",
        "import matplotlib.pyplot as plt\n",
        "from imblearn.over_sampling import SMOTE\n",
        "from google.colab.patches import cv2_imshow\n",
        "from sklearn.model_selection import train_test_split\n",
        "from sklearn.metrics import confusion_matrix\n",
        "from sklearn.metrics import classification_report\n",
        "\n",
        "# to generate data\n",
        "from keras.preprocessing.image import ImageDataGenerator\n",
        "\n",
        "# to build model\n",
        "from keras.models import Sequential\n",
        "from keras.layers import Dense,Conv2D,MaxPool2D,Flatten,Dropout\n",
        "%matplotlib inline"
      ]
    },
    {
      "cell_type": "markdown",
      "source": [
        "# Upload Dataset"
      ],
      "metadata": {
        "id": "UTGIyVtefqsg"
      }
    },
    {
      "cell_type": "code",
      "source": [
        "!7z x archive.zip\n"
      ],
      "metadata": {
        "colab": {
          "base_uri": "https://localhost:8080/"
        },
        "id": "jBCO88_7ycdk",
        "outputId": "31254f3b-ed2f-48e0-843a-f442548f2406"
      },
      "execution_count": null,
      "outputs": [
        {
          "output_type": "stream",
          "name": "stdout",
          "text": [
            "\n",
            "7-Zip [64] 16.02 : Copyright (c) 1999-2016 Igor Pavlov : 2016-05-21\n",
            "p7zip Version 16.02 (locale=en_US.UTF-8,Utf16=on,HugeFiles=on,64 bits,2 CPUs Intel(R) Xeon(R) CPU @ 2.20GHz (406F0),ASM,AES-NI)\n",
            "\n",
            "Scanning the drive for archives:\n",
            "  0M Scan\b\b\b\b\b\b\b\b\b         \b\b\b\b\b\b\b\b\b1 file, 35779075 bytes (35 MiB)\n",
            "\n",
            "Extracting archive: archive.zip\n",
            " 64% 4096 Open\b\b\b\b\b\b\b\b\b\b\b\b\b\b              \b\b\b\b\b\b\b\b\b\b\b\b\b\b--\n",
            "Path = archive.zip\n",
            "Type = zip\n",
            "Physical Size = 35779075\n",
            "\n",
            "  0%\b\b\b\b    \b\b\b\b 10% 735\b\b\b\b\b\b\b\b        \b\b\b\b\b\b\b\b 22% 1533 - Alzheimer_s Dataset/train/MildDemented/mildDem327.jpg\b\b\b\b\b\b\b\b\b\b\b\b\b\b\b\b\b\b\b\b\b\b\b\b\b\b\b\b\b\b\b\b\b\b\b\b\b\b\b\b\b\b\b\b\b\b\b\b\b\b\b\b\b\b\b\b\b\b\b\b\b\b\b\b\b                                                                 \b\b\b\b\b\b\b\b\b\b\b\b\b\b\b\b\b\b\b\b\b\b\b\b\b\b\b\b\b\b\b\b\b\b\b\b\b\b\b\b\b\b\b\b\b\b\b\b\b\b\b\b\b\b\b\b\b\b\b\b\b\b\b\b\b 30% 1987 - Alzheimer_s Dataset/train/MildDemented/mildDem91.jpg\b\b\b\b\b\b\b\b\b\b\b\b\b\b\b\b\b\b\b\b\b\b\b\b\b\b\b\b\b\b\b\b\b\b\b\b\b\b\b\b\b\b\b\b\b\b\b\b\b\b\b\b\b\b\b\b\b\b\b\b\b\b\b\b                                                                \b\b\b\b\b\b\b\b\b\b\b\b\b\b\b\b\b\b\b\b\b\b\b\b\b\b\b\b\b\b\b\b\b\b\b\b\b\b\b\b\b\b\b\b\b\b\b\b\b\b\b\b\b\b\b\b\b\b\b\b\b\b\b\b 38% 2509 - Alzheimer_s Dataset/train/NonDemented/nonDem1412.jpg\b\b\b\b\b\b\b\b\b\b\b\b\b\b\b\b\b\b\b\b\b\b\b\b\b\b\b\b\b\b\b\b\b\b\b\b\b\b\b\b\b\b\b\b\b\b\b\b\b\b\b\b\b\b\b\b\b\b\b\b\b\b\b\b                                                                \b\b\b\b\b\b\b\b\b\b\b\b\b\b\b\b\b\b\b\b\b\b\b\b\b\b\b\b\b\b\b\b\b\b\b\b\b\b\b\b\b\b\b\b\b\b\b\b\b\b\b\b\b\b\b\b\b\b\b\b\b\b\b\b 43% 2827 - Alzheimer_s Dataset/train/NonDemented/nonDem17.jpg\b\b\b\b\b\b\b\b\b\b\b\b\b\b\b\b\b\b\b\b\b\b\b\b\b\b\b\b\b\b\b\b\b\b\b\b\b\b\b\b\b\b\b\b\b\b\b\b\b\b\b\b\b\b\b\b\b\b\b\b\b\b                                                              \b\b\b\b\b\b\b\b\b\b\b\b\b\b\b\b\b\b\b\b\b\b\b\b\b\b\b\b\b\b\b\b\b\b\b\b\b\b\b\b\b\b\b\b\b\b\b\b\b\b\b\b\b\b\b\b\b\b\b\b\b\b 47% 3068 - Alzheimer_s Dataset/train/NonDemented/nonDem1916.jpg\b\b\b\b\b\b\b\b\b\b\b\b\b\b\b\b\b\b\b\b\b\b\b\b\b\b\b\b\b\b\b\b\b\b\b\b\b\b\b\b\b\b\b\b\b\b\b\b\b\b\b\b\b\b\b\b\b\b\b\b\b\b\b\b                                                                \b\b\b\b\b\b\b\b\b\b\b\b\b\b\b\b\b\b\b\b\b\b\b\b\b\b\b\b\b\b\b\b\b\b\b\b\b\b\b\b\b\b\b\b\b\b\b\b\b\b\b\b\b\b\b\b\b\b\b\b\b\b\b\b 50% 3290 - Alzheimer_s Dataset/train/NonDemented/nonDem2115.jpg\b\b\b\b\b\b\b\b\b\b\b\b\b\b\b\b\b\b\b\b\b\b\b\b\b\b\b\b\b\b\b\b\b\b\b\b\b\b\b\b\b\b\b\b\b\b\b\b\b\b\b\b\b\b\b\b\b\b\b\b\b\b\b\b                                                                \b\b\b\b\b\b\b\b\b\b\b\b\b\b\b\b\b\b\b\b\b\b\b\b\b\b\b\b\b\b\b\b\b\b\b\b\b\b\b\b\b\b\b\b\b\b\b\b\b\b\b\b\b\b\b\b\b\b\b\b\b\b\b\b 53% 3481 - Alzheimer_s Dataset/train/NonDemented/nonDem2288.jpg\b\b\b\b\b\b\b\b\b\b\b\b\b\b\b\b\b\b\b\b\b\b\b\b\b\b\b\b\b\b\b\b\b\b\b\b\b\b\b\b\b\b\b\b\b\b\b\b\b\b\b\b\b\b\b\b\b\b\b\b\b\b\b\b                                                                \b\b\b\b\b\b\b\b\b\b\b\b\b\b\b\b\b\b\b\b\b\b\b\b\b\b\b\b\b\b\b\b\b\b\b\b\b\b\b\b\b\b\b\b\b\b\b\b\b\b\b\b\b\b\b\b\b\b\b\b\b\b\b\b 56% 3655 - Alzheimer_s Dataset/train/NonDemented/nonDem2444.jpg\b\b\b\b\b\b\b\b\b\b\b\b\b\b\b\b\b\b\b\b\b\b\b\b\b\b\b\b\b\b\b\b\b\b\b\b\b\b\b\b\b\b\b\b\b\b\b\b\b\b\b\b\b\b\b\b\b\b\b\b\b\b\b\b                                                                \b\b\b\b\b\b\b\b\b\b\b\b\b\b\b\b\b\b\b\b\b\b\b\b\b\b\b\b\b\b\b\b\b\b\b\b\b\b\b\b\b\b\b\b\b\b\b\b\b\b\b\b\b\b\b\b\b\b\b\b\b\b\b\b 58% 3811 - Alzheimer_s Dataset/train/NonDemented/nonDem281.jpg\b\b\b\b\b\b\b\b\b\b\b\b\b\b\b\b\b\b\b\b\b\b\b\b\b\b\b\b\b\b\b\b\b\b\b\b\b\b\b\b\b\b\b\b\b\b\b\b\b\b\b\b\b\b\b\b\b\b\b\b\b\b\b                                                               \b\b\b\b\b\b\b\b\b\b\b\b\b\b\b\b\b\b\b\b\b\b\b\b\b\b\b\b\b\b\b\b\b\b\b\b\b\b\b\b\b\b\b\b\b\b\b\b\b\b\b\b\b\b\b\b\b\b\b\b\b\b\b 61% 3958 - Alzheimer_s Dataset/train/NonDemented/nonDem413.jpg\b\b\b\b\b\b\b\b\b\b\b\b\b\b\b\b\b\b\b\b\b\b\b\b\b\b\b\b\b\b\b\b\b\b\b\b\b\b\b\b\b\b\b\b\b\b\b\b\b\b\b\b\b\b\b\b\b\b\b\b\b\b\b                                                               \b\b\b\b\b\b\b\b\b\b\b\b\b\b\b\b\b\b\b\b\b\b\b\b\b\b\b\b\b\b\b\b\b\b\b\b\b\b\b\b\b\b\b\b\b\b\b\b\b\b\b\b\b\b\b\b\b\b\b\b\b\b\b 63% 4094 - Alzheimer_s Dataset/train/NonDemented/nonDem536.jpg\b\b\b\b\b\b\b\b\b\b\b\b\b\b\b\b\b\b\b\b\b\b\b\b\b\b\b\b\b\b\b\b\b\b\b\b\b\b\b\b\b\b\b\b\b\b\b\b\b\b\b\b\b\b\b\b\b\b\b\b\b\b\b                                                               \b\b\b\b\b\b\b\b\b\b\b\b\b\b\b\b\b\b\b\b\b\b\b\b\b\b\b\b\b\b\b\b\b\b\b\b\b\b\b\b\b\b\b\b\b\b\b\b\b\b\b\b\b\b\b\b\b\b\b\b\b\b\b 65% 4228 - Alzheimer_s Dataset/train/NonDemented/nonDem657.jpg\b\b\b\b\b\b\b\b\b\b\b\b\b\b\b\b\b\b\b\b\b\b\b\b\b\b\b\b\b\b\b\b\b\b\b\b\b\b\b\b\b\b\b\b\b\b\b\b\b\b\b\b\b\b\b\b\b\b\b\b\b\b\b                                                               \b\b\b\b\b\b\b\b\b\b\b\b\b\b\b\b\b\b\b\b\b\b\b\b\b\b\b\b\b\b\b\b\b\b\b\b\b\b\b\b\b\b\b\b\b\b\b\b\b\b\b\b\b\b\b\b\b\b\b\b\b\b\b 67% 4354 - Alzheimer_s Dataset/train/NonDemented/nonDem770.jpg\b\b\b\b\b\b\b\b\b\b\b\b\b\b\b\b\b\b\b\b\b\b\b\b\b\b\b\b\b\b\b\b\b\b\b\b\b\b\b\b\b\b\b\b\b\b\b\b\b\b\b\b\b\b\b\b\b\b\b\b\b\b\b                                                               \b\b\b\b\b\b\b\b\b\b\b\b\b\b\b\b\b\b\b\b\b\b\b\b\b\b\b\b\b\b\b\b\b\b\b\b\b\b\b\b\b\b\b\b\b\b\b\b\b\b\b\b\b\b\b\b\b\b\b\b\b\b\b 69% 4478 - Alzheimer_s Dataset/train/NonDemented/nonDem882.jpg\b\b\b\b\b\b\b\b\b\b\b\b\b\b\b\b\b\b\b\b\b\b\b\b\b\b\b\b\b\b\b\b\b\b\b\b\b\b\b\b\b\b\b\b\b\b\b\b\b\b\b\b\b\b\b\b\b\b\b\b\b\b\b                                                               \b\b\b\b\b\b\b\b\b\b\b\b\b\b\b\b\b\b\b\b\b\b\b\b\b\b\b\b\b\b\b\b\b\b\b\b\b\b\b\b\b\b\b\b\b\b\b\b\b\b\b\b\b\b\b\b\b\b\b\b\b\b\b 71% 4592 - Alzheimer_s Dataset/train/NonDemented/nonDem985.jpg\b\b\b\b\b\b\b\b\b\b\b\b\b\b\b\b\b\b\b\b\b\b\b\b\b\b\b\b\b\b\b\b\b\b\b\b\b\b\b\b\b\b\b\b\b\b\b\b\b\b\b\b\b\b\b\b\b\b\b\b\b\b\b                                                               \b\b\b\b\b\b\b\b\b\b\b\b\b\b\b\b\b\b\b\b\b\b\b\b\b\b\b\b\b\b\b\b\b\b\b\b\b\b\b\b\b\b\b\b\b\b\b\b\b\b\b\b\b\b\b\b\b\b\b\b\b\b\b 81% 5225 - Alzheimer_s Dataset/train/VeryMildDemented/verymildDem1553.jpg\b\b\b\b\b\b\b\b\b\b\b\b\b\b\b\b\b\b\b\b\b\b\b\b\b\b\b\b\b\b\b\b\b\b\b\b\b\b\b\b\b\b\b\b\b\b\b\b\b\b\b\b\b\b\b\b\b\b\b\b\b\b\b\b\b\b\b\b\b\b\b\b\b\b                                                                          \b\b\b\b\b\b\b\b\b\b\b\b\b\b\b\b\b\b\b\b\b\b\b\b\b\b\b\b\b\b\b\b\b\b\b\b\b\b\b\b\b\b\b\b\b\b\b\b\b\b\b\b\b\b\b\b\b\b\b\b\b\b\b\b\b\b\b\b\b\b\b\b\b\b 87% 5649 - Alzheimer_s Dataset/train/VeryMildDemented/verymildDem322.jpg\b\b\b\b\b\b\b\b\b\b\b\b\b\b\b\b\b\b\b\b\b\b\b\b\b\b\b\b\b\b\b\b\b\b\b\b\b\b\b\b\b\b\b\b\b\b\b\b\b\b\b\b\b\b\b\b\b\b\b\b\b\b\b\b\b\b\b\b\b\b\b\b\b                                                                         \b\b\b\b\b\b\b\b\b\b\b\b\b\b\b\b\b\b\b\b\b\b\b\b\b\b\b\b\b\b\b\b\b\b\b\b\b\b\b\b\b\b\b\b\b\b\b\b\b\b\b\b\b\b\b\b\b\b\b\b\b\b\b\b\b\b\b\b\b\b\b\b\b 93% 5972 - Alzheimer_s Dataset/train/VeryMildDemented/verymildDem613.jpg\b\b\b\b\b\b\b\b\b\b\b\b\b\b\b\b\b\b\b\b\b\b\b\b\b\b\b\b\b\b\b\b\b\b\b\b\b\b\b\b\b\b\b\b\b\b\b\b\b\b\b\b\b\b\b\b\b\b\b\b\b\b\b\b\b\b\b\b\b\b\b\b\b                                                                         \b\b\b\b\b\b\b\b\b\b\b\b\b\b\b\b\b\b\b\b\b\b\b\b\b\b\b\b\b\b\b\b\b\b\b\b\b\b\b\b\b\b\b\b\b\b\b\b\b\b\b\b\b\b\b\b\b\b\b\b\b\b\b\b\b\b\b\b\b\b\b\b\b 97% 6234 - Alzheimer_s Dataset/train/VeryMildDemented/verymildDem85.jpg\b\b\b\b\b\b\b\b\b\b\b\b\b\b\b\b\b\b\b\b\b\b\b\b\b\b\b\b\b\b\b\b\b\b\b\b\b\b\b\b\b\b\b\b\b\b\b\b\b\b\b\b\b\b\b\b\b\b\b\b\b\b\b\b\b\b\b\b\b\b\b\b                                                                        \b\b\b\b\b\b\b\b\b\b\b\b\b\b\b\b\b\b\b\b\b\b\b\b\b\b\b\b\b\b\b\b\b\b\b\b\b\b\b\b\b\b\b\b\b\b\b\b\b\b\b\b\b\b\b\b\b\b\b\b\b\b\b\b\b\b\b\b\b\b\b\bEverything is Ok\n",
            "\n",
            "Files: 6400\n",
            "Size:       34703396\n",
            "Compressed: 35779075\n"
          ]
        }
      ]
    },
    {
      "cell_type": "markdown",
      "source": [
        "# **Pre-processed data and Visualize Sample Images**"
      ],
      "metadata": {
        "id": "15xS79d9Kwcq"
      }
    },
    {
      "cell_type": "code",
      "source": [
        "# Method to print sample images from each class\n",
        "\n",
        "def print_sample_images(train_path, class_labels):\n",
        "\n",
        "  plt.figure(figsize=(10, 10))\n",
        "  for i, class_name in enumerate(class_labels):\n",
        "\n",
        "    # Get a random image from the class directory\n",
        "    img_name = np.random.choice(os.listdir(os.path.join(train_path, class_name)))\n",
        "    img_path = os.path.join(train_path, class_name, img_name)\n",
        "\n",
        "    img = cv2.imread(img_path)\n",
        "    img = cv2.cvtColor(img, cv2.COLOR_BGR2RGB)\n",
        "\n",
        "    plt.subplot(4, 4, i+1)\n",
        "    plt.imshow(img)\n",
        "    plt.title(class_name)\n",
        "    plt.axis('off')\n",
        "\n",
        "  plt.show()"
      ],
      "metadata": {
        "id": "MNs1CHmuLvfE"
      },
      "execution_count": null,
      "outputs": []
    },
    {
      "cell_type": "markdown",
      "source": [
        "**Sample of train images before pre-processing data from each class**"
      ],
      "metadata": {
        "id": "-lsv3c149KfM"
      }
    },
    {
      "cell_type": "code",
      "source": [
        "train_dir = '/content/Alzheimer_s Dataset/train'\n",
        "class_names = os.listdir('/content/Alzheimer_s Dataset/train')\n",
        "print_sample_images(train_dir, class_names)"
      ],
      "metadata": {
        "colab": {
          "base_uri": "https://localhost:8080/",
          "height": 226
        },
        "id": "hRLa4rFmyi2A",
        "outputId": "249853db-f707-44c0-a569-720d5c0bc2c6"
      },
      "execution_count": null,
      "outputs": [
        {
          "output_type": "display_data",
          "data": {
            "text/plain": [
              "<Figure size 1000x1000 with 4 Axes>"
            ],
            "image/png": "[encoded data removed]"
          },
          "metadata": {}
        }
      ]
    },
    {
      "cell_type": "markdown",
      "source": [
        "**Pre-processing data**"
      ],
      "metadata": {
        "id": "QApcnr4b9ln_"
      }
    },
    {
      "cell_type": "code",
      "source": [
        "def process_images_in_folder(folder_path):\n",
        "  image_width, image_height = 128, 128\n",
        "\n",
        "  for filename in os.listdir(folder_path):\n",
        "    image_path = os.path.join(folder_path, filename)\n",
        "    image = cv2.imread(image_path)\n",
        "\n",
        "    #pre-processing data using ABF (Adaptive Bilateral filter)\n",
        "\n",
        "    gray_image = cv2.cvtColor(image, cv2.COLOR_BGR2GRAY)\n",
        "    bilateral = cv2.bilateralFilter(gray_image, 5, 0.3, 0.3)\n",
        "\n",
        "    # Save the pre-processed image with the same filename\n",
        "    cv2.imwrite(image_path, bilateral)"
      ],
      "metadata": {
        "id": "LL7OQxObvdFY"
      },
      "execution_count": null,
      "outputs": []
    },
    {
      "cell_type": "code",
      "source": [
        "train_data_path = '/content/Alzheimer_s Dataset/train'\n",
        "test_data_path = '/content/Alzheimer_s Dataset/test'\n",
        "class_labels = os.listdir('/content/Alzheimer_s Dataset/train')\n",
        "\n",
        "\n",
        "def data_to_be_processed(class_path ,class_labels):\n",
        "  for class_label in class_labels:\n",
        "    class_folder_path = os.path.join(class_path, class_label)\n",
        "    process_images_in_folder(class_folder_path)\n",
        "\n",
        "\n",
        "\n",
        "# train data\n",
        "data_to_be_processed(train_data_path, class_labels)\n",
        "\n",
        "# test data\n",
        "data_to_be_processed(test_data_path, class_labels)"
      ],
      "metadata": {
        "id": "8jRsqRDTuGFu"
      },
      "execution_count": null,
      "outputs": []
    },
    {
      "cell_type": "markdown",
      "source": [
        "**Sample of train images after pre-processing data from each class**"
      ],
      "metadata": {
        "id": "dTE_evRg9_g6"
      }
    },
    {
      "cell_type": "code",
      "source": [
        "train_dir = '/content/Alzheimer_s Dataset/train'\n",
        "class_names = os.listdir('/content/Alzheimer_s Dataset/train')\n",
        "print_sample_images(train_dir, class_names)"
      ],
      "metadata": {
        "colab": {
          "base_uri": "https://localhost:8080/",
          "height": 226
        },
        "id": "EwEpet6pzGxl",
        "outputId": "50dc47cc-5dfd-48fa-8bfb-280bf9c49619"
      },
      "execution_count": null,
      "outputs": [
        {
          "output_type": "display_data",
          "data": {
            "text/plain": [
              "<Figure size 1000x1000 with 4 Axes>"
            ],
            "image/png": "[encoded data removed]"
          },
          "metadata": {}
        }
      ]
    },
    {
      "cell_type": "markdown",
      "source": [
        "# Images in train data"
      ],
      "metadata": {
        "id": "T93m2V-sVDhV"
      }
    },
    {
      "cell_type": "code",
      "source": [
        "train_folder = '/content/Alzheimer_s Dataset/train'\n",
        "class_names_train_folder = os.listdir(train_folder)\n",
        "class_count = []\n",
        "\n",
        "for class_name in class_names_train_folder:\n",
        "  num_images = len(os.listdir(os.path.join(train_folder, class_name)))\n",
        "  class_count.append(num_images)\n",
        "  print(f\"Class {class_name}: {num_images} images\")\n"
      ],
      "metadata": {
        "id": "iniRBG6wVCwo",
        "outputId": "eabbeb59-c8b3-472a-fa3a-ee62edb69a14",
        "colab": {
          "base_uri": "https://localhost:8080/"
        }
      },
      "execution_count": null,
      "outputs": [
        {
          "output_type": "stream",
          "name": "stdout",
          "text": [
            "Class MildDemented: 717 images\n",
            "Class VeryMildDemented: 1792 images\n",
            "Class ModerateDemented: 52 images\n",
            "Class NonDemented: 2560 images\n"
          ]
        }
      ]
    },
    {
      "cell_type": "code",
      "source": [
        "\n",
        "plt.figure(figsize=(10, 6))\n",
        "plt.bar(class_names_train_folder, class_count)\n",
        "\n",
        "plt.title('The Number Of Images In Train folder For Each Class', fontsize=20)\n",
        "plt.xlabel(\"Class\", fontsize = 20)\n",
        "plt.ylabel(\"Number of Images\", fontsize=20)\n",
        "plt.xticks(rotation=45)\n",
        "\n",
        "plt.show()\n"
      ],
      "metadata": {
        "colab": {
          "base_uri": "https://localhost:8080/",
          "height": 680
        },
        "id": "BY581UoIQ8xG",
        "outputId": "fb4ac072-222d-4f2b-abc1-de1692138aa7"
      },
      "execution_count": null,
      "outputs": [
        {
          "output_type": "display_data",
          "data": {
            "text/plain": [
              "<Figure size 1000x600 with 1 Axes>"
            ],
            "image/png": "[encoded data removed]"
          },
          "metadata": {}
        }
      ]
    },
    {
      "cell_type": "markdown",
      "source": [
        "# **Train Test split and Build Model**"
      ],
      "metadata": {
        "id": "2Jb3kOW7vsuK"
      }
    },
    {
      "cell_type": "code",
      "source": [
        "#  Loads all images and labels from a directory and converts them to a NumPy array.\n",
        "\n",
        "def load_train_data(data_dir):\n",
        "\n",
        "  image_width, image_height = 128, 128\n",
        "  class_names = os.listdir(data_dir)\n",
        "  class_name_to_label = {class_name: i for i, class_name in enumerate(class_names)}\n",
        "  images = []\n",
        "  labels = []\n",
        "\n",
        "  for class_name in class_names:\n",
        "    class_path = os.path.join(data_dir, class_name)\n",
        "    for filename in os.listdir(class_path):\n",
        "\n",
        "      image_path = os.path.join(class_path, filename)\n",
        "      image = cv2.imread(image_path)\n",
        "      image = cv2.cvtColor(image, cv2.COLOR_RGB2GRAY)\n",
        "      image = cv2.resize(image, (image_width, image_height))\n",
        "      image = image / 255.0 #normalize\n",
        "\n",
        "      label = class_name_to_label[class_name]\n",
        "      images.append(image)\n",
        "      labels.append(label)\n",
        "\n",
        "  # Convert the list of images to a NumPy array\n",
        "  X_train = np.asarray(images)\n",
        "  Y_train = np.asarray(labels)\n",
        "\n",
        "  return X_train, Y_train"
      ],
      "metadata": {
        "id": "1Iocg5AKsIE-"
      },
      "execution_count": null,
      "outputs": []
    },
    {
      "cell_type": "code",
      "source": [
        "X_train , Y_train = load_train_data('/content/Alzheimer_s Dataset/train')"
      ],
      "metadata": {
        "id": "YvrnA0B9rb8O"
      },
      "execution_count": null,
      "outputs": []
    },
    {
      "cell_type": "code",
      "source": [
        "print(f\"X_train shape: {X_train.shape}\")\n",
        "print(f\"Y_train shape: {Y_train.shape}\")"
      ],
      "metadata": {
        "colab": {
          "base_uri": "https://localhost:8080/"
        },
        "id": "R0abbyc4tbMP",
        "outputId": "d0b97fa6-65f5-4030-b55d-371fcdc83adc"
      },
      "execution_count": null,
      "outputs": [
        {
          "output_type": "stream",
          "name": "stdout",
          "text": [
            "X_train shape: (5121, 128, 128)\n",
            "Y_train shape: (5121,)\n"
          ]
        }
      ]
    },
    {
      "cell_type": "code",
      "source": [
        "Y_train"
      ],
      "metadata": {
        "colab": {
          "base_uri": "https://localhost:8080/"
        },
        "id": "0TXGmPsWvF-r",
        "outputId": "8e5967c8-6be0-4053-8b0a-e45d96e9016e"
      },
      "execution_count": null,
      "outputs": [
        {
          "output_type": "execute_result",
          "data": {
            "text/plain": [
              "array([0, 0, 0, ..., 3, 3, 3])"
            ]
          },
          "metadata": {},
          "execution_count": 22
        }
      ]
    },
    {
      "cell_type": "code",
      "source": [
        "Y_train = tf.keras.utils.to_categorical(Y_train)"
      ],
      "metadata": {
        "id": "IrL-98W9vRTM"
      },
      "execution_count": null,
      "outputs": []
    },
    {
      "cell_type": "code",
      "source": [
        "Y_train"
      ],
      "metadata": {
        "colab": {
          "base_uri": "https://localhost:8080/"
        },
        "id": "rqmsAPH1vSed",
        "outputId": "67ec8c4f-9b34-4465-ff7d-a33841d92c92"
      },
      "execution_count": null,
      "outputs": [
        {
          "output_type": "execute_result",
          "data": {
            "text/plain": [
              "array([[1., 0., 0., 0.],\n",
              "       [1., 0., 0., 0.],\n",
              "       [1., 0., 0., 0.],\n",
              "       ...,\n",
              "       [0., 0., 0., 1.],\n",
              "       [0., 0., 0., 1.],\n",
              "       [0., 0., 0., 1.]], dtype=float32)"
            ]
          },
          "metadata": {},
          "execution_count": 24
        }
      ]
    },
    {
      "cell_type": "code",
      "source": [
        "print(Y_train.shape)"
      ],
      "metadata": {
        "colab": {
          "base_uri": "https://localhost:8080/"
        },
        "id": "N1mHKXfsZ6jH",
        "outputId": "bd9dc9f5-35f0-425a-e61a-a6c417797852"
      },
      "execution_count": null,
      "outputs": [
        {
          "output_type": "stream",
          "name": "stdout",
          "text": [
            "(5121, 4)\n"
          ]
        }
      ]
    },
    {
      "cell_type": "code",
      "source": [
        "X_test , Y_test = load_train_data('/content/Alzheimer_s Dataset/test')"
      ],
      "metadata": {
        "id": "EluaLMR0vaed"
      },
      "execution_count": null,
      "outputs": []
    },
    {
      "cell_type": "code",
      "source": [
        "print(f\"X_test original shape: {X_test.shape}\")\n",
        "print(f\"Y_test original shape: {Y_test.shape}\")"
      ],
      "metadata": {
        "colab": {
          "base_uri": "https://localhost:8080/"
        },
        "id": "fHHjrxCzz2Vg",
        "outputId": "446f4a3f-b27a-4b96-9705-444d9252bf86"
      },
      "execution_count": null,
      "outputs": [
        {
          "output_type": "stream",
          "name": "stdout",
          "text": [
            "X_test original shape: (1279, 128, 128)\n",
            "Y_test original shape: (1279,)\n"
          ]
        }
      ]
    },
    {
      "cell_type": "code",
      "source": [
        "X_val, X_test, Y_val , Y_test = train_test_split(X_test, Y_test, test_size=0.7, random_state=42)\n"
      ],
      "metadata": {
        "id": "hRHSfQhsXFmy"
      },
      "execution_count": null,
      "outputs": []
    },
    {
      "cell_type": "code",
      "source": [
        "print(f\"X_test shape: {X_test.shape}\")\n",
        "print(f\"Y_test shape: {Y_test.shape}\")"
      ],
      "metadata": {
        "id": "4zglQ6aVXK3i",
        "outputId": "e2f8b84e-b0d1-41a7-88a9-f74d4da7a4d4",
        "colab": {
          "base_uri": "https://localhost:8080/"
        }
      },
      "execution_count": null,
      "outputs": [
        {
          "output_type": "stream",
          "name": "stdout",
          "text": [
            "X_test shape: (896, 128, 128)\n",
            "Y_test shape: (896,)\n"
          ]
        }
      ]
    },
    {
      "cell_type": "code",
      "source": [
        "print(f\"X_validation shape: {X_val.shape}\")\n",
        "print(f\"Y_validation shape: {Y_val.shape}\")"
      ],
      "metadata": {
        "id": "2HANEsDuXNQ5",
        "outputId": "e22c29ae-547f-488d-b371-580f2e012410",
        "colab": {
          "base_uri": "https://localhost:8080/"
        }
      },
      "execution_count": null,
      "outputs": [
        {
          "output_type": "stream",
          "name": "stdout",
          "text": [
            "X_validation shape: (383, 128, 128)\n",
            "Y_validation shape: (383,)\n"
          ]
        }
      ]
    },
    {
      "cell_type": "code",
      "source": [
        "Y_test"
      ],
      "metadata": {
        "colab": {
          "base_uri": "https://localhost:8080/"
        },
        "id": "dYx63ohEvlVv",
        "outputId": "b8c38f4e-7de1-4b39-bb5d-695448ad5c4b"
      },
      "execution_count": null,
      "outputs": [
        {
          "output_type": "execute_result",
          "data": {
            "text/plain": [
              "array([3, 3, 1, 3, 3, 1, 3, 3, 3, 3, 3, 1, 0, 0, 1, 1, 1, 3, 1, 1, 3, 3,\n",
              "       1, 1, 1, 3, 3, 3, 3, 3, 1, 3, 1, 0, 1, 3, 0, 1, 3, 3, 1, 1, 3, 0,\n",
              "       1, 3, 1, 0, 3, 3, 3, 3, 0, 0, 0, 1, 0, 3, 3, 3, 1, 1, 3, 3, 1, 3,\n",
              "       3, 1, 3, 3, 3, 1, 3, 0, 0, 3, 3, 3, 3, 1, 1, 1, 1, 3, 1, 3, 3, 1,\n",
              "       3, 1, 0, 1, 3, 3, 3, 0, 1, 0, 1, 3, 1, 1, 2, 3, 0, 3, 1, 1, 0, 3,\n",
              "       1, 1, 1, 3, 3, 1, 3, 3, 1, 3, 1, 1, 1, 3, 3, 3, 3, 3, 2, 3, 1, 1,\n",
              "       3, 3, 0, 3, 3, 0, 3, 3, 3, 0, 1, 1, 1, 1, 1, 3, 3, 1, 0, 0, 3, 1,\n",
              "       3, 3, 1, 1, 0, 3, 3, 3, 3, 3, 1, 3, 3, 3, 1, 1, 1, 0, 1, 3, 3, 3,\n",
              "       2, 0, 1, 1, 1, 1, 0, 3, 3, 1, 0, 3, 1, 0, 1, 3, 1, 3, 3, 3, 1, 1,\n",
              "       3, 3, 1, 3, 3, 1, 3, 1, 1, 3, 3, 3, 1, 3, 3, 3, 0, 1, 1, 1, 1, 1,\n",
              "       3, 1, 0, 1, 1, 1, 3, 3, 3, 3, 1, 3, 1, 1, 3, 0, 0, 3, 3, 3, 1, 1,\n",
              "       0, 1, 3, 3, 3, 1, 1, 3, 3, 3, 3, 3, 0, 1, 1, 3, 3, 3, 0, 3, 3, 3,\n",
              "       1, 1, 3, 3, 0, 1, 3, 1, 0, 1, 1, 1, 1, 3, 1, 1, 1, 1, 1, 3, 1, 3,\n",
              "       3, 1, 1, 3, 0, 3, 3, 3, 1, 3, 3, 0, 3, 3, 3, 3, 3, 3, 1, 1, 3, 1,\n",
              "       1, 0, 3, 1, 3, 3, 3, 3, 1, 3, 1, 1, 3, 3, 1, 3, 3, 3, 0, 0, 3, 1,\n",
              "       0, 3, 1, 1, 3, 3, 2, 1, 0, 1, 3, 3, 0, 1, 3, 1, 0, 3, 3, 1, 1, 1,\n",
              "       1, 3, 1, 3, 1, 3, 3, 3, 3, 3, 3, 3, 1, 3, 1, 3, 1, 3, 1, 1, 3, 3,\n",
              "       3, 0, 0, 1, 3, 0, 1, 3, 3, 3, 3, 3, 3, 0, 0, 3, 3, 3, 3, 3, 1, 1,\n",
              "       3, 1, 3, 1, 3, 3, 0, 0, 3, 3, 1, 3, 3, 1, 1, 1, 1, 3, 3, 3, 1, 0,\n",
              "       3, 0, 1, 1, 0, 1, 3, 1, 1, 3, 3, 3, 3, 3, 1, 1, 3, 3, 1, 3, 3, 1,\n",
              "       1, 1, 1, 3, 3, 0, 0, 1, 1, 3, 3, 1, 3, 3, 1, 3, 0, 3, 1, 1, 3, 1,\n",
              "       3, 3, 3, 1, 3, 1, 1, 1, 0, 1, 3, 0, 1, 0, 3, 0, 1, 1, 0, 3, 1, 1,\n",
              "       0, 1, 3, 3, 1, 1, 1, 3, 3, 1, 2, 1, 3, 1, 1, 3, 1, 3, 3, 1, 1, 3,\n",
              "       3, 1, 1, 0, 1, 3, 0, 1, 1, 1, 1, 1, 1, 1, 0, 3, 3, 1, 3, 3, 3, 3,\n",
              "       3, 1, 1, 0, 3, 0, 3, 1, 1, 0, 1, 1, 3, 3, 1, 0, 1, 3, 3, 3, 3, 3,\n",
              "       3, 1, 3, 1, 1, 3, 3, 1, 3, 3, 1, 3, 3, 0, 0, 3, 0, 3, 1, 1, 3, 3,\n",
              "       3, 0, 0, 3, 0, 1, 3, 3, 1, 3, 3, 1, 3, 3, 3, 0, 1, 3, 0, 1, 3, 1,\n",
              "       1, 0, 3, 1, 0, 3, 1, 3, 0, 1, 3, 1, 1, 3, 3, 1, 1, 3, 0, 1, 3, 1,\n",
              "       0, 3, 3, 3, 3, 0, 2, 3, 1, 1, 3, 3, 1, 3, 3, 3, 3, 3, 1, 3, 3, 3,\n",
              "       3, 1, 1, 1, 1, 3, 1, 0, 0, 3, 3, 3, 0, 3, 1, 3, 1, 3, 1, 3, 1, 1,\n",
              "       0, 1, 3, 1, 3, 3, 3, 3, 3, 0, 1, 0, 3, 1, 0, 3, 1, 3, 1, 1, 0, 0,\n",
              "       1, 3, 1, 3, 3, 1, 3, 1, 1, 3, 1, 1, 0, 0, 1, 1, 3, 3, 0, 3, 3, 0,\n",
              "       1, 3, 3, 1, 0, 3, 1, 3, 1, 1, 0, 0, 3, 3, 3, 1, 0, 3, 0, 3, 1, 3,\n",
              "       3, 3, 1, 1, 0, 3, 3, 3, 3, 1, 3, 3, 1, 3, 3, 1, 1, 3, 1, 1, 1, 3,\n",
              "       0, 0, 3, 3, 3, 3, 1, 0, 1, 3, 1, 3, 3, 1, 3, 3, 3, 3, 3, 3, 1, 3,\n",
              "       3, 3, 1, 1, 1, 3, 3, 3, 3, 1, 1, 1, 0, 3, 3, 1, 3, 1, 0, 1, 1, 1,\n",
              "       3, 0, 3, 3, 3, 1, 3, 3, 3, 0, 1, 3, 1, 0, 0, 1, 1, 1, 3, 1, 3, 1,\n",
              "       3, 3, 3, 3, 3, 0, 3, 1, 3, 1, 3, 0, 1, 1, 3, 1, 3, 3, 3, 1, 1, 3,\n",
              "       0, 3, 3, 1, 3, 0, 1, 3, 3, 3, 1, 3, 1, 1, 3, 1, 1, 3, 3, 0, 3, 0,\n",
              "       3, 1, 3, 0, 1, 3, 0, 0, 3, 3, 3, 1, 1, 3, 1, 1, 1, 1, 3, 1, 0, 2,\n",
              "       3, 3, 3, 1, 2, 3, 3, 3, 0, 3, 3, 0, 1, 3, 3, 0])"
            ]
          },
          "metadata": {},
          "execution_count": 31
        }
      ]
    },
    {
      "cell_type": "code",
      "source": [
        "Y_test_cat = tf.keras.utils.to_categorical(Y_test)"
      ],
      "metadata": {
        "id": "FVzCHTW1vnXL"
      },
      "execution_count": null,
      "outputs": []
    },
    {
      "cell_type": "code",
      "source": [
        "print(Y_test_cat.shape)"
      ],
      "metadata": {
        "colab": {
          "base_uri": "https://localhost:8080/"
        },
        "id": "x8dTjhjLGzRb",
        "outputId": "96648768-c251-445a-e5de-906d70f58711"
      },
      "execution_count": null,
      "outputs": [
        {
          "output_type": "stream",
          "name": "stdout",
          "text": [
            "(896, 4)\n"
          ]
        }
      ]
    },
    {
      "cell_type": "code",
      "source": [
        "Y_test_cat"
      ],
      "metadata": {
        "colab": {
          "base_uri": "https://localhost:8080/"
        },
        "id": "vINQgFzqvr0U",
        "outputId": "e93aab53-408b-4699-933e-e18ea8db442e"
      },
      "execution_count": null,
      "outputs": [
        {
          "output_type": "execute_result",
          "data": {
            "text/plain": [
              "array([[0., 0., 0., 1.],\n",
              "       [0., 0., 0., 1.],\n",
              "       [0., 1., 0., 0.],\n",
              "       ...,\n",
              "       [0., 0., 0., 1.],\n",
              "       [0., 0., 0., 1.],\n",
              "       [1., 0., 0., 0.]], dtype=float32)"
            ]
          },
          "metadata": {},
          "execution_count": 34
        }
      ]
    },
    {
      "cell_type": "code",
      "source": [
        "Y_val"
      ],
      "metadata": {
        "id": "PKTe_1mrXTWu",
        "outputId": "52762b3d-91b5-4c28-caa5-c488753c0508",
        "colab": {
          "base_uri": "https://localhost:8080/"
        }
      },
      "execution_count": null,
      "outputs": [
        {
          "output_type": "execute_result",
          "data": {
            "text/plain": [
              "array([1, 3, 3, 0, 3, 3, 3, 0, 2, 1, 1, 3, 3, 3, 3, 0, 1, 3, 3, 3, 1, 0,\n",
              "       0, 1, 1, 0, 1, 3, 1, 3, 3, 3, 3, 3, 1, 1, 3, 1, 0, 0, 3, 1, 3, 3,\n",
              "       0, 3, 3, 3, 3, 1, 3, 0, 1, 3, 3, 1, 1, 3, 1, 0, 3, 0, 3, 3, 1, 3,\n",
              "       3, 1, 3, 3, 3, 1, 3, 3, 3, 0, 0, 1, 3, 3, 3, 3, 3, 3, 1, 0, 2, 3,\n",
              "       3, 3, 3, 1, 1, 3, 3, 3, 3, 1, 3, 3, 3, 0, 0, 1, 1, 3, 3, 3, 3, 3,\n",
              "       1, 0, 3, 3, 3, 1, 1, 1, 1, 1, 3, 0, 3, 3, 3, 1, 1, 0, 1, 0, 0, 1,\n",
              "       3, 3, 3, 3, 3, 3, 1, 3, 1, 0, 1, 3, 1, 0, 3, 1, 3, 3, 3, 3, 3, 3,\n",
              "       3, 3, 0, 3, 3, 3, 3, 3, 0, 3, 1, 3, 0, 1, 3, 0, 0, 1, 1, 3, 0, 3,\n",
              "       3, 1, 1, 3, 3, 3, 3, 1, 1, 3, 1, 0, 1, 3, 3, 3, 1, 3, 1, 3, 0, 1,\n",
              "       3, 3, 3, 1, 1, 1, 0, 3, 3, 1, 3, 1, 1, 3, 1, 0, 1, 3, 1, 3, 3, 1,\n",
              "       3, 1, 3, 0, 0, 3, 3, 3, 3, 1, 3, 3, 1, 3, 3, 3, 2, 2, 3, 3, 3, 3,\n",
              "       3, 1, 3, 1, 3, 1, 3, 1, 3, 3, 1, 0, 3, 1, 3, 3, 3, 3, 1, 1, 3, 3,\n",
              "       1, 3, 3, 3, 3, 1, 3, 3, 3, 0, 3, 1, 1, 3, 3, 3, 3, 1, 0, 3, 0, 3,\n",
              "       1, 1, 1, 1, 1, 1, 3, 3, 3, 3, 1, 0, 0, 3, 3, 1, 1, 1, 3, 1, 3, 3,\n",
              "       3, 1, 3, 1, 3, 1, 3, 1, 3, 1, 0, 3, 1, 3, 3, 1, 3, 3, 3, 1, 0, 3,\n",
              "       1, 3, 0, 3, 1, 3, 1, 0, 1, 1, 1, 0, 3, 0, 3, 3, 3, 1, 3, 3, 3, 1,\n",
              "       3, 3, 1, 3, 1, 3, 3, 1, 0, 1, 3, 1, 3, 3, 1, 3, 1, 3, 0, 3, 3, 0,\n",
              "       1, 3, 1, 0, 3, 3, 3, 3, 3])"
            ]
          },
          "metadata": {},
          "execution_count": 35
        }
      ]
    },
    {
      "cell_type": "code",
      "source": [
        "Y_val_cat = tf.keras.utils.to_categorical(Y_val)"
      ],
      "metadata": {
        "id": "ehkuDVs_XVc6"
      },
      "execution_count": null,
      "outputs": []
    },
    {
      "cell_type": "code",
      "source": [
        "print(Y_val_cat.shape)"
      ],
      "metadata": {
        "id": "S1CVs9uEXX_j",
        "outputId": "25d26c8f-4880-4417-bf51-4e01eb9fb2a3",
        "colab": {
          "base_uri": "https://localhost:8080/"
        }
      },
      "execution_count": null,
      "outputs": [
        {
          "output_type": "stream",
          "name": "stdout",
          "text": [
            "(383, 4)\n"
          ]
        }
      ]
    },
    {
      "cell_type": "code",
      "source": [
        "Y_val_cat"
      ],
      "metadata": {
        "id": "q9nEVl_mXaUU",
        "outputId": "c0dd05f3-7be7-4ae3-800a-659d0ebc4ee3",
        "colab": {
          "base_uri": "https://localhost:8080/"
        }
      },
      "execution_count": null,
      "outputs": [
        {
          "output_type": "execute_result",
          "data": {
            "text/plain": [
              "array([[0., 1., 0., 0.],\n",
              "       [0., 0., 0., 1.],\n",
              "       [0., 0., 0., 1.],\n",
              "       ...,\n",
              "       [0., 0., 0., 1.],\n",
              "       [0., 0., 0., 1.],\n",
              "       [0., 0., 0., 1.]], dtype=float32)"
            ]
          },
          "metadata": {},
          "execution_count": 38
        }
      ]
    },
    {
      "cell_type": "code",
      "source": [
        "# CNN model\n",
        "model1 = Sequential()\n",
        "inputSize = (128,128,1)\n",
        "\n",
        "#ilters=32, kernel_size=(4,4), input_shape=(28,28,1), activation='relu')\n",
        "model1.add(Conv2D(filters = 32, kernel_size=(3,3), input_shape=inputSize, activation='relu'))\n",
        "model1.add(MaxPool2D(pool_size=(2,2)))\n",
        "\n",
        "model1.add(Conv2D(filters = 32, kernel_size=(3,3), input_shape=inputSize, activation='relu'))\n",
        "model1.add(MaxPool2D(pool_size=(2,2)))\n",
        "\n",
        "model1.add(Conv2D(filters = 32, kernel_size=(3,3), input_shape=inputSize, activation='relu'))\n",
        "model1.add(MaxPool2D(pool_size=(2,2)))\n",
        "\n",
        "model1.add(Flatten())\n",
        "\n",
        "model1.add(Dense(1024, activation='relu'))\n",
        "model1.add(Dropout(0.2))\n",
        "\n",
        "model1.add(Dense(4, activation = 'softmax'))\n",
        "model1.compile(loss = 'categorical_crossentropy',\n",
        "              optimizer = 'adam',\n",
        "              metrics = ['accuracy'])"
      ],
      "metadata": {
        "id": "qyfIQ8gr7QZV"
      },
      "execution_count": null,
      "outputs": []
    },
    {
      "cell_type": "code",
      "source": [
        "model1.summary()"
      ],
      "metadata": {
        "colab": {
          "base_uri": "https://localhost:8080/"
        },
        "id": "p-KxKdTWBtpn",
        "outputId": "e6105147-ed58-4c74-e73f-380b295d45a2"
      },
      "execution_count": null,
      "outputs": [
        {
          "output_type": "stream",
          "name": "stdout",
          "text": [
            "Model: \"sequential\"\n",
            "_________________________________________________________________\n",
            " Layer (type)                Output Shape              Param #   \n",
            "=================================================================\n",
            " conv2d (Conv2D)             (None, 126, 126, 32)      320       \n",
            "                                                                 \n",
            " max_pooling2d (MaxPooling2  (None, 63, 63, 32)        0         \n",
            " D)                                                              \n",
            "                                                                 \n",
            " conv2d_1 (Conv2D)           (None, 61, 61, 32)        9248      \n",
            "                                                                 \n",
            " max_pooling2d_1 (MaxPoolin  (None, 30, 30, 32)        0         \n",
            " g2D)                                                            \n",
            "                                                                 \n",
            " conv2d_2 (Conv2D)           (None, 28, 28, 32)        9248      \n",
            "                                                                 \n",
            " max_pooling2d_2 (MaxPoolin  (None, 14, 14, 32)        0         \n",
            " g2D)                                                            \n",
            "                                                                 \n",
            " flatten (Flatten)           (None, 6272)              0         \n",
            "                                                                 \n",
            " dense (Dense)               (None, 1024)              6423552   \n",
            "                                                                 \n",
            " dropout (Dropout)           (None, 1024)              0         \n",
            "                                                                 \n",
            " dense_1 (Dense)             (None, 4)                 4100      \n",
            "                                                                 \n",
            "=================================================================\n",
            "Total params: 6446468 (24.59 MB)\n",
            "Trainable params: 6446468 (24.59 MB)\n",
            "Non-trainable params: 0 (0.00 Byte)\n",
            "_________________________________________________________________\n"
          ]
        }
      ]
    },
    {
      "cell_type": "code",
      "source": [
        "results = model1.fit(X_train, Y_train, epochs=35, validation_data=(X_val, Y_val_cat))"
      ],
      "metadata": {
        "colab": {
          "base_uri": "https://localhost:8080/"
        },
        "id": "dIYSHz2HEwZ3",
        "outputId": "23504475-d0ce-4565-bc8a-29b743d48e34"
      },
      "execution_count": null,
      "outputs": [
        {
          "output_type": "stream",
          "name": "stdout",
          "text": [
            "Epoch 1/35\n",
            "161/161 [==============================] - 92s 560ms/step - loss: 0.9935 - accuracy: 0.5210 - val_loss: 1.0924 - val_accuracy: 0.5587\n",
            "Epoch 2/35\n",
            "161/161 [==============================] - 86s 536ms/step - loss: 0.8224 - accuracy: 0.6300 - val_loss: 0.9091 - val_accuracy: 0.6188\n",
            "Epoch 3/35\n",
            "161/161 [==============================] - 91s 567ms/step - loss: 0.5832 - accuracy: 0.7510 - val_loss: 1.0117 - val_accuracy: 0.6188\n",
            "Epoch 4/35\n",
            "161/161 [==============================] - 97s 602ms/step - loss: 0.3553 - accuracy: 0.8580 - val_loss: 1.1094 - val_accuracy: 0.6397\n",
            "Epoch 5/35\n",
            "161/161 [==============================] - 85s 530ms/step - loss: 0.1581 - accuracy: 0.9463 - val_loss: 1.4728 - val_accuracy: 0.6632\n",
            "Epoch 6/35\n",
            "161/161 [==============================] - 89s 549ms/step - loss: 0.0646 - accuracy: 0.9789 - val_loss: 1.5450 - val_accuracy: 0.6475\n",
            "Epoch 7/35\n",
            "161/161 [==============================] - 91s 566ms/step - loss: 0.0491 - accuracy: 0.9826 - val_loss: 1.8265 - val_accuracy: 0.6606\n",
            "Epoch 8/35\n",
            "161/161 [==============================] - 89s 551ms/step - loss: 0.0584 - accuracy: 0.9793 - val_loss: 1.8473 - val_accuracy: 0.6031\n",
            "Epoch 9/35\n",
            "161/161 [==============================] - 88s 548ms/step - loss: 0.0269 - accuracy: 0.9926 - val_loss: 1.7661 - val_accuracy: 0.6893\n",
            "Epoch 10/35\n",
            "161/161 [==============================] - 88s 543ms/step - loss: 0.0097 - accuracy: 0.9973 - val_loss: 2.2326 - val_accuracy: 0.6710\n",
            "Epoch 11/35\n",
            "161/161 [==============================] - 86s 532ms/step - loss: 0.0031 - accuracy: 0.9994 - val_loss: 2.3686 - val_accuracy: 0.6893\n",
            "Epoch 12/35\n",
            "161/161 [==============================] - 89s 550ms/step - loss: 0.0153 - accuracy: 0.9955 - val_loss: 2.2785 - val_accuracy: 0.6841\n",
            "Epoch 13/35\n",
            "161/161 [==============================] - 88s 547ms/step - loss: 0.0347 - accuracy: 0.9873 - val_loss: 2.7320 - val_accuracy: 0.6449\n",
            "Epoch 14/35\n",
            "161/161 [==============================] - 87s 538ms/step - loss: 0.0369 - accuracy: 0.9881 - val_loss: 2.4445 - val_accuracy: 0.6736\n",
            "Epoch 15/35\n",
            "161/161 [==============================] - 85s 529ms/step - loss: 0.0200 - accuracy: 0.9930 - val_loss: 1.8727 - val_accuracy: 0.7050\n",
            "Epoch 16/35\n",
            "161/161 [==============================] - 87s 538ms/step - loss: 0.0182 - accuracy: 0.9939 - val_loss: 2.4094 - val_accuracy: 0.6554\n",
            "Epoch 17/35\n",
            "161/161 [==============================] - 88s 547ms/step - loss: 0.0253 - accuracy: 0.9910 - val_loss: 2.6569 - val_accuracy: 0.6658\n",
            "Epoch 18/35\n",
            "161/161 [==============================] - 86s 534ms/step - loss: 0.0114 - accuracy: 0.9955 - val_loss: 3.3958 - val_accuracy: 0.6005\n",
            "Epoch 19/35\n",
            "161/161 [==============================] - 89s 551ms/step - loss: 0.0730 - accuracy: 0.9766 - val_loss: 2.0995 - val_accuracy: 0.6997\n",
            "Epoch 20/35\n",
            "161/161 [==============================] - 86s 532ms/step - loss: 0.0020 - accuracy: 0.9998 - val_loss: 3.1706 - val_accuracy: 0.6319\n",
            "Epoch 21/35\n",
            "161/161 [==============================] - 87s 542ms/step - loss: 6.8945e-04 - accuracy: 1.0000 - val_loss: 2.2326 - val_accuracy: 0.6867\n",
            "Epoch 22/35\n",
            "161/161 [==============================] - 83s 519ms/step - loss: 5.8518e-04 - accuracy: 1.0000 - val_loss: 3.6160 - val_accuracy: 0.6449\n",
            "Epoch 23/35\n",
            "161/161 [==============================] - 87s 543ms/step - loss: 7.8503e-04 - accuracy: 1.0000 - val_loss: 2.8583 - val_accuracy: 0.6841\n",
            "Epoch 24/35\n",
            "161/161 [==============================] - 85s 526ms/step - loss: 2.3010e-04 - accuracy: 1.0000 - val_loss: 3.1615 - val_accuracy: 0.6815\n",
            "Epoch 25/35\n",
            "161/161 [==============================] - 86s 533ms/step - loss: 7.2848e-05 - accuracy: 1.0000 - val_loss: 3.1116 - val_accuracy: 0.6919\n",
            "Epoch 26/35\n",
            "161/161 [==============================] - 85s 531ms/step - loss: 6.6822e-05 - accuracy: 1.0000 - val_loss: 3.1671 - val_accuracy: 0.6919\n",
            "Epoch 27/35\n",
            "161/161 [==============================] - 88s 547ms/step - loss: 7.4540e-05 - accuracy: 1.0000 - val_loss: 3.1420 - val_accuracy: 0.6841\n",
            "Epoch 28/35\n",
            "161/161 [==============================] - 85s 530ms/step - loss: 6.1925e-05 - accuracy: 1.0000 - val_loss: 3.1706 - val_accuracy: 0.6919\n",
            "Epoch 29/35\n",
            "161/161 [==============================] - 86s 534ms/step - loss: 5.3956e-05 - accuracy: 1.0000 - val_loss: 3.2060 - val_accuracy: 0.6841\n",
            "Epoch 30/35\n",
            "161/161 [==============================] - 86s 536ms/step - loss: 2.2204e-05 - accuracy: 1.0000 - val_loss: 3.2312 - val_accuracy: 0.6919\n",
            "Epoch 31/35\n",
            "161/161 [==============================] - 86s 536ms/step - loss: 3.4170e-05 - accuracy: 1.0000 - val_loss: 3.2295 - val_accuracy: 0.6815\n",
            "Epoch 32/35\n",
            "161/161 [==============================] - 87s 541ms/step - loss: 2.8178e-05 - accuracy: 1.0000 - val_loss: 3.2436 - val_accuracy: 0.6841\n",
            "Epoch 33/35\n",
            "161/161 [==============================] - 86s 536ms/step - loss: 3.2072e-05 - accuracy: 1.0000 - val_loss: 3.3466 - val_accuracy: 0.6893\n",
            "Epoch 34/35\n",
            "161/161 [==============================] - 87s 541ms/step - loss: 2.2383e-05 - accuracy: 1.0000 - val_loss: 3.2504 - val_accuracy: 0.6867\n",
            "Epoch 35/35\n",
            "161/161 [==============================] - 86s 532ms/step - loss: 2.0301e-05 - accuracy: 1.0000 - val_loss: 3.3210 - val_accuracy: 0.6893\n"
          ]
        }
      ]
    },
    {
      "cell_type": "code",
      "source": [
        "print(model1.output_shape)"
      ],
      "metadata": {
        "id": "PAPdI8YsHE63",
        "colab": {
          "base_uri": "https://localhost:8080/"
        },
        "outputId": "16753405-aed4-4347-e1fd-cce41d70e794"
      },
      "execution_count": null,
      "outputs": [
        {
          "output_type": "stream",
          "name": "stdout",
          "text": [
            "(None, 4)\n"
          ]
        }
      ]
    },
    {
      "cell_type": "code",
      "source": [
        "hist_=pd.DataFrame(results.history)\n",
        "hist_"
      ],
      "metadata": {
        "colab": {
          "base_uri": "https://localhost:8080/",
          "height": 1000
        },
        "id": "JTD7k4UktUDx",
        "outputId": "3b0a9772-b167-489e-cbe4-4bf478bfab83"
      },
      "execution_count": null,
      "outputs": [
        {
          "output_type": "execute_result",
          "data": {
            "text/plain": [
              "        loss  accuracy  val_loss  val_accuracy\n",
              "0   0.993486  0.520992  1.092383      0.558747\n",
              "1   0.822438  0.629955  0.909123      0.618799\n",
              "2   0.583157  0.751025  1.011688      0.618799\n",
              "3   0.355322  0.858036  1.109418      0.639687\n",
              "4   0.158134  0.946300  1.472772      0.663185\n",
              "5   0.064645  0.978910  1.545037      0.647520\n",
              "6   0.049062  0.982621  1.826517      0.660574\n",
              "7   0.058440  0.979301  1.847278      0.603133\n",
              "8   0.026914  0.992580  1.766121      0.689295\n",
              "9   0.009710  0.997266  2.232625      0.671018\n",
              "10  0.003067  0.999414  2.368623      0.689295\n",
              "11  0.015264  0.995509  2.278485      0.684073\n",
              "12  0.034687  0.987307  2.731969      0.644909\n",
              "13  0.036935  0.988088  2.444489      0.673629\n",
              "14  0.020009  0.992970  1.872671      0.704961\n",
              "15  0.018215  0.993946  2.409417      0.655352\n",
              "16  0.025339  0.991017  2.656940      0.665796\n",
              "17  0.011379  0.995509  3.395772      0.600522\n",
              "18  0.072966  0.976567  2.099517      0.699739\n",
              "19  0.001969  0.999805  3.170619      0.631854\n",
              "20  0.000689  1.000000  2.232581      0.686684\n",
              "21  0.000585  1.000000  3.616000      0.644909\n",
              "22  0.000785  1.000000  2.858297      0.684073\n",
              "23  0.000230  1.000000  3.161466      0.681462\n",
              "24  0.000073  1.000000  3.111592      0.691906\n",
              "25  0.000067  1.000000  3.167083      0.691906\n",
              "26  0.000075  1.000000  3.142015      0.684073\n",
              "27  0.000062  1.000000  3.170623      0.691906\n",
              "28  0.000054  1.000000  3.206020      0.684073\n",
              "29  0.000022  1.000000  3.231191      0.691906\n",
              "30  0.000034  1.000000  3.229539      0.681462\n",
              "31  0.000028  1.000000  3.243579      0.684073\n",
              "32  0.000032  1.000000  3.346618      0.689295\n",
              "33  0.000022  1.000000  3.250435      0.686684\n",
              "34  0.000020  1.000000  3.320973      0.689295"
            ],
            "text/html": [
              "\n",
              "  <div id=\"df-db363569-eca7-4149-a694-aa26c60ce2db\" class=\"colab-df-container\">\n",
              "    <div>\n",
              "<style scoped>\n",
              "    .dataframe tbody tr th:only-of-type {\n",
              "        vertical-align: middle;\n",
              "    }\n",
              "\n",
              "    .dataframe tbody tr th {\n",
              "        vertical-align: top;\n",
              "    }\n",
              "\n",
              "    .dataframe thead th {\n",
              "        text-align: right;\n",
              "    }\n",
              "</style>\n",
              "<table border=\"1\" class=\"dataframe\">\n",
              "  <thead>\n",
              "    <tr style=\"text-align: right;\">\n",
              "      <th></th>\n",
              "      <th>loss</th>\n",
              "      <th>accuracy</th>\n",
              "      <th>val_loss</th>\n",
              "      <th>val_accuracy</th>\n",
              "    </tr>\n",
              "  </thead>\n",
              "  <tbody>\n",
              "    <tr>\n",
              "      <th>0</th>\n",
              "      <td>0.993486</td>\n",
              "      <td>0.520992</td>\n",
              "      <td>1.092383</td>\n",
              "      <td>0.558747</td>\n",
              "    </tr>\n",
              "    <tr>\n",
              "      <th>1</th>\n",
              "      <td>0.822438</td>\n",
              "      <td>0.629955</td>\n",
              "      <td>0.909123</td>\n",
              "      <td>0.618799</td>\n",
              "    </tr>\n",
              "    <tr>\n",
              "      <th>2</th>\n",
              "      <td>0.583157</td>\n",
              "      <td>0.751025</td>\n",
              "      <td>1.011688</td>\n",
              "      <td>0.618799</td>\n",
              "    </tr>\n",
              "    <tr>\n",
              "      <th>3</th>\n",
              "      <td>0.355322</td>\n",
              "      <td>0.858036</td>\n",
              "      <td>1.109418</td>\n",
              "      <td>0.639687</td>\n",
              "    </tr>\n",
              "    <tr>\n",
              "      <th>4</th>\n",
              "      <td>0.158134</td>\n",
              "      <td>0.946300</td>\n",
              "      <td>1.472772</td>\n",
              "      <td>0.663185</td>\n",
              "    </tr>\n",
              "    <tr>\n",
              "      <th>5</th>\n",
              "      <td>0.064645</td>\n",
              "      <td>0.978910</td>\n",
              "      <td>1.545037</td>\n",
              "      <td>0.647520</td>\n",
              "    </tr>\n",
              "    <tr>\n",
              "      <th>6</th>\n",
              "      <td>0.049062</td>\n",
              "      <td>0.982621</td>\n",
              "      <td>1.826517</td>\n",
              "      <td>0.660574</td>\n",
              "    </tr>\n",
              "    <tr>\n",
              "      <th>7</th>\n",
              "      <td>0.058440</td>\n",
              "      <td>0.979301</td>\n",
              "      <td>1.847278</td>\n",
              "      <td>0.603133</td>\n",
              "    </tr>\n",
              "    <tr>\n",
              "      <th>8</th>\n",
              "      <td>0.026914</td>\n",
              "      <td>0.992580</td>\n",
              "      <td>1.766121</td>\n",
              "      <td>0.689295</td>\n",
              "    </tr>\n",
              "    <tr>\n",
              "      <th>9</th>\n",
              "      <td>0.009710</td>\n",
              "      <td>0.997266</td>\n",
              "      <td>2.232625</td>\n",
              "      <td>0.671018</td>\n",
              "    </tr>\n",
              "    <tr>\n",
              "      <th>10</th>\n",
              "      <td>0.003067</td>\n",
              "      <td>0.999414</td>\n",
              "      <td>2.368623</td>\n",
              "      <td>0.689295</td>\n",
              "    </tr>\n",
              "    <tr>\n",
              "      <th>11</th>\n",
              "      <td>0.015264</td>\n",
              "      <td>0.995509</td>\n",
              "      <td>2.278485</td>\n",
              "      <td>0.684073</td>\n",
              "    </tr>\n",
              "    <tr>\n",
              "      <th>12</th>\n",
              "      <td>0.034687</td>\n",
              "      <td>0.987307</td>\n",
              "      <td>2.731969</td>\n",
              "      <td>0.644909</td>\n",
              "    </tr>\n",
              "    <tr>\n",
              "      <th>13</th>\n",
              "      <td>0.036935</td>\n",
              "      <td>0.988088</td>\n",
              "      <td>2.444489</td>\n",
              "      <td>0.673629</td>\n",
              "    </tr>\n",
              "    <tr>\n",
              "      <th>14</th>\n",
              "      <td>0.020009</td>\n",
              "      <td>0.992970</td>\n",
              "      <td>1.872671</td>\n",
              "      <td>0.704961</td>\n",
              "    </tr>\n",
              "    <tr>\n",
              "      <th>15</th>\n",
              "      <td>0.018215</td>\n",
              "      <td>0.993946</td>\n",
              "      <td>2.409417</td>\n",
              "      <td>0.655352</td>\n",
              "    </tr>\n",
              "    <tr>\n",
              "      <th>16</th>\n",
              "      <td>0.025339</td>\n",
              "      <td>0.991017</td>\n",
              "      <td>2.656940</td>\n",
              "      <td>0.665796</td>\n",
              "    </tr>\n",
              "    <tr>\n",
              "      <th>17</th>\n",
              "      <td>0.011379</td>\n",
              "      <td>0.995509</td>\n",
              "      <td>3.395772</td>\n",
              "      <td>0.600522</td>\n",
              "    </tr>\n",
              "    <tr>\n",
              "      <th>18</th>\n",
              "      <td>0.072966</td>\n",
              "      <td>0.976567</td>\n",
              "      <td>2.099517</td>\n",
              "      <td>0.699739</td>\n",
              "    </tr>\n",
              "    <tr>\n",
              "      <th>19</th>\n",
              "      <td>0.001969</td>\n",
              "      <td>0.999805</td>\n",
              "      <td>3.170619</td>\n",
              "      <td>0.631854</td>\n",
              "    </tr>\n",
              "    <tr>\n",
              "      <th>20</th>\n",
              "      <td>0.000689</td>\n",
              "      <td>1.000000</td>\n",
              "      <td>2.232581</td>\n",
              "      <td>0.686684</td>\n",
              "    </tr>\n",
              "    <tr>\n",
              "      <th>21</th>\n",
              "      <td>0.000585</td>\n",
              "      <td>1.000000</td>\n",
              "      <td>3.616000</td>\n",
              "      <td>0.644909</td>\n",
              "    </tr>\n",
              "    <tr>\n",
              "      <th>22</th>\n",
              "      <td>0.000785</td>\n",
              "      <td>1.000000</td>\n",
              "      <td>2.858297</td>\n",
              "      <td>0.684073</td>\n",
              "    </tr>\n",
              "    <tr>\n",
              "      <th>23</th>\n",
              "      <td>0.000230</td>\n",
              "      <td>1.000000</td>\n",
              "      <td>3.161466</td>\n",
              "      <td>0.681462</td>\n",
              "    </tr>\n",
              "    <tr>\n",
              "      <th>24</th>\n",
              "      <td>0.000073</td>\n",
              "      <td>1.000000</td>\n",
              "      <td>3.111592</td>\n",
              "      <td>0.691906</td>\n",
              "    </tr>\n",
              "    <tr>\n",
              "      <th>25</th>\n",
              "      <td>0.000067</td>\n",
              "      <td>1.000000</td>\n",
              "      <td>3.167083</td>\n",
              "      <td>0.691906</td>\n",
              "    </tr>\n",
              "    <tr>\n",
              "      <th>26</th>\n",
              "      <td>0.000075</td>\n",
              "      <td>1.000000</td>\n",
              "      <td>3.142015</td>\n",
              "      <td>0.684073</td>\n",
              "    </tr>\n",
              "    <tr>\n",
              "      <th>27</th>\n",
              "      <td>0.000062</td>\n",
              "      <td>1.000000</td>\n",
              "      <td>3.170623</td>\n",
              "      <td>0.691906</td>\n",
              "    </tr>\n",
              "    <tr>\n",
              "      <th>28</th>\n",
              "      <td>0.000054</td>\n",
              "      <td>1.000000</td>\n",
              "      <td>3.206020</td>\n",
              "      <td>0.684073</td>\n",
              "    </tr>\n",
              "    <tr>\n",
              "      <th>29</th>\n",
              "      <td>0.000022</td>\n",
              "      <td>1.000000</td>\n",
              "      <td>3.231191</td>\n",
              "      <td>0.691906</td>\n",
              "    </tr>\n",
              "    <tr>\n",
              "      <th>30</th>\n",
              "      <td>0.000034</td>\n",
              "      <td>1.000000</td>\n",
              "      <td>3.229539</td>\n",
              "      <td>0.681462</td>\n",
              "    </tr>\n",
              "    <tr>\n",
              "      <th>31</th>\n",
              "      <td>0.000028</td>\n",
              "      <td>1.000000</td>\n",
              "      <td>3.243579</td>\n",
              "      <td>0.684073</td>\n",
              "    </tr>\n",
              "    <tr>\n",
              "      <th>32</th>\n",
              "      <td>0.000032</td>\n",
              "      <td>1.000000</td>\n",
              "      <td>3.346618</td>\n",
              "      <td>0.689295</td>\n",
              "    </tr>\n",
              "    <tr>\n",
              "      <th>33</th>\n",
              "      <td>0.000022</td>\n",
              "      <td>1.000000</td>\n",
              "      <td>3.250435</td>\n",
              "      <td>0.686684</td>\n",
              "    </tr>\n",
              "    <tr>\n",
              "      <th>34</th>\n",
              "      <td>0.000020</td>\n",
              "      <td>1.000000</td>\n",
              "      <td>3.320973</td>\n",
              "      <td>0.689295</td>\n",
              "    </tr>\n",
              "  </tbody>\n",
              "</table>\n",
              "</div>\n",
              "    <div class=\"colab-df-buttons\">\n",
              "\n",
              "  <div class=\"colab-df-container\">\n",
              "    <button class=\"colab-df-convert\" onclick=\"convertToInteractive('df-db363569-eca7-4149-a694-aa26c60ce2db')\"\n",
              "            title=\"Convert this dataframe to an interactive table.\"\n",
              "            style=\"display:none;\">\n",
              "\n",
              "  <svg xmlns=\"http://www.w3.org/2000/svg\" height=\"24px\" viewBox=\"0 -960 960 960\">\n",
              "    <path d=\"M120-120v-720h720v720H120Zm60-500h600v-160H180v160Zm220 220h160v-160H400v160Zm0 220h160v-160H400v160ZM180-400h160v-160H180v160Zm440 0h160v-160H620v160ZM180-180h160v-160H180v160Zm440 0h160v-160H620v160Z\"/>\n",
              "  </svg>\n",
              "    </button>\n",
              "\n",
              "  <style>\n",
              "    .colab-df-container {\n",
              "      display:flex;\n",
              "      gap: 12px;\n",
              "    }\n",
              "\n",
              "    .colab-df-convert {\n",
              "      background-color: #E8F0FE;\n",
              "      border: none;\n",
              "      border-radius: 50%;\n",
              "      cursor: pointer;\n",
              "      display: none;\n",
              "      fill: #1967D2;\n",
              "      height: 32px;\n",
              "      padding: 0 0 0 0;\n",
              "      width: 32px;\n",
              "    }\n",
              "\n",
              "    .colab-df-convert:hover {\n",
              "      background-color: #E2EBFA;\n",
              "      box-shadow: 0px 1px 2px rgba(60, 64, 67, 0.3), 0px 1px 3px 1px rgba(60, 64, 67, 0.15);\n",
              "      fill: #174EA6;\n",
              "    }\n",
              "\n",
              "    .colab-df-buttons div {\n",
              "      margin-bottom: 4px;\n",
              "    }\n",
              "\n",
              "    [theme=dark] .colab-df-convert {\n",
              "      background-color: #3B4455;\n",
              "      fill: #D2E3FC;\n",
              "    }\n",
              "\n",
              "    [theme=dark] .colab-df-convert:hover {\n",
              "      background-color: #434B5C;\n",
              "      box-shadow: 0px 1px 3px 1px rgba(0, 0, 0, 0.15);\n",
              "      filter: drop-shadow(0px 1px 2px rgba(0, 0, 0, 0.3));\n",
              "      fill: #FFFFFF;\n",
              "    }\n",
              "  </style>\n",
              "\n",
              "    <script>\n",
              "      const buttonEl =\n",
              "        document.querySelector('#df-db363569-eca7-4149-a694-aa26c60ce2db button.colab-df-convert');\n",
              "      buttonEl.style.display =\n",
              "        google.colab.kernel.accessAllowed ? 'block' : 'none';\n",
              "\n",
              "      async function convertToInteractive(key) {\n",
              "        const element = document.querySelector('#df-db363569-eca7-4149-a694-aa26c60ce2db');\n",
              "        const dataTable =\n",
              "          await google.colab.kernel.invokeFunction('convertToInteractive',\n",
              "                                                    [key], {});\n",
              "        if (!dataTable) return;\n",
              "\n",
              "        const docLinkHtml = 'Like what you see? Visit the ' +\n",
              "          '<a target=\"_blank\" href=https://colab.research.google.com/notebooks/data_table.ipynb>data table notebook</a>'\n",
              "          + ' to learn more about interactive tables.';\n",
              "        element.innerHTML = '';\n",
              "        dataTable['output_type'] = 'display_data';\n",
              "        await google.colab.output.renderOutput(dataTable, element);\n",
              "        const docLink = document.createElement('div');\n",
              "        docLink.innerHTML = docLinkHtml;\n",
              "        element.appendChild(docLink);\n",
              "      }\n",
              "    </script>\n",
              "  </div>\n",
              "\n",
              "\n",
              "<div id=\"df-436bb951-4568-49c8-acb8-918f19c80ee4\">\n",
              "  <button class=\"colab-df-quickchart\" onclick=\"quickchart('df-436bb951-4568-49c8-acb8-918f19c80ee4')\"\n",
              "            title=\"Suggest charts\"\n",
              "            style=\"display:none;\">\n",
              "\n",
              "<svg xmlns=\"http://www.w3.org/2000/svg\" height=\"24px\"viewBox=\"0 0 24 24\"\n",
              "     width=\"24px\">\n",
              "    <g>\n",
              "        <path d=\"M19 3H5c-1.1 0-2 .9-2 2v14c0 1.1.9 2 2 2h14c1.1 0 2-.9 2-2V5c0-1.1-.9-2-2-2zM9 17H7v-7h2v7zm4 0h-2V7h2v10zm4 0h-2v-4h2v4z\"/>\n",
              "    </g>\n",
              "</svg>\n",
              "  </button>\n",
              "\n",
              "<style>\n",
              "  .colab-df-quickchart {\n",
              "      --bg-color: #E8F0FE;\n",
              "      --fill-color: #1967D2;\n",
              "      --hover-bg-color: #E2EBFA;\n",
              "      --hover-fill-color: #174EA6;\n",
              "      --disabled-fill-color: #AAA;\n",
              "      --disabled-bg-color: #DDD;\n",
              "  }\n",
              "\n",
              "  [theme=dark] .colab-df-quickchart {\n",
              "      --bg-color: #3B4455;\n",
              "      --fill-color: #D2E3FC;\n",
              "      --hover-bg-color: #434B5C;\n",
              "      --hover-fill-color: #FFFFFF;\n",
              "      --disabled-bg-color: #3B4455;\n",
              "      --disabled-fill-color: #666;\n",
              "  }\n",
              "\n",
              "  .colab-df-quickchart {\n",
              "    background-color: var(--bg-color);\n",
              "    border: none;\n",
              "    border-radius: 50%;\n",
              "    cursor: pointer;\n",
              "    display: none;\n",
              "    fill: var(--fill-color);\n",
              "    height: 32px;\n",
              "    padding: 0;\n",
              "    width: 32px;\n",
              "  }\n",
              "\n",
              "  .colab-df-quickchart:hover {\n",
              "    background-color: var(--hover-bg-color);\n",
              "    box-shadow: 0 1px 2px rgba(60, 64, 67, 0.3), 0 1px 3px 1px rgba(60, 64, 67, 0.15);\n",
              "    fill: var(--button-hover-fill-color);\n",
              "  }\n",
              "\n",
              "  .colab-df-quickchart-complete:disabled,\n",
              "  .colab-df-quickchart-complete:disabled:hover {\n",
              "    background-color: var(--disabled-bg-color);\n",
              "    fill: var(--disabled-fill-color);\n",
              "    box-shadow: none;\n",
              "  }\n",
              "\n",
              "  .colab-df-spinner {\n",
              "    border: 2px solid var(--fill-color);\n",
              "    border-color: transparent;\n",
              "    border-bottom-color: var(--fill-color);\n",
              "    animation:\n",
              "      spin 1s steps(1) infinite;\n",
              "  }\n",
              "\n",
              "  @keyframes spin {\n",
              "    0% {\n",
              "      border-color: transparent;\n",
              "      border-bottom-color: var(--fill-color);\n",
              "      border-left-color: var(--fill-color);\n",
              "    }\n",
              "    20% {\n",
              "      border-color: transparent;\n",
              "      border-left-color: var(--fill-color);\n",
              "      border-top-color: var(--fill-color);\n",
              "    }\n",
              "    30% {\n",
              "      border-color: transparent;\n",
              "      border-left-color: var(--fill-color);\n",
              "      border-top-color: var(--fill-color);\n",
              "      border-right-color: var(--fill-color);\n",
              "    }\n",
              "    40% {\n",
              "      border-color: transparent;\n",
              "      border-right-color: var(--fill-color);\n",
              "      border-top-color: var(--fill-color);\n",
              "    }\n",
              "    60% {\n",
              "      border-color: transparent;\n",
              "      border-right-color: var(--fill-color);\n",
              "    }\n",
              "    80% {\n",
              "      border-color: transparent;\n",
              "      border-right-color: var(--fill-color);\n",
              "      border-bottom-color: var(--fill-color);\n",
              "    }\n",
              "    90% {\n",
              "      border-color: transparent;\n",
              "      border-bottom-color: var(--fill-color);\n",
              "    }\n",
              "  }\n",
              "</style>\n",
              "\n",
              "  <script>\n",
              "    async function quickchart(key) {\n",
              "      const quickchartButtonEl =\n",
              "        document.querySelector('#' + key + ' button');\n",
              "      quickchartButtonEl.disabled = true;  // To prevent multiple clicks.\n",
              "      quickchartButtonEl.classList.add('colab-df-spinner');\n",
              "      try {\n",
              "        const charts = await google.colab.kernel.invokeFunction(\n",
              "            'suggestCharts', [key], {});\n",
              "      } catch (error) {\n",
              "        console.error('Error during call to suggestCharts:', error);\n",
              "      }\n",
              "      quickchartButtonEl.classList.remove('colab-df-spinner');\n",
              "      quickchartButtonEl.classList.add('colab-df-quickchart-complete');\n",
              "    }\n",
              "    (() => {\n",
              "      let quickchartButtonEl =\n",
              "        document.querySelector('#df-436bb951-4568-49c8-acb8-918f19c80ee4 button');\n",
              "      quickchartButtonEl.style.display =\n",
              "        google.colab.kernel.accessAllowed ? 'block' : 'none';\n",
              "    })();\n",
              "  </script>\n",
              "</div>\n",
              "\n",
              "  <div id=\"id_d750ce03-437e-4d3c-bfd6-9a160014f131\">\n",
              "    <style>\n",
              "      .colab-df-generate {\n",
              "        background-color: #E8F0FE;\n",
              "        border: none;\n",
              "        border-radius: 50%;\n",
              "        cursor: pointer;\n",
              "        display: none;\n",
              "        fill: #1967D2;\n",
              "        height: 32px;\n",
              "        padding: 0 0 0 0;\n",
              "        width: 32px;\n",
              "      }\n",
              "\n",
              "      .colab-df-generate:hover {\n",
              "        background-color: #E2EBFA;\n",
              "        box-shadow: 0px 1px 2px rgba(60, 64, 67, 0.3), 0px 1px 3px 1px rgba(60, 64, 67, 0.15);\n",
              "        fill: #174EA6;\n",
              "      }\n",
              "\n",
              "      [theme=dark] .colab-df-generate {\n",
              "        background-color: #3B4455;\n",
              "        fill: #D2E3FC;\n",
              "      }\n",
              "\n",
              "      [theme=dark] .colab-df-generate:hover {\n",
              "        background-color: #434B5C;\n",
              "        box-shadow: 0px 1px 3px 1px rgba(0, 0, 0, 0.15);\n",
              "        filter: drop-shadow(0px 1px 2px rgba(0, 0, 0, 0.3));\n",
              "        fill: #FFFFFF;\n",
              "      }\n",
              "    </style>\n",
              "    <button class=\"colab-df-generate\" onclick=\"generateWithVariable('hist_')\"\n",
              "            title=\"Generate code using this dataframe.\"\n",
              "            style=\"display:none;\">\n",
              "\n",
              "  <svg xmlns=\"http://www.w3.org/2000/svg\" height=\"24px\"viewBox=\"0 0 24 24\"\n",
              "       width=\"24px\">\n",
              "    <path d=\"M7,19H8.4L18.45,9,17,7.55,7,17.6ZM5,21V16.75L18.45,3.32a2,2,0,0,1,2.83,0l1.4,1.43a1.91,1.91,0,0,1,.58,1.4,1.91,1.91,0,0,1-.58,1.4L9.25,21ZM18.45,9,17,7.55Zm-12,3A5.31,5.31,0,0,0,4.9,8.1,5.31,5.31,0,0,0,1,6.5,5.31,5.31,0,0,0,4.9,4.9,5.31,5.31,0,0,0,6.5,1,5.31,5.31,0,0,0,8.1,4.9,5.31,5.31,0,0,0,12,6.5,5.46,5.46,0,0,0,6.5,12Z\"/>\n",
              "  </svg>\n",
              "    </button>\n",
              "    <script>\n",
              "      (() => {\n",
              "      const buttonEl =\n",
              "        document.querySelector('#id_d750ce03-437e-4d3c-bfd6-9a160014f131 button.colab-df-generate');\n",
              "      buttonEl.style.display =\n",
              "        google.colab.kernel.accessAllowed ? 'block' : 'none';\n",
              "\n",
              "      buttonEl.onclick = () => {\n",
              "        google.colab.notebook.generateWithVariable('hist_');\n",
              "      }\n",
              "      })();\n",
              "    </script>\n",
              "  </div>\n",
              "\n",
              "    </div>\n",
              "  </div>\n"
            ],
            "application/vnd.google.colaboratory.intrinsic+json": {
              "type": "dataframe",
              "variable_name": "hist_",
              "summary": "{\n  \"name\": \"hist_\",\n  \"rows\": 35,\n  \"fields\": [\n    {\n      \"column\": \"loss\",\n      \"properties\": {\n        \"dtype\": \"number\",\n        \"std\": 0.2333831445569278,\n        \"min\": 2.0300729374866933e-05,\n        \"max\": 0.993486225605011,\n        \"num_unique_values\": 35,\n        \"samples\": [\n          7.453950820490718e-05,\n          0.036935195326805115,\n          7.284842286026105e-05\n        ],\n        \"semantic_type\": \"\",\n        \"description\": \"\"\n      }\n    },\n    {\n      \"column\": \"accuracy\",\n      \"properties\": {\n        \"dtype\": \"number\",\n        \"std\": 0.10767902480121916,\n        \"min\": 0.5209919810295105,\n        \"max\": 1.0,\n        \"num_unique_values\": 20,\n        \"samples\": [\n          0.5209919810295105,\n          0.9765670895576477,\n          0.9939464926719666\n        ],\n        \"semantic_type\": \"\",\n        \"description\": \"\"\n      }\n    },\n    {\n      \"column\": \"val_loss\",\n      \"properties\": {\n        \"dtype\": \"number\",\n        \"std\": 0.7991908979110967,\n        \"min\": 0.90912264585495,\n        \"max\": 3.615999937057495,\n        \"num_unique_values\": 35,\n        \"samples\": [\n          3.142014741897583,\n          2.444488525390625,\n          3.1115920543670654\n        ],\n        \"semantic_type\": \"\",\n        \"description\": \"\"\n      }\n    },\n    {\n      \"column\": \"val_accuracy\",\n      \"properties\": {\n        \"dtype\": \"number\",\n        \"std\": 0.033423485490648205,\n        \"min\": 0.5587467551231384,\n        \"max\": 0.704960823059082,\n        \"num_unique_values\": 21,\n        \"samples\": [\n          0.5587467551231384,\n          0.6318537592887878,\n          0.6005222201347351\n        ],\n        \"semantic_type\": \"\",\n        \"description\": \"\"\n      }\n    }\n  ]\n}"
            }
          },
          "metadata": {},
          "execution_count": 43
        }
      ]
    },
    {
      "cell_type": "markdown",
      "source": [
        "# **Model Evaluation**"
      ],
      "metadata": {
        "id": "H5U-0AnsNnlB"
      }
    },
    {
      "cell_type": "code",
      "source": [
        "loss, acc = model1.evaluate(X_test, Y_test_cat)\n",
        "print('loss: ', loss)\n",
        "print('accuracy ', acc)"
      ],
      "metadata": {
        "id": "hAhOrJj7NsU8",
        "outputId": "7f326f25-429f-4f01-d6ca-695dd3925099",
        "colab": {
          "base_uri": "https://localhost:8080/"
        }
      },
      "execution_count": null,
      "outputs": [
        {
          "output_type": "stream",
          "name": "stdout",
          "text": [
            "28/28 [==============================] - 3s 119ms/step - loss: 3.5678 - accuracy: 0.6652\n",
            "loss:  3.56780743598938\n",
            "accuracy  0.6651785969734192\n"
          ]
        }
      ]
    },
    {
      "cell_type": "code",
      "source": [
        "# Reshape Y_test to a 1-dimensional array\n",
        "Y_test = Y_test.reshape(-1,)\n",
        "\n",
        "predictions = model1.predict(X_test)\n",
        "Y_predected = np.argmax(predictions, axis=1)\n",
        "#Y_test_ = np.argmax(Y_test,axis=0)\n",
        "\n",
        "df = pd.DataFrame({'Actual': Y_test, 'Prediction': Y_predected})\n",
        "df"
      ],
      "metadata": {
        "id": "Rjjfs1ANN1e1",
        "outputId": "9c0cc576-efc2-4097-c624-6ad03746f9de",
        "colab": {
          "base_uri": "https://localhost:8080/",
          "height": 442
        }
      },
      "execution_count": null,
      "outputs": [
        {
          "output_type": "stream",
          "name": "stdout",
          "text": [
            "28/28 [==============================] - 3s 116ms/step\n"
          ]
        },
        {
          "output_type": "execute_result",
          "data": {
            "text/plain": [
              "     Actual  Prediction\n",
              "0         3           3\n",
              "1         3           3\n",
              "2         1           1\n",
              "3         3           3\n",
              "4         3           3\n",
              "..      ...         ...\n",
              "891       0           0\n",
              "892       1           1\n",
              "893       3           3\n",
              "894       3           3\n",
              "895       0           0\n",
              "\n",
              "[896 rows x 2 columns]"
            ],
            "text/html": [
              "\n",
              "  <div id=\"df-c0f12072-5d3b-4fcb-952c-55e52c7b5e5f\" class=\"colab-df-container\">\n",
              "    <div>\n",
              "<style scoped>\n",
              "    .dataframe tbody tr th:only-of-type {\n",
              "        vertical-align: middle;\n",
              "    }\n",
              "\n",
              "    .dataframe tbody tr th {\n",
              "        vertical-align: top;\n",
              "    }\n",
              "\n",
              "    .dataframe thead th {\n",
              "        text-align: right;\n",
              "    }\n",
              "</style>\n",
              "<table border=\"1\" class=\"dataframe\">\n",
              "  <thead>\n",
              "    <tr style=\"text-align: right;\">\n",
              "      <th></th>\n",
              "      <th>Actual</th>\n",
              "      <th>Prediction</th>\n",
              "    </tr>\n",
              "  </thead>\n",
              "  <tbody>\n",
              "    <tr>\n",
              "      <th>0</th>\n",
              "      <td>3</td>\n",
              "      <td>3</td>\n",
              "    </tr>\n",
              "    <tr>\n",
              "      <th>1</th>\n",
              "      <td>3</td>\n",
              "      <td>3</td>\n",
              "    </tr>\n",
              "    <tr>\n",
              "      <th>2</th>\n",
              "      <td>1</td>\n",
              "      <td>1</td>\n",
              "    </tr>\n",
              "    <tr>\n",
              "      <th>3</th>\n",
              "      <td>3</td>\n",
              "      <td>3</td>\n",
              "    </tr>\n",
              "    <tr>\n",
              "      <th>4</th>\n",
              "      <td>3</td>\n",
              "      <td>3</td>\n",
              "    </tr>\n",
              "    <tr>\n",
              "      <th>...</th>\n",
              "      <td>...</td>\n",
              "      <td>...</td>\n",
              "    </tr>\n",
              "    <tr>\n",
              "      <th>891</th>\n",
              "      <td>0</td>\n",
              "      <td>0</td>\n",
              "    </tr>\n",
              "    <tr>\n",
              "      <th>892</th>\n",
              "      <td>1</td>\n",
              "      <td>1</td>\n",
              "    </tr>\n",
              "    <tr>\n",
              "      <th>893</th>\n",
              "      <td>3</td>\n",
              "      <td>3</td>\n",
              "    </tr>\n",
              "    <tr>\n",
              "      <th>894</th>\n",
              "      <td>3</td>\n",
              "      <td>3</td>\n",
              "    </tr>\n",
              "    <tr>\n",
              "      <th>895</th>\n",
              "      <td>0</td>\n",
              "      <td>0</td>\n",
              "    </tr>\n",
              "  </tbody>\n",
              "</table>\n",
              "<p>896 rows × 2 columns</p>\n",
              "</div>\n",
              "    <div class=\"colab-df-buttons\">\n",
              "\n",
              "  <div class=\"colab-df-container\">\n",
              "    <button class=\"colab-df-convert\" onclick=\"convertToInteractive('df-c0f12072-5d3b-4fcb-952c-55e52c7b5e5f')\"\n",
              "            title=\"Convert this dataframe to an interactive table.\"\n",
              "            style=\"display:none;\">\n",
              "\n",
              "  <svg xmlns=\"http://www.w3.org/2000/svg\" height=\"24px\" viewBox=\"0 -960 960 960\">\n",
              "    <path d=\"M120-120v-720h720v720H120Zm60-500h600v-160H180v160Zm220 220h160v-160H400v160Zm0 220h160v-160H400v160ZM180-400h160v-160H180v160Zm440 0h160v-160H620v160ZM180-180h160v-160H180v160Zm440 0h160v-160H620v160Z\"/>\n",
              "  </svg>\n",
              "    </button>\n",
              "\n",
              "  <style>\n",
              "    .colab-df-container {\n",
              "      display:flex;\n",
              "      gap: 12px;\n",
              "    }\n",
              "\n",
              "    .colab-df-convert {\n",
              "      background-color: #E8F0FE;\n",
              "      border: none;\n",
              "      border-radius: 50%;\n",
              "      cursor: pointer;\n",
              "      display: none;\n",
              "      fill: #1967D2;\n",
              "      height: 32px;\n",
              "      padding: 0 0 0 0;\n",
              "      width: 32px;\n",
              "    }\n",
              "\n",
              "    .colab-df-convert:hover {\n",
              "      background-color: #E2EBFA;\n",
              "      box-shadow: 0px 1px 2px rgba(60, 64, 67, 0.3), 0px 1px 3px 1px rgba(60, 64, 67, 0.15);\n",
              "      fill: #174EA6;\n",
              "    }\n",
              "\n",
              "    .colab-df-buttons div {\n",
              "      margin-bottom: 4px;\n",
              "    }\n",
              "\n",
              "    [theme=dark] .colab-df-convert {\n",
              "      background-color: #3B4455;\n",
              "      fill: #D2E3FC;\n",
              "    }\n",
              "\n",
              "    [theme=dark] .colab-df-convert:hover {\n",
              "      background-color: #434B5C;\n",
              "      box-shadow: 0px 1px 3px 1px rgba(0, 0, 0, 0.15);\n",
              "      filter: drop-shadow(0px 1px 2px rgba(0, 0, 0, 0.3));\n",
              "      fill: #FFFFFF;\n",
              "    }\n",
              "  </style>\n",
              "\n",
              "    <script>\n",
              "      const buttonEl =\n",
              "        document.querySelector('#df-c0f12072-5d3b-4fcb-952c-55e52c7b5e5f button.colab-df-convert');\n",
              "      buttonEl.style.display =\n",
              "        google.colab.kernel.accessAllowed ? 'block' : 'none';\n",
              "\n",
              "      async function convertToInteractive(key) {\n",
              "        const element = document.querySelector('#df-c0f12072-5d3b-4fcb-952c-55e52c7b5e5f');\n",
              "        const dataTable =\n",
              "          await google.colab.kernel.invokeFunction('convertToInteractive',\n",
              "                                                    [key], {});\n",
              "        if (!dataTable) return;\n",
              "\n",
              "        const docLinkHtml = 'Like what you see? Visit the ' +\n",
              "          '<a target=\"_blank\" href=https://colab.research.google.com/notebooks/data_table.ipynb>data table notebook</a>'\n",
              "          + ' to learn more about interactive tables.';\n",
              "        element.innerHTML = '';\n",
              "        dataTable['output_type'] = 'display_data';\n",
              "        await google.colab.output.renderOutput(dataTable, element);\n",
              "        const docLink = document.createElement('div');\n",
              "        docLink.innerHTML = docLinkHtml;\n",
              "        element.appendChild(docLink);\n",
              "      }\n",
              "    </script>\n",
              "  </div>\n",
              "\n",
              "\n",
              "<div id=\"df-a30844bd-2812-4b0c-9007-93feacfb80c5\">\n",
              "  <button class=\"colab-df-quickchart\" onclick=\"quickchart('df-a30844bd-2812-4b0c-9007-93feacfb80c5')\"\n",
              "            title=\"Suggest charts\"\n",
              "            style=\"display:none;\">\n",
              "\n",
              "<svg xmlns=\"http://www.w3.org/2000/svg\" height=\"24px\"viewBox=\"0 0 24 24\"\n",
              "     width=\"24px\">\n",
              "    <g>\n",
              "        <path d=\"M19 3H5c-1.1 0-2 .9-2 2v14c0 1.1.9 2 2 2h14c1.1 0 2-.9 2-2V5c0-1.1-.9-2-2-2zM9 17H7v-7h2v7zm4 0h-2V7h2v10zm4 0h-2v-4h2v4z\"/>\n",
              "    </g>\n",
              "</svg>\n",
              "  </button>\n",
              "\n",
              "<style>\n",
              "  .colab-df-quickchart {\n",
              "      --bg-color: #E8F0FE;\n",
              "      --fill-color: #1967D2;\n",
              "      --hover-bg-color: #E2EBFA;\n",
              "      --hover-fill-color: #174EA6;\n",
              "      --disabled-fill-color: #AAA;\n",
              "      --disabled-bg-color: #DDD;\n",
              "  }\n",
              "\n",
              "  [theme=dark] .colab-df-quickchart {\n",
              "      --bg-color: #3B4455;\n",
              "      --fill-color: #D2E3FC;\n",
              "      --hover-bg-color: #434B5C;\n",
              "      --hover-fill-color: #FFFFFF;\n",
              "      --disabled-bg-color: #3B4455;\n",
              "      --disabled-fill-color: #666;\n",
              "  }\n",
              "\n",
              "  .colab-df-quickchart {\n",
              "    background-color: var(--bg-color);\n",
              "    border: none;\n",
              "    border-radius: 50%;\n",
              "    cursor: pointer;\n",
              "    display: none;\n",
              "    fill: var(--fill-color);\n",
              "    height: 32px;\n",
              "    padding: 0;\n",
              "    width: 32px;\n",
              "  }\n",
              "\n",
              "  .colab-df-quickchart:hover {\n",
              "    background-color: var(--hover-bg-color);\n",
              "    box-shadow: 0 1px 2px rgba(60, 64, 67, 0.3), 0 1px 3px 1px rgba(60, 64, 67, 0.15);\n",
              "    fill: var(--button-hover-fill-color);\n",
              "  }\n",
              "\n",
              "  .colab-df-quickchart-complete:disabled,\n",
              "  .colab-df-quickchart-complete:disabled:hover {\n",
              "    background-color: var(--disabled-bg-color);\n",
              "    fill: var(--disabled-fill-color);\n",
              "    box-shadow: none;\n",
              "  }\n",
              "\n",
              "  .colab-df-spinner {\n",
              "    border: 2px solid var(--fill-color);\n",
              "    border-color: transparent;\n",
              "    border-bottom-color: var(--fill-color);\n",
              "    animation:\n",
              "      spin 1s steps(1) infinite;\n",
              "  }\n",
              "\n",
              "  @keyframes spin {\n",
              "    0% {\n",
              "      border-color: transparent;\n",
              "      border-bottom-color: var(--fill-color);\n",
              "      border-left-color: var(--fill-color);\n",
              "    }\n",
              "    20% {\n",
              "      border-color: transparent;\n",
              "      border-left-color: var(--fill-color);\n",
              "      border-top-color: var(--fill-color);\n",
              "    }\n",
              "    30% {\n",
              "      border-color: transparent;\n",
              "      border-left-color: var(--fill-color);\n",
              "      border-top-color: var(--fill-color);\n",
              "      border-right-color: var(--fill-color);\n",
              "    }\n",
              "    40% {\n",
              "      border-color: transparent;\n",
              "      border-right-color: var(--fill-color);\n",
              "      border-top-color: var(--fill-color);\n",
              "    }\n",
              "    60% {\n",
              "      border-color: transparent;\n",
              "      border-right-color: var(--fill-color);\n",
              "    }\n",
              "    80% {\n",
              "      border-color: transparent;\n",
              "      border-right-color: var(--fill-color);\n",
              "      border-bottom-color: var(--fill-color);\n",
              "    }\n",
              "    90% {\n",
              "      border-color: transparent;\n",
              "      border-bottom-color: var(--fill-color);\n",
              "    }\n",
              "  }\n",
              "</style>\n",
              "\n",
              "  <script>\n",
              "    async function quickchart(key) {\n",
              "      const quickchartButtonEl =\n",
              "        document.querySelector('#' + key + ' button');\n",
              "      quickchartButtonEl.disabled = true;  // To prevent multiple clicks.\n",
              "      quickchartButtonEl.classList.add('colab-df-spinner');\n",
              "      try {\n",
              "        const charts = await google.colab.kernel.invokeFunction(\n",
              "            'suggestCharts', [key], {});\n",
              "      } catch (error) {\n",
              "        console.error('Error during call to suggestCharts:', error);\n",
              "      }\n",
              "      quickchartButtonEl.classList.remove('colab-df-spinner');\n",
              "      quickchartButtonEl.classList.add('colab-df-quickchart-complete');\n",
              "    }\n",
              "    (() => {\n",
              "      let quickchartButtonEl =\n",
              "        document.querySelector('#df-a30844bd-2812-4b0c-9007-93feacfb80c5 button');\n",
              "      quickchartButtonEl.style.display =\n",
              "        google.colab.kernel.accessAllowed ? 'block' : 'none';\n",
              "    })();\n",
              "  </script>\n",
              "</div>\n",
              "\n",
              "  <div id=\"id_1cf4b37b-e504-4e51-9d52-9eacd860273e\">\n",
              "    <style>\n",
              "      .colab-df-generate {\n",
              "        background-color: #E8F0FE;\n",
              "        border: none;\n",
              "        border-radius: 50%;\n",
              "        cursor: pointer;\n",
              "        display: none;\n",
              "        fill: #1967D2;\n",
              "        height: 32px;\n",
              "        padding: 0 0 0 0;\n",
              "        width: 32px;\n",
              "      }\n",
              "\n",
              "      .colab-df-generate:hover {\n",
              "        background-color: #E2EBFA;\n",
              "        box-shadow: 0px 1px 2px rgba(60, 64, 67, 0.3), 0px 1px 3px 1px rgba(60, 64, 67, 0.15);\n",
              "        fill: #174EA6;\n",
              "      }\n",
              "\n",
              "      [theme=dark] .colab-df-generate {\n",
              "        background-color: #3B4455;\n",
              "        fill: #D2E3FC;\n",
              "      }\n",
              "\n",
              "      [theme=dark] .colab-df-generate:hover {\n",
              "        background-color: #434B5C;\n",
              "        box-shadow: 0px 1px 3px 1px rgba(0, 0, 0, 0.15);\n",
              "        filter: drop-shadow(0px 1px 2px rgba(0, 0, 0, 0.3));\n",
              "        fill: #FFFFFF;\n",
              "      }\n",
              "    </style>\n",
              "    <button class=\"colab-df-generate\" onclick=\"generateWithVariable('df')\"\n",
              "            title=\"Generate code using this dataframe.\"\n",
              "            style=\"display:none;\">\n",
              "\n",
              "  <svg xmlns=\"http://www.w3.org/2000/svg\" height=\"24px\"viewBox=\"0 0 24 24\"\n",
              "       width=\"24px\">\n",
              "    <path d=\"M7,19H8.4L18.45,9,17,7.55,7,17.6ZM5,21V16.75L18.45,3.32a2,2,0,0,1,2.83,0l1.4,1.43a1.91,1.91,0,0,1,.58,1.4,1.91,1.91,0,0,1-.58,1.4L9.25,21ZM18.45,9,17,7.55Zm-12,3A5.31,5.31,0,0,0,4.9,8.1,5.31,5.31,0,0,0,1,6.5,5.31,5.31,0,0,0,4.9,4.9,5.31,5.31,0,0,0,6.5,1,5.31,5.31,0,0,0,8.1,4.9,5.31,5.31,0,0,0,12,6.5,5.46,5.46,0,0,0,6.5,12Z\"/>\n",
              "  </svg>\n",
              "    </button>\n",
              "    <script>\n",
              "      (() => {\n",
              "      const buttonEl =\n",
              "        document.querySelector('#id_1cf4b37b-e504-4e51-9d52-9eacd860273e button.colab-df-generate');\n",
              "      buttonEl.style.display =\n",
              "        google.colab.kernel.accessAllowed ? 'block' : 'none';\n",
              "\n",
              "      buttonEl.onclick = () => {\n",
              "        google.colab.notebook.generateWithVariable('df');\n",
              "      }\n",
              "      })();\n",
              "    </script>\n",
              "  </div>\n",
              "\n",
              "    </div>\n",
              "  </div>\n"
            ],
            "application/vnd.google.colaboratory.intrinsic+json": {
              "type": "dataframe",
              "variable_name": "df",
              "summary": "{\n  \"name\": \"df\",\n  \"rows\": 896,\n  \"fields\": [\n    {\n      \"column\": \"Actual\",\n      \"properties\": {\n        \"dtype\": \"number\",\n        \"std\": 1,\n        \"min\": 0,\n        \"max\": 3,\n        \"num_unique_values\": 4,\n        \"samples\": [\n          1,\n          2,\n          3\n        ],\n        \"semantic_type\": \"\",\n        \"description\": \"\"\n      }\n    },\n    {\n      \"column\": \"Prediction\",\n      \"properties\": {\n        \"dtype\": \"number\",\n        \"std\": 1,\n        \"min\": 0,\n        \"max\": 3,\n        \"num_unique_values\": 4,\n        \"samples\": [\n          1,\n          2,\n          3\n        ],\n        \"semantic_type\": \"\",\n        \"description\": \"\"\n      }\n    }\n  ]\n}"
            }
          },
          "metadata": {},
          "execution_count": 45
        }
      ]
    },
    {
      "cell_type": "code",
      "source": [
        "CM = confusion_matrix(Y_test,Y_predected)\n",
        "CM_percent = CM.astype('float') / CM.sum(axis=1)[:, np.newaxis]\n",
        "\n",
        "sns.heatmap(CM_percent,fmt='g',center = True,cbar=False,annot=True,cmap='Blues')\n",
        "CM"
      ],
      "metadata": {
        "colab": {
          "base_uri": "https://localhost:8080/",
          "height": 501
        },
        "id": "V883lZCBqEgj",
        "outputId": "eb2c5ffe-bf02-4065-e2e2-be480a954705"
      },
      "execution_count": null,
      "outputs": [
        {
          "output_type": "execute_result",
          "data": {
            "text/plain": [
              "array([[ 34,  68,   0,  25],\n",
              "       [  6, 273,   0,  51],\n",
              "       [  0,   6,   2,   0],\n",
              "       [  4, 140,   0, 287]])"
            ]
          },
          "metadata": {},
          "execution_count": 46
        },
        {
          "output_type": "display_data",
          "data": {
            "text/plain": [
              "<Figure size 640x480 with 1 Axes>"
            ],
            "image/png": "[encoded data removed]"
          },
          "metadata": {}
        }
      ]
    },
    {
      "cell_type": "code",
      "source": [
        "print(classification_report(Y_test, Y_predected))"
      ],
      "metadata": {
        "id": "jFtuqVUeOdYf",
        "outputId": "93c40178-4310-4c25-868c-719058bf695f",
        "colab": {
          "base_uri": "https://localhost:8080/"
        }
      },
      "execution_count": null,
      "outputs": [
        {
          "output_type": "stream",
          "name": "stdout",
          "text": [
            "              precision    recall  f1-score   support\n",
            "\n",
            "           0       0.77      0.27      0.40       127\n",
            "           1       0.56      0.83      0.67       330\n",
            "           2       1.00      0.25      0.40         8\n",
            "           3       0.79      0.67      0.72       431\n",
            "\n",
            "    accuracy                           0.67       896\n",
            "   macro avg       0.78      0.50      0.55       896\n",
            "weighted avg       0.71      0.67      0.65       896\n",
            "\n"
          ]
        }
      ]
    }
  ]
}