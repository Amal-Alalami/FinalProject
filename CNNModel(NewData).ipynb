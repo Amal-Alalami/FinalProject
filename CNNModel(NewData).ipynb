{
  "nbformat": 4,
  "nbformat_minor": 0,
  "metadata": {
    "colab": {
      "provenance": [],
      "authorship_tag": "ABX9TyO5uJVHq8GbIqRqi/LgJjl0",
      "include_colab_link": true
    },
    "kernelspec": {
      "name": "python3",
      "display_name": "Python 3"
    },
    "language_info": {
      "name": "python"
    }
  },
  "cells": [
    {
      "cell_type": "markdown",
      "metadata": {
        "id": "view-in-github",
        "colab_type": "text"
      },
      "source": [
        "<a href=\"https://colab.research.google.com/github/Amal-Alalami/FinalProject/blob/main/CNNModel(NewData).ipynb\" target=\"_parent\"><img src=\"https://colab.research.google.com/assets/colab-badge.svg\" alt=\"Open In Colab\"/></a>"
      ]
    },
    {
      "cell_type": "code",
      "execution_count": 1,
      "metadata": {
        "id": "NFtM0zcbyU8U"
      },
      "outputs": [],
      "source": [
        "import cv2\n",
        "import os\n",
        "import pandas as pd\n",
        "import seaborn as sns\n",
        "import tensorflow as tf\n",
        "import numpy as np\n",
        "\n",
        "import matplotlib.pyplot as plt\n",
        "from imblearn.over_sampling import SMOTE\n",
        "from google.colab.patches import cv2_imshow\n",
        "from sklearn.model_selection import train_test_split\n",
        "from sklearn.metrics import confusion_matrix\n",
        "from sklearn.metrics import classification_report\n",
        "\n",
        "# to generate data\n",
        "from keras.preprocessing.image import ImageDataGenerator\n",
        "\n",
        "# to build model\n",
        "from keras.models import Sequential\n",
        "from keras.layers import Dense,Conv2D,MaxPool2D,Flatten,Dropout\n",
        "%matplotlib inline"
      ]
    },
    {
      "cell_type": "markdown",
      "source": [
        "# Upload Dataset"
      ],
      "metadata": {
        "id": "UTGIyVtefqsg"
      }
    },
    {
      "cell_type": "code",
      "source": [
        "!7z x ADNI.zip\n"
      ],
      "metadata": {
        "colab": {
          "base_uri": "https://localhost:8080/"
        },
        "id": "jBCO88_7ycdk",
        "outputId": "c2b73f25-01f1-4eb4-d179-be32ed8a07f0"
      },
      "execution_count": 44,
      "outputs": [
        {
          "output_type": "stream",
          "name": "stdout",
          "text": [
            "\n",
            "7-Zip [64] 16.02 : Copyright (c) 1999-2016 Igor Pavlov : 2016-05-21\n",
            "p7zip Version 16.02 (locale=en_US.UTF-8,Utf16=on,HugeFiles=on,64 bits,2 CPUs Intel(R) Xeon(R) CPU @ 2.20GHz (406F0),ASM,AES-NI)\n",
            "\n",
            "Scanning the drive for archives:\n",
            "  0M Scan\b\b\b\b\b\b\b\b\b         \b\b\b\b\b\b\b\b\b1 file, 106677136 bytes (102 MiB)\n",
            "\n",
            "Extracting archive: ADNI.zip\n",
            " 79% 4096 Open\b\b\b\b\b\b\b\b\b\b\b\b\b\b              \b\b\b\b\b\b\b\b\b\b\b\b\b\b--\n",
            "Path = ADNI.zip\n",
            "Type = zip\n",
            "Physical Size = 106677136\n",
            "\n",
            "  0%\b\b\b\b    \b\b\b\b 11% 592 - Axial/AD/AD027_S_1082a118.png\b\b\b\b\b\b\b\b\b\b\b\b\b\b\b\b\b\b\b\b\b\b\b\b\b\b\b\b\b\b\b\b\b\b\b\b\b\b\b\b                                        \b\b\b\b\b\b\b\b\b\b\b\b\b\b\b\b\b\b\b\b\b\b\b\b\b\b\b\b\b\b\b\b\b\b\b\b\b\b\b\b 18% 954 - Axial/AD/AD136_S_0194b082.png\b\b\b\b\b\b\b\b\b\b\b\b\b\b\b\b\b\b\b\b\b\b\b\b\b\b\b\b\b\b\b\b\b\b\b\b\b\b\b\b                                        \b\b\b\b\b\b\b\b\b\b\b\b\b\b\b\b\b\b\b\b\b\b\b\b\b\b\b\b\b\b\b\b\b\b\b\b\b\b\b\b 27% 1424\b\b\b\b\b\b\b\b\b         \b\b\b\b\b\b\b\b\b 36% 1875 - Axial/CI/CI023_S_0376a113.png\b\b\b\b\b\b\b\b\b\b\b\b\b\b\b\b\b\b\b\b\b\b\b\b\b\b\b\b\b\b\b\b\b\b\b\b\b\b\b\b\b                                         \b\b\b\b\b\b\b\b\b\b\b\b\b\b\b\b\b\b\b\b\b\b\b\b\b\b\b\b\b\b\b\b\b\b\b\b\b\b\b\b\b 42% 2224 - Axial/CI/CI023_S_0855b106.png\b\b\b\b\b\b\b\b\b\b\b\b\b\b\b\b\b\b\b\b\b\b\b\b\b\b\b\b\b\b\b\b\b\b\b\b\b\b\b\b\b                                         \b\b\b\b\b\b\b\b\b\b\b\b\b\b\b\b\b\b\b\b\b\b\b\b\b\b\b\b\b\b\b\b\b\b\b\b\b\b\b\b\b 48% 2511 - Axial/CI/CI027_S_0417a103.png\b\b\b\b\b\b\b\b\b\b\b\b\b\b\b\b\b\b\b\b\b\b\b\b\b\b\b\b\b\b\b\b\b\b\b\b\b\b\b\b\b                                         \b\b\b\b\b\b\b\b\b\b\b\b\b\b\b\b\b\b\b\b\b\b\b\b\b\b\b\b\b\b\b\b\b\b\b\b\b\b\b\b\b 53% 2751 - Axial/CI/CI051_S_1131a091.png\b\b\b\b\b\b\b\b\b\b\b\b\b\b\b\b\b\b\b\b\b\b\b\b\b\b\b\b\b\b\b\b\b\b\b\b\b\b\b\b\b                                         \b\b\b\b\b\b\b\b\b\b\b\b\b\b\b\b\b\b\b\b\b\b\b\b\b\b\b\b\b\b\b\b\b\b\b\b\b\b\b\b\b 57% 2976 - Axial/CI/CI067_S_0607c082.png\b\b\b\b\b\b\b\b\b\b\b\b\b\b\b\b\b\b\b\b\b\b\b\b\b\b\b\b\b\b\b\b\b\b\b\b\b\b\b\b\b                                         \b\b\b\b\b\b\b\b\b\b\b\b\b\b\b\b\b\b\b\b\b\b\b\b\b\b\b\b\b\b\b\b\b\b\b\b\b\b\b\b\b 61% 3176 - Axial/CI/CI068_S_1075a088.png\b\b\b\b\b\b\b\b\b\b\b\b\b\b\b\b\b\b\b\b\b\b\b\b\b\b\b\b\b\b\b\b\b\b\b\b\b\b\b\b\b                                         \b\b\b\b\b\b\b\b\b\b\b\b\b\b\b\b\b\b\b\b\b\b\b\b\b\b\b\b\b\b\b\b\b\b\b\b\b\b\b\b\b 65% 3366 - Axial/CI/CI126_S_1340a103.png\b\b\b\b\b\b\b\b\b\b\b\b\b\b\b\b\b\b\b\b\b\b\b\b\b\b\b\b\b\b\b\b\b\b\b\b\b\b\b\b\b                                         \b\b\b\b\b\b\b\b\b\b\b\b\b\b\b\b\b\b\b\b\b\b\b\b\b\b\b\b\b\b\b\b\b\b\b\b\b\b\b\b\b 69% 3547 - Axial/CI/CI136_S_0195a105.png\b\b\b\b\b\b\b\b\b\b\b\b\b\b\b\b\b\b\b\b\b\b\b\b\b\b\b\b\b\b\b\b\b\b\b\b\b\b\b\b\b                                         \b\b\b\b\b\b\b\b\b\b\b\b\b\b\b\b\b\b\b\b\b\b\b\b\b\b\b\b\b\b\b\b\b\b\b\b\b\b\b\b\b 72% 3738 - Axial/CN/CN002_S_0413a108.png\b\b\b\b\b\b\b\b\b\b\b\b\b\b\b\b\b\b\b\b\b\b\b\b\b\b\b\b\b\b\b\b\b\b\b\b\b\b\b\b\b                                         \b\b\b\b\b\b\b\b\b\b\b\b\b\b\b\b\b\b\b\b\b\b\b\b\b\b\b\b\b\b\b\b\b\b\b\b\b\b\b\b\b 83% 4286 - Axial/CN/CN023_S_0061b117.png\b\b\b\b\b\b\b\b\b\b\b\b\b\b\b\b\b\b\b\b\b\b\b\b\b\b\b\b\b\b\b\b\b\b\b\b\b\b\b\b\b                                         \b\b\b\b\b\b\b\b\b\b\b\b\b\b\b\b\b\b\b\b\b\b\b\b\b\b\b\b\b\b\b\b\b\b\b\b\b\b\b\b\b 88% 4550 - Axial/CN/CN051_S_1123a102.png\b\b\b\b\b\b\b\b\b\b\b\b\b\b\b\b\b\b\b\b\b\b\b\b\b\b\b\b\b\b\b\b\b\b\b\b\b\b\b\b\b                                         \b\b\b\b\b\b\b\b\b\b\b\b\b\b\b\b\b\b\b\b\b\b\b\b\b\b\b\b\b\b\b\b\b\b\b\b\b\b\b\b\b 93% 4814 - Axial/CN/CN094_S_1267a101.png\b\b\b\b\b\b\b\b\b\b\b\b\b\b\b\b\b\b\b\b\b\b\b\b\b\b\b\b\b\b\b\b\b\b\b\b\b\b\b\b\b                                         \b\b\b\b\b\b\b\b\b\b\b\b\b\b\b\b\b\b\b\b\b\b\b\b\b\b\b\b\b\b\b\b\b\b\b\b\b\b\b\b\b 96% 4988 - Axial/CN/CN127_S_0622a091.png\b\b\b\b\b\b\b\b\b\b\b\b\b\b\b\b\b\b\b\b\b\b\b\b\b\b\b\b\b\b\b\b\b\b\b\b\b\b\b\b\b                                         \b\b\b\b\b\b\b\b\b\b\b\b\b\b\b\b\b\b\b\b\b\b\b\b\b\b\b\b\b\b\b\b\b\b\b\b\b\b\b\b\b 99% 5151 - Axial/CN/CN136_S_0196b102.png\b\b\b\b\b\b\b\b\b\b\b\b\b\b\b\b\b\b\b\b\b\b\b\b\b\b\b\b\b\b\b\b\b\b\b\b\b\b\b\b\b                                         \b\b\b\b\b\b\b\b\b\b\b\b\b\b\b\b\b\b\b\b\b\b\b\b\b\b\b\b\b\b\b\b\b\b\b\b\b\b\b\b\bEverything is Ok\n",
            "\n",
            "Files: 5154\n",
            "Size:       105727324\n",
            "Compressed: 106677136\n"
          ]
        }
      ]
    },
    {
      "cell_type": "markdown",
      "source": [
        "# **Pre-processed data and Visualize Sample Images**"
      ],
      "metadata": {
        "id": "15xS79d9Kwcq"
      }
    },
    {
      "cell_type": "code",
      "source": [
        "# Method to print sample images from each class\n",
        "\n",
        "def print_sample_images(train_path, class_labels):\n",
        "\n",
        "  plt.figure(figsize=(10, 10))\n",
        "  for i, class_name in enumerate(class_labels):\n",
        "\n",
        "    # Get a random image from the class directory\n",
        "    img_name = np.random.choice(os.listdir(os.path.join(train_path, class_name)))\n",
        "    img_path = os.path.join(train_path, class_name, img_name)\n",
        "\n",
        "    img = cv2.imread(img_path)\n",
        "    img = cv2.cvtColor(img, cv2.COLOR_BGR2RGB)\n",
        "\n",
        "    plt.subplot(4, 4, i+1)\n",
        "    plt.imshow(img)\n",
        "    plt.title(class_name)\n",
        "    plt.axis('off')\n",
        "\n",
        "  plt.show()"
      ],
      "metadata": {
        "id": "MNs1CHmuLvfE"
      },
      "execution_count": 45,
      "outputs": []
    },
    {
      "cell_type": "markdown",
      "source": [
        "**Sample of train images before pre-processing data from each class**"
      ],
      "metadata": {
        "id": "-lsv3c149KfM"
      }
    },
    {
      "cell_type": "code",
      "source": [
        "data_dir = '/content/Axial'\n",
        "class_names = os.listdir('/content/Axial')\n",
        "print_sample_images(data_dir, class_names)"
      ],
      "metadata": {
        "colab": {
          "base_uri": "https://localhost:8080/",
          "height": 226
        },
        "id": "hRLa4rFmyi2A",
        "outputId": "0da4bf6a-cc5f-4f0b-a3b9-8c917328c725"
      },
      "execution_count": 46,
      "outputs": [
        {
          "output_type": "display_data",
          "data": {
            "text/plain": [
              "<Figure size 1000x1000 with 3 Axes>"
            ],
            "image/png": "[encoded data removed]"
          },
          "metadata": {}
        }
      ]
    },
    {
      "cell_type": "markdown",
      "source": [
        "**Pre-processing data**"
      ],
      "metadata": {
        "id": "QApcnr4b9ln_"
      }
    },
    {
      "cell_type": "markdown",
      "source": [
        "**Sample of train images after pre-processing data from each class**"
      ],
      "metadata": {
        "id": "dTE_evRg9_g6"
      }
    },
    {
      "cell_type": "markdown",
      "source": [
        "# Images in train data"
      ],
      "metadata": {
        "id": "T93m2V-sVDhV"
      }
    },
    {
      "cell_type": "code",
      "source": [
        "data_folder = '/content/Axial'\n",
        "class_names_train_folder = os.listdir(data_folder)\n",
        "class_count = []\n",
        "\n",
        "for class_name in class_names_train_folder:\n",
        "  num_images = len(os.listdir(os.path.join(data_folder, class_name)))\n",
        "  class_count.append(num_images)\n",
        "  print(f\"Class {class_name}: {num_images} images\")\n"
      ],
      "metadata": {
        "id": "iniRBG6wVCwo",
        "outputId": "1832f7fe-155e-423e-f0ff-b2e7ff884b2d",
        "colab": {
          "base_uri": "https://localhost:8080/"
        }
      },
      "execution_count": 47,
      "outputs": [
        {
          "output_type": "stream",
          "name": "stdout",
          "text": [
            "Class CN: 1440 images\n",
            "Class CI: 2590 images\n",
            "Class AD: 1124 images\n"
          ]
        }
      ]
    },
    {
      "cell_type": "code",
      "source": [
        "\n",
        "plt.figure(figsize=(10, 6))\n",
        "plt.bar(class_names_train_folder, class_count)\n",
        "\n",
        "plt.title('The Number Of Images In Train folder For Each Class', fontsize=20)\n",
        "plt.xlabel(\"Class\", fontsize = 20)\n",
        "plt.ylabel(\"Number of Images\", fontsize=20)\n",
        "plt.xticks(rotation=45)\n",
        "\n",
        "plt.show()\n"
      ],
      "metadata": {
        "colab": {
          "base_uri": "https://localhost:8080/",
          "height": 596
        },
        "id": "BY581UoIQ8xG",
        "outputId": "6a5a6a9e-760e-4da2-d0e9-7f6f6e5dafc6"
      },
      "execution_count": 48,
      "outputs": [
        {
          "output_type": "display_data",
          "data": {
            "text/plain": [
              "<Figure size 1000x600 with 1 Axes>"
            ],
            "image/png": "[encoded data removed]"
          },
          "metadata": {}
        }
      ]
    },
    {
      "cell_type": "markdown",
      "source": [
        "# **Train Test split and Build Model**"
      ],
      "metadata": {
        "id": "2Jb3kOW7vsuK"
      }
    },
    {
      "cell_type": "code",
      "source": [
        "#  Loads all images and labels from a directory and converts them to a NumPy array.\n",
        "\n",
        "def load_train_data(data_dir):\n",
        "\n",
        "  image_width, image_height = 128, 128\n",
        "  class_names = os.listdir(data_dir)\n",
        "  class_name_to_label = {class_name: i for i, class_name in enumerate(class_names)}\n",
        "  images = []\n",
        "  labels = []\n",
        "\n",
        "  for class_name in class_names:\n",
        "    class_path = os.path.join(data_dir, class_name)\n",
        "    for filename in os.listdir(class_path):\n",
        "\n",
        "      image_path = os.path.join(class_path, filename)\n",
        "      image = cv2.imread(image_path)\n",
        "      image = cv2.cvtColor(image, cv2.COLOR_RGB2GRAY)\n",
        "      image = cv2.resize(image, (image_width, image_height))\n",
        "      image = image / 255.0 #normalize\n",
        "\n",
        "      label = class_name_to_label[class_name]\n",
        "      images.append(image)\n",
        "      labels.append(label)\n",
        "\n",
        "  # Convert the list of images to a NumPy array\n",
        "  X_train = np.asarray(images)\n",
        "  Y_train = np.asarray(labels)\n",
        "\n",
        "  return X_train, Y_train"
      ],
      "metadata": {
        "id": "1Iocg5AKsIE-"
      },
      "execution_count": 49,
      "outputs": []
    },
    {
      "cell_type": "code",
      "source": [
        "X_train , Y_train = load_train_data('/content/Axial')"
      ],
      "metadata": {
        "id": "YvrnA0B9rb8O"
      },
      "execution_count": 50,
      "outputs": []
    },
    {
      "cell_type": "code",
      "source": [
        "X_train, X_test, Y_train, Y_test = train_test_split(X_train, Y_train, test_size=0.3, random_state=42)"
      ],
      "metadata": {
        "id": "Rcgdvso7VbAz"
      },
      "execution_count": 51,
      "outputs": []
    },
    {
      "cell_type": "code",
      "source": [
        "print(f\"X_train shape: {X_train.shape}\")\n",
        "print(f\"Y_train shape: {Y_train.shape}\")"
      ],
      "metadata": {
        "colab": {
          "base_uri": "https://localhost:8080/"
        },
        "id": "WPBeHU67VrKZ",
        "outputId": "d7785837-1e90-4881-dcc5-0051888dd610"
      },
      "execution_count": 52,
      "outputs": [
        {
          "output_type": "stream",
          "name": "stdout",
          "text": [
            "X_train shape: (3607, 128, 128)\n",
            "Y_train shape: (3607,)\n"
          ]
        }
      ]
    },
    {
      "cell_type": "code",
      "source": [
        "X_val, X_test, Y_val , Y_test = train_test_split(X_test, Y_test, test_size=0.7, random_state=42)\n"
      ],
      "metadata": {
        "id": "yOosJjefVHDe"
      },
      "execution_count": 53,
      "outputs": []
    },
    {
      "cell_type": "code",
      "source": [
        "print(f\"X_test shape: {X_test.shape}\")\n",
        "print(f\"Y_test shape: {Y_test.shape}\")"
      ],
      "metadata": {
        "colab": {
          "base_uri": "https://localhost:8080/"
        },
        "id": "JVsksBFWVwXs",
        "outputId": "1989b90f-96b5-412d-ec40-f0ad61143178"
      },
      "execution_count": 54,
      "outputs": [
        {
          "output_type": "stream",
          "name": "stdout",
          "text": [
            "X_test shape: (1083, 128, 128)\n",
            "Y_test shape: (1083,)\n"
          ]
        }
      ]
    },
    {
      "cell_type": "code",
      "source": [
        "print(f\"X_val shape: {X_val.shape}\")\n",
        "print(f\"Y_val shape: {Y_val.shape}\")"
      ],
      "metadata": {
        "colab": {
          "base_uri": "https://localhost:8080/"
        },
        "id": "MIeDJ4i6V3Tv",
        "outputId": "e424b204-7b25-4392-b661-0619188c670e"
      },
      "execution_count": 55,
      "outputs": [
        {
          "output_type": "stream",
          "name": "stdout",
          "text": [
            "X_val shape: (464, 128, 128)\n",
            "Y_val shape: (464,)\n"
          ]
        }
      ]
    },
    {
      "cell_type": "code",
      "source": [
        "Y_train"
      ],
      "metadata": {
        "colab": {
          "base_uri": "https://localhost:8080/"
        },
        "id": "0TXGmPsWvF-r",
        "outputId": "a15cb109-33fe-4db7-d07b-f42172f8458d"
      },
      "execution_count": 56,
      "outputs": [
        {
          "output_type": "execute_result",
          "data": {
            "text/plain": [
              "array([2, 1, 0, ..., 1, 1, 0])"
            ]
          },
          "metadata": {},
          "execution_count": 56
        }
      ]
    },
    {
      "cell_type": "code",
      "source": [
        "Y_train = tf.keras.utils.to_categorical(Y_train)"
      ],
      "metadata": {
        "id": "IrL-98W9vRTM"
      },
      "execution_count": 57,
      "outputs": []
    },
    {
      "cell_type": "code",
      "source": [
        "Y_train"
      ],
      "metadata": {
        "colab": {
          "base_uri": "https://localhost:8080/"
        },
        "id": "rqmsAPH1vSed",
        "outputId": "959df561-3ef6-47fd-a797-e3400aab3e01"
      },
      "execution_count": 58,
      "outputs": [
        {
          "output_type": "execute_result",
          "data": {
            "text/plain": [
              "array([[0., 0., 1.],\n",
              "       [0., 1., 0.],\n",
              "       [1., 0., 0.],\n",
              "       ...,\n",
              "       [0., 1., 0.],\n",
              "       [0., 1., 0.],\n",
              "       [1., 0., 0.]], dtype=float32)"
            ]
          },
          "metadata": {},
          "execution_count": 58
        }
      ]
    },
    {
      "cell_type": "code",
      "source": [
        "print(Y_train.shape)"
      ],
      "metadata": {
        "colab": {
          "base_uri": "https://localhost:8080/"
        },
        "id": "N1mHKXfsZ6jH",
        "outputId": "7b65692f-88bd-462b-e36c-a0f0099ee776"
      },
      "execution_count": 59,
      "outputs": [
        {
          "output_type": "stream",
          "name": "stdout",
          "text": [
            "(3607, 3)\n"
          ]
        }
      ]
    },
    {
      "cell_type": "code",
      "source": [
        "Y_test"
      ],
      "metadata": {
        "colab": {
          "base_uri": "https://localhost:8080/"
        },
        "id": "dYx63ohEvlVv",
        "outputId": "4fc7a326-221c-4f4e-db90-f4e073eb97da"
      },
      "execution_count": 60,
      "outputs": [
        {
          "output_type": "execute_result",
          "data": {
            "text/plain": [
              "array([0, 1, 1, ..., 1, 1, 1])"
            ]
          },
          "metadata": {},
          "execution_count": 60
        }
      ]
    },
    {
      "cell_type": "code",
      "source": [
        "Y_test_cat = tf.keras.utils.to_categorical(Y_test)"
      ],
      "metadata": {
        "id": "FVzCHTW1vnXL"
      },
      "execution_count": 61,
      "outputs": []
    },
    {
      "cell_type": "code",
      "source": [
        "print(Y_test_cat.shape)"
      ],
      "metadata": {
        "colab": {
          "base_uri": "https://localhost:8080/"
        },
        "id": "x8dTjhjLGzRb",
        "outputId": "6e497b27-908f-42ec-d42b-84cc320c4102"
      },
      "execution_count": 62,
      "outputs": [
        {
          "output_type": "stream",
          "name": "stdout",
          "text": [
            "(1083, 3)\n"
          ]
        }
      ]
    },
    {
      "cell_type": "code",
      "source": [
        "Y_test_cat"
      ],
      "metadata": {
        "colab": {
          "base_uri": "https://localhost:8080/"
        },
        "id": "vINQgFzqvr0U",
        "outputId": "4ae06a18-620c-433b-b1dd-c636ca614c3f"
      },
      "execution_count": 63,
      "outputs": [
        {
          "output_type": "execute_result",
          "data": {
            "text/plain": [
              "array([[1., 0., 0.],\n",
              "       [0., 1., 0.],\n",
              "       [0., 1., 0.],\n",
              "       ...,\n",
              "       [0., 1., 0.],\n",
              "       [0., 1., 0.],\n",
              "       [0., 1., 0.]], dtype=float32)"
            ]
          },
          "metadata": {},
          "execution_count": 63
        }
      ]
    },
    {
      "cell_type": "code",
      "source": [
        "Y_val"
      ],
      "metadata": {
        "id": "PKTe_1mrXTWu",
        "outputId": "d08c3446-3f6a-44cc-b536-41cf0f2353b1",
        "colab": {
          "base_uri": "https://localhost:8080/"
        }
      },
      "execution_count": 64,
      "outputs": [
        {
          "output_type": "execute_result",
          "data": {
            "text/plain": [
              "array([0, 2, 1, 0, 1, 0, 1, 2, 0, 2, 1, 2, 1, 0, 1, 1, 0, 1, 1, 1, 2, 1,\n",
              "       0, 1, 1, 0, 0, 2, 0, 2, 0, 1, 2, 1, 1, 1, 2, 0, 0, 0, 1, 1, 2, 2,\n",
              "       1, 2, 2, 1, 0, 1, 1, 0, 2, 1, 1, 1, 0, 2, 1, 1, 0, 1, 1, 2, 1, 1,\n",
              "       0, 1, 1, 2, 1, 2, 0, 1, 0, 0, 1, 1, 0, 1, 0, 0, 0, 1, 0, 0, 1, 1,\n",
              "       2, 1, 1, 1, 1, 1, 1, 1, 1, 1, 0, 1, 1, 1, 2, 0, 1, 1, 2, 1, 2, 0,\n",
              "       0, 2, 0, 0, 1, 2, 0, 2, 0, 1, 0, 1, 0, 1, 0, 0, 1, 2, 1, 2, 2, 0,\n",
              "       1, 0, 0, 1, 1, 0, 1, 0, 1, 0, 2, 1, 1, 0, 1, 0, 2, 0, 0, 1, 2, 0,\n",
              "       1, 1, 2, 1, 0, 1, 1, 1, 1, 2, 1, 1, 1, 1, 0, 1, 1, 0, 2, 0, 2, 1,\n",
              "       1, 1, 2, 0, 1, 0, 0, 2, 1, 1, 0, 0, 1, 0, 1, 1, 1, 1, 1, 0, 1, 1,\n",
              "       2, 1, 1, 1, 1, 2, 1, 1, 2, 2, 1, 0, 1, 0, 2, 0, 1, 1, 0, 1, 1, 1,\n",
              "       0, 1, 0, 2, 1, 1, 2, 1, 0, 1, 0, 0, 2, 0, 1, 1, 1, 0, 1, 2, 2, 0,\n",
              "       2, 0, 2, 0, 1, 2, 1, 0, 2, 2, 0, 1, 0, 0, 1, 1, 0, 0, 1, 1, 2, 2,\n",
              "       1, 0, 2, 0, 0, 2, 2, 2, 2, 0, 1, 0, 2, 1, 2, 0, 0, 1, 2, 1, 1, 0,\n",
              "       0, 1, 0, 1, 1, 1, 1, 2, 1, 0, 1, 1, 2, 0, 1, 2, 2, 1, 2, 0, 0, 1,\n",
              "       1, 0, 1, 1, 1, 1, 0, 0, 2, 0, 1, 0, 2, 0, 1, 1, 1, 0, 0, 1, 1, 0,\n",
              "       1, 1, 1, 1, 1, 0, 1, 2, 1, 0, 0, 2, 1, 1, 0, 2, 2, 1, 2, 1, 1, 2,\n",
              "       2, 0, 2, 1, 0, 2, 2, 1, 1, 2, 1, 2, 0, 1, 2, 2, 2, 0, 2, 1, 1, 1,\n",
              "       0, 1, 2, 2, 2, 0, 0, 0, 0, 0, 1, 2, 1, 0, 2, 1, 2, 1, 2, 2, 2, 0,\n",
              "       1, 1, 1, 1, 0, 1, 1, 2, 2, 1, 1, 1, 0, 1, 1, 1, 1, 0, 1, 0, 1, 0,\n",
              "       1, 2, 2, 0, 0, 1, 0, 1, 1, 1, 0, 0, 1, 1, 1, 1, 1, 2, 0, 2, 1, 2,\n",
              "       0, 1, 0, 1, 2, 0, 2, 1, 1, 2, 2, 0, 1, 0, 0, 0, 0, 2, 0, 1, 1, 2,\n",
              "       0, 1])"
            ]
          },
          "metadata": {},
          "execution_count": 64
        }
      ]
    },
    {
      "cell_type": "code",
      "source": [
        "Y_val_cat = tf.keras.utils.to_categorical(Y_val)"
      ],
      "metadata": {
        "id": "ehkuDVs_XVc6"
      },
      "execution_count": 65,
      "outputs": []
    },
    {
      "cell_type": "code",
      "source": [
        "print(Y_val_cat.shape)"
      ],
      "metadata": {
        "id": "S1CVs9uEXX_j",
        "outputId": "7541c0ab-4a64-40f2-dadf-185a6b67174b",
        "colab": {
          "base_uri": "https://localhost:8080/"
        }
      },
      "execution_count": 66,
      "outputs": [
        {
          "output_type": "stream",
          "name": "stdout",
          "text": [
            "(464, 3)\n"
          ]
        }
      ]
    },
    {
      "cell_type": "code",
      "source": [
        "Y_val_cat"
      ],
      "metadata": {
        "id": "q9nEVl_mXaUU",
        "outputId": "625d1570-eec5-4545-91ef-92339fa3ec7c",
        "colab": {
          "base_uri": "https://localhost:8080/"
        }
      },
      "execution_count": 67,
      "outputs": [
        {
          "output_type": "execute_result",
          "data": {
            "text/plain": [
              "array([[1., 0., 0.],\n",
              "       [0., 0., 1.],\n",
              "       [0., 1., 0.],\n",
              "       ...,\n",
              "       [0., 0., 1.],\n",
              "       [1., 0., 0.],\n",
              "       [0., 1., 0.]], dtype=float32)"
            ]
          },
          "metadata": {},
          "execution_count": 67
        }
      ]
    },
    {
      "cell_type": "code",
      "source": [
        "# CNN model\n",
        "model1 = Sequential()\n",
        "inputSize = (128,128,1)\n",
        "\n",
        "#ilters=32, kernel_size=(4,4), input_shape=(28,28,1), activation='relu')\n",
        "model1.add(Conv2D(filters = 32, kernel_size=(3,3), input_shape=inputSize, activation='relu'))\n",
        "model1.add(MaxPool2D(pool_size=(2,2)))\n",
        "\n",
        "model1.add(Conv2D(filters = 32, kernel_size=(3,3), input_shape=inputSize, activation='relu'))\n",
        "model1.add(MaxPool2D(pool_size=(2,2)))\n",
        "\n",
        "model1.add(Conv2D(filters = 32, kernel_size=(3,3), input_shape=inputSize, activation='relu'))\n",
        "model1.add(MaxPool2D(pool_size=(2,2)))\n",
        "\n",
        "model1.add(Flatten())\n",
        "\n",
        "model1.add(Dense(1024, activation='relu'))\n",
        "model1.add(Dropout(0.2))\n",
        "\n",
        "model1.add(Dense(3, activation = 'softmax'))\n",
        "model1.compile(loss = 'categorical_crossentropy',\n",
        "              optimizer = 'adam',\n",
        "              metrics = ['accuracy'])"
      ],
      "metadata": {
        "id": "qyfIQ8gr7QZV"
      },
      "execution_count": 68,
      "outputs": []
    },
    {
      "cell_type": "code",
      "source": [
        "model1.summary()"
      ],
      "metadata": {
        "colab": {
          "base_uri": "https://localhost:8080/"
        },
        "id": "p-KxKdTWBtpn",
        "outputId": "5d9cc6af-4d19-46ef-9aff-52b70830737b"
      },
      "execution_count": 69,
      "outputs": [
        {
          "output_type": "stream",
          "name": "stdout",
          "text": [
            "Model: \"sequential_2\"\n",
            "_________________________________________________________________\n",
            " Layer (type)                Output Shape              Param #   \n",
            "=================================================================\n",
            " conv2d_6 (Conv2D)           (None, 126, 126, 32)      320       \n",
            "                                                                 \n",
            " max_pooling2d_6 (MaxPoolin  (None, 63, 63, 32)        0         \n",
            " g2D)                                                            \n",
            "                                                                 \n",
            " conv2d_7 (Conv2D)           (None, 61, 61, 32)        9248      \n",
            "                                                                 \n",
            " max_pooling2d_7 (MaxPoolin  (None, 30, 30, 32)        0         \n",
            " g2D)                                                            \n",
            "                                                                 \n",
            " conv2d_8 (Conv2D)           (None, 28, 28, 32)        9248      \n",
            "                                                                 \n",
            " max_pooling2d_8 (MaxPoolin  (None, 14, 14, 32)        0         \n",
            " g2D)                                                            \n",
            "                                                                 \n",
            " flatten_2 (Flatten)         (None, 6272)              0         \n",
            "                                                                 \n",
            " dense_4 (Dense)             (None, 1024)              6423552   \n",
            "                                                                 \n",
            " dropout_2 (Dropout)         (None, 1024)              0         \n",
            "                                                                 \n",
            " dense_5 (Dense)             (None, 3)                 3075      \n",
            "                                                                 \n",
            "=================================================================\n",
            "Total params: 6445443 (24.59 MB)\n",
            "Trainable params: 6445443 (24.59 MB)\n",
            "Non-trainable params: 0 (0.00 Byte)\n",
            "_________________________________________________________________\n"
          ]
        }
      ]
    },
    {
      "cell_type": "code",
      "source": [
        "results = model1.fit(X_train, Y_train, epochs=35, validation_data=(X_val, Y_val_cat))"
      ],
      "metadata": {
        "colab": {
          "base_uri": "https://localhost:8080/"
        },
        "id": "dIYSHz2HEwZ3",
        "outputId": "6a35f796-a5bf-43aa-ca96-3da74920b1dc"
      },
      "execution_count": 70,
      "outputs": [
        {
          "output_type": "stream",
          "name": "stdout",
          "text": [
            "Epoch 1/35\n",
            "113/113 [==============================] - 78s 678ms/step - loss: 0.9149 - accuracy: 0.5667 - val_loss: 0.8014 - val_accuracy: 0.6358\n",
            "Epoch 2/35\n",
            "113/113 [==============================] - 74s 654ms/step - loss: 0.4343 - accuracy: 0.8267 - val_loss: 0.3255 - val_accuracy: 0.8836\n",
            "Epoch 3/35\n",
            "113/113 [==============================] - 83s 732ms/step - loss: 0.1226 - accuracy: 0.9595 - val_loss: 0.1302 - val_accuracy: 0.9655\n",
            "Epoch 4/35\n",
            "113/113 [==============================] - 74s 659ms/step - loss: 0.0629 - accuracy: 0.9789 - val_loss: 0.0853 - val_accuracy: 0.9698\n",
            "Epoch 5/35\n",
            "113/113 [==============================] - 74s 657ms/step - loss: 0.0239 - accuracy: 0.9925 - val_loss: 0.0481 - val_accuracy: 0.9871\n",
            "Epoch 6/35\n",
            "113/113 [==============================] - 75s 669ms/step - loss: 0.0177 - accuracy: 0.9931 - val_loss: 0.0977 - val_accuracy: 0.9784\n",
            "Epoch 7/35\n",
            "113/113 [==============================] - 74s 654ms/step - loss: 0.0397 - accuracy: 0.9872 - val_loss: 0.1408 - val_accuracy: 0.9569\n",
            "Epoch 8/35\n",
            "113/113 [==============================] - 82s 727ms/step - loss: 0.0231 - accuracy: 0.9925 - val_loss: 0.0340 - val_accuracy: 0.9914\n",
            "Epoch 9/35\n",
            "113/113 [==============================] - 74s 658ms/step - loss: 0.0070 - accuracy: 0.9983 - val_loss: 0.0359 - val_accuracy: 0.9957\n",
            "Epoch 10/35\n",
            "113/113 [==============================] - 75s 662ms/step - loss: 0.0168 - accuracy: 0.9939 - val_loss: 0.0206 - val_accuracy: 0.9892\n",
            "Epoch 11/35\n",
            "113/113 [==============================] - 77s 682ms/step - loss: 0.0020 - accuracy: 1.0000 - val_loss: 0.0144 - val_accuracy: 0.9935\n",
            "Epoch 12/35\n",
            "113/113 [==============================] - 78s 688ms/step - loss: 3.6235e-04 - accuracy: 1.0000 - val_loss: 0.0197 - val_accuracy: 0.9935\n",
            "Epoch 13/35\n",
            "113/113 [==============================] - 72s 641ms/step - loss: 3.1962e-04 - accuracy: 1.0000 - val_loss: 0.0274 - val_accuracy: 0.9935\n",
            "Epoch 14/35\n",
            "113/113 [==============================] - 75s 659ms/step - loss: 0.0219 - accuracy: 0.9950 - val_loss: 0.0384 - val_accuracy: 0.9892\n",
            "Epoch 15/35\n",
            "113/113 [==============================] - 74s 657ms/step - loss: 0.0306 - accuracy: 0.9881 - val_loss: 0.2098 - val_accuracy: 0.9440\n",
            "Epoch 16/35\n",
            "113/113 [==============================] - 80s 701ms/step - loss: 0.0240 - accuracy: 0.9939 - val_loss: 0.0484 - val_accuracy: 0.9935\n",
            "Epoch 17/35\n",
            "113/113 [==============================] - 76s 674ms/step - loss: 0.0019 - accuracy: 0.9994 - val_loss: 0.0086 - val_accuracy: 0.9978\n",
            "Epoch 18/35\n",
            "113/113 [==============================] - 74s 657ms/step - loss: 1.9620e-04 - accuracy: 1.0000 - val_loss: 0.0157 - val_accuracy: 0.9957\n",
            "Epoch 19/35\n",
            "113/113 [==============================] - 73s 649ms/step - loss: 1.4303e-04 - accuracy: 1.0000 - val_loss: 0.0197 - val_accuracy: 0.9957\n",
            "Epoch 20/35\n",
            "113/113 [==============================] - 76s 670ms/step - loss: 4.1058e-05 - accuracy: 1.0000 - val_loss: 0.0225 - val_accuracy: 0.9957\n",
            "Epoch 21/35\n",
            "113/113 [==============================] - 76s 671ms/step - loss: 1.4170e-04 - accuracy: 1.0000 - val_loss: 0.0219 - val_accuracy: 0.9957\n",
            "Epoch 22/35\n",
            "113/113 [==============================] - 79s 700ms/step - loss: 3.6268e-05 - accuracy: 1.0000 - val_loss: 0.0235 - val_accuracy: 0.9957\n",
            "Epoch 23/35\n",
            "113/113 [==============================] - 78s 694ms/step - loss: 3.4489e-05 - accuracy: 1.0000 - val_loss: 0.0224 - val_accuracy: 0.9957\n",
            "Epoch 24/35\n",
            "113/113 [==============================] - 81s 717ms/step - loss: 2.4771e-05 - accuracy: 1.0000 - val_loss: 0.0257 - val_accuracy: 0.9957\n",
            "Epoch 25/35\n",
            "113/113 [==============================] - 73s 645ms/step - loss: 3.4565e-05 - accuracy: 1.0000 - val_loss: 0.0230 - val_accuracy: 0.9957\n",
            "Epoch 26/35\n",
            "113/113 [==============================] - 73s 650ms/step - loss: 2.2652e-05 - accuracy: 1.0000 - val_loss: 0.0265 - val_accuracy: 0.9957\n",
            "Epoch 27/35\n",
            "113/113 [==============================] - 74s 654ms/step - loss: 1.8619e-05 - accuracy: 1.0000 - val_loss: 0.0250 - val_accuracy: 0.9957\n",
            "Epoch 28/35\n",
            "113/113 [==============================] - 76s 669ms/step - loss: 1.5494e-05 - accuracy: 1.0000 - val_loss: 0.0260 - val_accuracy: 0.9957\n",
            "Epoch 29/35\n",
            "113/113 [==============================] - 76s 675ms/step - loss: 1.6318e-05 - accuracy: 1.0000 - val_loss: 0.0267 - val_accuracy: 0.9957\n",
            "Epoch 30/35\n",
            "113/113 [==============================] - 77s 684ms/step - loss: 1.4072e-05 - accuracy: 1.0000 - val_loss: 0.0272 - val_accuracy: 0.9957\n",
            "Epoch 31/35\n",
            "113/113 [==============================] - 73s 644ms/step - loss: 1.8751e-05 - accuracy: 1.0000 - val_loss: 0.0266 - val_accuracy: 0.9957\n",
            "Epoch 32/35\n",
            "113/113 [==============================] - 82s 726ms/step - loss: 1.3279e-05 - accuracy: 1.0000 - val_loss: 0.0287 - val_accuracy: 0.9957\n",
            "Epoch 33/35\n",
            "113/113 [==============================] - 76s 669ms/step - loss: 2.0292e-05 - accuracy: 1.0000 - val_loss: 0.0299 - val_accuracy: 0.9957\n",
            "Epoch 34/35\n",
            "113/113 [==============================] - 75s 663ms/step - loss: 1.5153e-05 - accuracy: 1.0000 - val_loss: 0.0308 - val_accuracy: 0.9957\n",
            "Epoch 35/35\n",
            "113/113 [==============================] - 76s 667ms/step - loss: 9.1147e-06 - accuracy: 1.0000 - val_loss: 0.0292 - val_accuracy: 0.9957\n"
          ]
        }
      ]
    },
    {
      "cell_type": "code",
      "source": [
        "print(model1.output_shape)"
      ],
      "metadata": {
        "id": "PAPdI8YsHE63",
        "colab": {
          "base_uri": "https://localhost:8080/"
        },
        "outputId": "6afdda1a-4022-4809-9557-0eccf2f94769"
      },
      "execution_count": 71,
      "outputs": [
        {
          "output_type": "stream",
          "name": "stdout",
          "text": [
            "(None, 3)\n"
          ]
        }
      ]
    },
    {
      "cell_type": "code",
      "source": [
        "hist_=pd.DataFrame(results.history)\n",
        "hist_"
      ],
      "metadata": {
        "colab": {
          "base_uri": "https://localhost:8080/",
          "height": 1000
        },
        "id": "JTD7k4UktUDx",
        "outputId": "674e8969-f6dc-45d6-80e9-b85b9a04cfd5"
      },
      "execution_count": 72,
      "outputs": [
        {
          "output_type": "execute_result",
          "data": {
            "text/plain": [
              "        loss  accuracy  val_loss  val_accuracy\n",
              "0   0.914932  0.566676  0.801365      0.635776\n",
              "1   0.434336  0.826726  0.325489      0.883621\n",
              "2   0.122552  0.959523  0.130241      0.965517\n",
              "3   0.062914  0.978930  0.085296      0.969828\n",
              "4   0.023861  0.992515  0.048076      0.987069\n",
              "5   0.017658  0.993069  0.097706      0.978448\n",
              "6   0.039743  0.987247  0.140816      0.956897\n",
              "7   0.023081  0.992515  0.034020      0.991379\n",
              "8   0.006963  0.998337  0.035885      0.995690\n",
              "9   0.016806  0.993901  0.020623      0.989224\n",
              "10  0.002006  1.000000  0.014399      0.993535\n",
              "11  0.000362  1.000000  0.019661      0.993535\n",
              "12  0.000320  1.000000  0.027431      0.993535\n",
              "13  0.021878  0.995010  0.038449      0.989224\n",
              "14  0.030623  0.988079  0.209763      0.943965\n",
              "15  0.023975  0.993901  0.048435      0.993535\n",
              "16  0.001871  0.999445  0.008598      0.997845\n",
              "17  0.000196  1.000000  0.015725      0.995690\n",
              "18  0.000143  1.000000  0.019725      0.995690\n",
              "19  0.000041  1.000000  0.022490      0.995690\n",
              "20  0.000142  1.000000  0.021862      0.995690\n",
              "21  0.000036  1.000000  0.023471      0.995690\n",
              "22  0.000034  1.000000  0.022432      0.995690\n",
              "23  0.000025  1.000000  0.025735      0.995690\n",
              "24  0.000035  1.000000  0.023043      0.995690\n",
              "25  0.000023  1.000000  0.026451      0.995690\n",
              "26  0.000019  1.000000  0.024997      0.995690\n",
              "27  0.000015  1.000000  0.026001      0.995690\n",
              "28  0.000016  1.000000  0.026692      0.995690\n",
              "29  0.000014  1.000000  0.027248      0.995690\n",
              "30  0.000019  1.000000  0.026553      0.995690\n",
              "31  0.000013  1.000000  0.028722      0.995690\n",
              "32  0.000020  1.000000  0.029945      0.995690\n",
              "33  0.000015  1.000000  0.030784      0.995690\n",
              "34  0.000009  1.000000  0.029179      0.995690"
            ],
            "text/html": [
              "\n",
              "  <div id=\"df-1ca5401d-b61c-4f5e-95e1-6f03e55a3eba\" class=\"colab-df-container\">\n",
              "    <div>\n",
              "<style scoped>\n",
              "    .dataframe tbody tr th:only-of-type {\n",
              "        vertical-align: middle;\n",
              "    }\n",
              "\n",
              "    .dataframe tbody tr th {\n",
              "        vertical-align: top;\n",
              "    }\n",
              "\n",
              "    .dataframe thead th {\n",
              "        text-align: right;\n",
              "    }\n",
              "</style>\n",
              "<table border=\"1\" class=\"dataframe\">\n",
              "  <thead>\n",
              "    <tr style=\"text-align: right;\">\n",
              "      <th></th>\n",
              "      <th>loss</th>\n",
              "      <th>accuracy</th>\n",
              "      <th>val_loss</th>\n",
              "      <th>val_accuracy</th>\n",
              "    </tr>\n",
              "  </thead>\n",
              "  <tbody>\n",
              "    <tr>\n",
              "      <th>0</th>\n",
              "      <td>0.914932</td>\n",
              "      <td>0.566676</td>\n",
              "      <td>0.801365</td>\n",
              "      <td>0.635776</td>\n",
              "    </tr>\n",
              "    <tr>\n",
              "      <th>1</th>\n",
              "      <td>0.434336</td>\n",
              "      <td>0.826726</td>\n",
              "      <td>0.325489</td>\n",
              "      <td>0.883621</td>\n",
              "    </tr>\n",
              "    <tr>\n",
              "      <th>2</th>\n",
              "      <td>0.122552</td>\n",
              "      <td>0.959523</td>\n",
              "      <td>0.130241</td>\n",
              "      <td>0.965517</td>\n",
              "    </tr>\n",
              "    <tr>\n",
              "      <th>3</th>\n",
              "      <td>0.062914</td>\n",
              "      <td>0.978930</td>\n",
              "      <td>0.085296</td>\n",
              "      <td>0.969828</td>\n",
              "    </tr>\n",
              "    <tr>\n",
              "      <th>4</th>\n",
              "      <td>0.023861</td>\n",
              "      <td>0.992515</td>\n",
              "      <td>0.048076</td>\n",
              "      <td>0.987069</td>\n",
              "    </tr>\n",
              "    <tr>\n",
              "      <th>5</th>\n",
              "      <td>0.017658</td>\n",
              "      <td>0.993069</td>\n",
              "      <td>0.097706</td>\n",
              "      <td>0.978448</td>\n",
              "    </tr>\n",
              "    <tr>\n",
              "      <th>6</th>\n",
              "      <td>0.039743</td>\n",
              "      <td>0.987247</td>\n",
              "      <td>0.140816</td>\n",
              "      <td>0.956897</td>\n",
              "    </tr>\n",
              "    <tr>\n",
              "      <th>7</th>\n",
              "      <td>0.023081</td>\n",
              "      <td>0.992515</td>\n",
              "      <td>0.034020</td>\n",
              "      <td>0.991379</td>\n",
              "    </tr>\n",
              "    <tr>\n",
              "      <th>8</th>\n",
              "      <td>0.006963</td>\n",
              "      <td>0.998337</td>\n",
              "      <td>0.035885</td>\n",
              "      <td>0.995690</td>\n",
              "    </tr>\n",
              "    <tr>\n",
              "      <th>9</th>\n",
              "      <td>0.016806</td>\n",
              "      <td>0.993901</td>\n",
              "      <td>0.020623</td>\n",
              "      <td>0.989224</td>\n",
              "    </tr>\n",
              "    <tr>\n",
              "      <th>10</th>\n",
              "      <td>0.002006</td>\n",
              "      <td>1.000000</td>\n",
              "      <td>0.014399</td>\n",
              "      <td>0.993535</td>\n",
              "    </tr>\n",
              "    <tr>\n",
              "      <th>11</th>\n",
              "      <td>0.000362</td>\n",
              "      <td>1.000000</td>\n",
              "      <td>0.019661</td>\n",
              "      <td>0.993535</td>\n",
              "    </tr>\n",
              "    <tr>\n",
              "      <th>12</th>\n",
              "      <td>0.000320</td>\n",
              "      <td>1.000000</td>\n",
              "      <td>0.027431</td>\n",
              "      <td>0.993535</td>\n",
              "    </tr>\n",
              "    <tr>\n",
              "      <th>13</th>\n",
              "      <td>0.021878</td>\n",
              "      <td>0.995010</td>\n",
              "      <td>0.038449</td>\n",
              "      <td>0.989224</td>\n",
              "    </tr>\n",
              "    <tr>\n",
              "      <th>14</th>\n",
              "      <td>0.030623</td>\n",
              "      <td>0.988079</td>\n",
              "      <td>0.209763</td>\n",
              "      <td>0.943965</td>\n",
              "    </tr>\n",
              "    <tr>\n",
              "      <th>15</th>\n",
              "      <td>0.023975</td>\n",
              "      <td>0.993901</td>\n",
              "      <td>0.048435</td>\n",
              "      <td>0.993535</td>\n",
              "    </tr>\n",
              "    <tr>\n",
              "      <th>16</th>\n",
              "      <td>0.001871</td>\n",
              "      <td>0.999445</td>\n",
              "      <td>0.008598</td>\n",
              "      <td>0.997845</td>\n",
              "    </tr>\n",
              "    <tr>\n",
              "      <th>17</th>\n",
              "      <td>0.000196</td>\n",
              "      <td>1.000000</td>\n",
              "      <td>0.015725</td>\n",
              "      <td>0.995690</td>\n",
              "    </tr>\n",
              "    <tr>\n",
              "      <th>18</th>\n",
              "      <td>0.000143</td>\n",
              "      <td>1.000000</td>\n",
              "      <td>0.019725</td>\n",
              "      <td>0.995690</td>\n",
              "    </tr>\n",
              "    <tr>\n",
              "      <th>19</th>\n",
              "      <td>0.000041</td>\n",
              "      <td>1.000000</td>\n",
              "      <td>0.022490</td>\n",
              "      <td>0.995690</td>\n",
              "    </tr>\n",
              "    <tr>\n",
              "      <th>20</th>\n",
              "      <td>0.000142</td>\n",
              "      <td>1.000000</td>\n",
              "      <td>0.021862</td>\n",
              "      <td>0.995690</td>\n",
              "    </tr>\n",
              "    <tr>\n",
              "      <th>21</th>\n",
              "      <td>0.000036</td>\n",
              "      <td>1.000000</td>\n",
              "      <td>0.023471</td>\n",
              "      <td>0.995690</td>\n",
              "    </tr>\n",
              "    <tr>\n",
              "      <th>22</th>\n",
              "      <td>0.000034</td>\n",
              "      <td>1.000000</td>\n",
              "      <td>0.022432</td>\n",
              "      <td>0.995690</td>\n",
              "    </tr>\n",
              "    <tr>\n",
              "      <th>23</th>\n",
              "      <td>0.000025</td>\n",
              "      <td>1.000000</td>\n",
              "      <td>0.025735</td>\n",
              "      <td>0.995690</td>\n",
              "    </tr>\n",
              "    <tr>\n",
              "      <th>24</th>\n",
              "      <td>0.000035</td>\n",
              "      <td>1.000000</td>\n",
              "      <td>0.023043</td>\n",
              "      <td>0.995690</td>\n",
              "    </tr>\n",
              "    <tr>\n",
              "      <th>25</th>\n",
              "      <td>0.000023</td>\n",
              "      <td>1.000000</td>\n",
              "      <td>0.026451</td>\n",
              "      <td>0.995690</td>\n",
              "    </tr>\n",
              "    <tr>\n",
              "      <th>26</th>\n",
              "      <td>0.000019</td>\n",
              "      <td>1.000000</td>\n",
              "      <td>0.024997</td>\n",
              "      <td>0.995690</td>\n",
              "    </tr>\n",
              "    <tr>\n",
              "      <th>27</th>\n",
              "      <td>0.000015</td>\n",
              "      <td>1.000000</td>\n",
              "      <td>0.026001</td>\n",
              "      <td>0.995690</td>\n",
              "    </tr>\n",
              "    <tr>\n",
              "      <th>28</th>\n",
              "      <td>0.000016</td>\n",
              "      <td>1.000000</td>\n",
              "      <td>0.026692</td>\n",
              "      <td>0.995690</td>\n",
              "    </tr>\n",
              "    <tr>\n",
              "      <th>29</th>\n",
              "      <td>0.000014</td>\n",
              "      <td>1.000000</td>\n",
              "      <td>0.027248</td>\n",
              "      <td>0.995690</td>\n",
              "    </tr>\n",
              "    <tr>\n",
              "      <th>30</th>\n",
              "      <td>0.000019</td>\n",
              "      <td>1.000000</td>\n",
              "      <td>0.026553</td>\n",
              "      <td>0.995690</td>\n",
              "    </tr>\n",
              "    <tr>\n",
              "      <th>31</th>\n",
              "      <td>0.000013</td>\n",
              "      <td>1.000000</td>\n",
              "      <td>0.028722</td>\n",
              "      <td>0.995690</td>\n",
              "    </tr>\n",
              "    <tr>\n",
              "      <th>32</th>\n",
              "      <td>0.000020</td>\n",
              "      <td>1.000000</td>\n",
              "      <td>0.029945</td>\n",
              "      <td>0.995690</td>\n",
              "    </tr>\n",
              "    <tr>\n",
              "      <th>33</th>\n",
              "      <td>0.000015</td>\n",
              "      <td>1.000000</td>\n",
              "      <td>0.030784</td>\n",
              "      <td>0.995690</td>\n",
              "    </tr>\n",
              "    <tr>\n",
              "      <th>34</th>\n",
              "      <td>0.000009</td>\n",
              "      <td>1.000000</td>\n",
              "      <td>0.029179</td>\n",
              "      <td>0.995690</td>\n",
              "    </tr>\n",
              "  </tbody>\n",
              "</table>\n",
              "</div>\n",
              "    <div class=\"colab-df-buttons\">\n",
              "\n",
              "  <div class=\"colab-df-container\">\n",
              "    <button class=\"colab-df-convert\" onclick=\"convertToInteractive('df-1ca5401d-b61c-4f5e-95e1-6f03e55a3eba')\"\n",
              "            title=\"Convert this dataframe to an interactive table.\"\n",
              "            style=\"display:none;\">\n",
              "\n",
              "  <svg xmlns=\"http://www.w3.org/2000/svg\" height=\"24px\" viewBox=\"0 -960 960 960\">\n",
              "    <path d=\"M120-120v-720h720v720H120Zm60-500h600v-160H180v160Zm220 220h160v-160H400v160Zm0 220h160v-160H400v160ZM180-400h160v-160H180v160Zm440 0h160v-160H620v160ZM180-180h160v-160H180v160Zm440 0h160v-160H620v160Z\"/>\n",
              "  </svg>\n",
              "    </button>\n",
              "\n",
              "  <style>\n",
              "    .colab-df-container {\n",
              "      display:flex;\n",
              "      gap: 12px;\n",
              "    }\n",
              "\n",
              "    .colab-df-convert {\n",
              "      background-color: #E8F0FE;\n",
              "      border: none;\n",
              "      border-radius: 50%;\n",
              "      cursor: pointer;\n",
              "      display: none;\n",
              "      fill: #1967D2;\n",
              "      height: 32px;\n",
              "      padding: 0 0 0 0;\n",
              "      width: 32px;\n",
              "    }\n",
              "\n",
              "    .colab-df-convert:hover {\n",
              "      background-color: #E2EBFA;\n",
              "      box-shadow: 0px 1px 2px rgba(60, 64, 67, 0.3), 0px 1px 3px 1px rgba(60, 64, 67, 0.15);\n",
              "      fill: #174EA6;\n",
              "    }\n",
              "\n",
              "    .colab-df-buttons div {\n",
              "      margin-bottom: 4px;\n",
              "    }\n",
              "\n",
              "    [theme=dark] .colab-df-convert {\n",
              "      background-color: #3B4455;\n",
              "      fill: #D2E3FC;\n",
              "    }\n",
              "\n",
              "    [theme=dark] .colab-df-convert:hover {\n",
              "      background-color: #434B5C;\n",
              "      box-shadow: 0px 1px 3px 1px rgba(0, 0, 0, 0.15);\n",
              "      filter: drop-shadow(0px 1px 2px rgba(0, 0, 0, 0.3));\n",
              "      fill: #FFFFFF;\n",
              "    }\n",
              "  </style>\n",
              "\n",
              "    <script>\n",
              "      const buttonEl =\n",
              "        document.querySelector('#df-1ca5401d-b61c-4f5e-95e1-6f03e55a3eba button.colab-df-convert');\n",
              "      buttonEl.style.display =\n",
              "        google.colab.kernel.accessAllowed ? 'block' : 'none';\n",
              "\n",
              "      async function convertToInteractive(key) {\n",
              "        const element = document.querySelector('#df-1ca5401d-b61c-4f5e-95e1-6f03e55a3eba');\n",
              "        const dataTable =\n",
              "          await google.colab.kernel.invokeFunction('convertToInteractive',\n",
              "                                                    [key], {});\n",
              "        if (!dataTable) return;\n",
              "\n",
              "        const docLinkHtml = 'Like what you see? Visit the ' +\n",
              "          '<a target=\"_blank\" href=https://colab.research.google.com/notebooks/data_table.ipynb>data table notebook</a>'\n",
              "          + ' to learn more about interactive tables.';\n",
              "        element.innerHTML = '';\n",
              "        dataTable['output_type'] = 'display_data';\n",
              "        await google.colab.output.renderOutput(dataTable, element);\n",
              "        const docLink = document.createElement('div');\n",
              "        docLink.innerHTML = docLinkHtml;\n",
              "        element.appendChild(docLink);\n",
              "      }\n",
              "    </script>\n",
              "  </div>\n",
              "\n",
              "\n",
              "<div id=\"df-cbab2335-7daa-4eb1-b54c-00d24cde0cd0\">\n",
              "  <button class=\"colab-df-quickchart\" onclick=\"quickchart('df-cbab2335-7daa-4eb1-b54c-00d24cde0cd0')\"\n",
              "            title=\"Suggest charts\"\n",
              "            style=\"display:none;\">\n",
              "\n",
              "<svg xmlns=\"http://www.w3.org/2000/svg\" height=\"24px\"viewBox=\"0 0 24 24\"\n",
              "     width=\"24px\">\n",
              "    <g>\n",
              "        <path d=\"M19 3H5c-1.1 0-2 .9-2 2v14c0 1.1.9 2 2 2h14c1.1 0 2-.9 2-2V5c0-1.1-.9-2-2-2zM9 17H7v-7h2v7zm4 0h-2V7h2v10zm4 0h-2v-4h2v4z\"/>\n",
              "    </g>\n",
              "</svg>\n",
              "  </button>\n",
              "\n",
              "<style>\n",
              "  .colab-df-quickchart {\n",
              "      --bg-color: #E8F0FE;\n",
              "      --fill-color: #1967D2;\n",
              "      --hover-bg-color: #E2EBFA;\n",
              "      --hover-fill-color: #174EA6;\n",
              "      --disabled-fill-color: #AAA;\n",
              "      --disabled-bg-color: #DDD;\n",
              "  }\n",
              "\n",
              "  [theme=dark] .colab-df-quickchart {\n",
              "      --bg-color: #3B4455;\n",
              "      --fill-color: #D2E3FC;\n",
              "      --hover-bg-color: #434B5C;\n",
              "      --hover-fill-color: #FFFFFF;\n",
              "      --disabled-bg-color: #3B4455;\n",
              "      --disabled-fill-color: #666;\n",
              "  }\n",
              "\n",
              "  .colab-df-quickchart {\n",
              "    background-color: var(--bg-color);\n",
              "    border: none;\n",
              "    border-radius: 50%;\n",
              "    cursor: pointer;\n",
              "    display: none;\n",
              "    fill: var(--fill-color);\n",
              "    height: 32px;\n",
              "    padding: 0;\n",
              "    width: 32px;\n",
              "  }\n",
              "\n",
              "  .colab-df-quickchart:hover {\n",
              "    background-color: var(--hover-bg-color);\n",
              "    box-shadow: 0 1px 2px rgba(60, 64, 67, 0.3), 0 1px 3px 1px rgba(60, 64, 67, 0.15);\n",
              "    fill: var(--button-hover-fill-color);\n",
              "  }\n",
              "\n",
              "  .colab-df-quickchart-complete:disabled,\n",
              "  .colab-df-quickchart-complete:disabled:hover {\n",
              "    background-color: var(--disabled-bg-color);\n",
              "    fill: var(--disabled-fill-color);\n",
              "    box-shadow: none;\n",
              "  }\n",
              "\n",
              "  .colab-df-spinner {\n",
              "    border: 2px solid var(--fill-color);\n",
              "    border-color: transparent;\n",
              "    border-bottom-color: var(--fill-color);\n",
              "    animation:\n",
              "      spin 1s steps(1) infinite;\n",
              "  }\n",
              "\n",
              "  @keyframes spin {\n",
              "    0% {\n",
              "      border-color: transparent;\n",
              "      border-bottom-color: var(--fill-color);\n",
              "      border-left-color: var(--fill-color);\n",
              "    }\n",
              "    20% {\n",
              "      border-color: transparent;\n",
              "      border-left-color: var(--fill-color);\n",
              "      border-top-color: var(--fill-color);\n",
              "    }\n",
              "    30% {\n",
              "      border-color: transparent;\n",
              "      border-left-color: var(--fill-color);\n",
              "      border-top-color: var(--fill-color);\n",
              "      border-right-color: var(--fill-color);\n",
              "    }\n",
              "    40% {\n",
              "      border-color: transparent;\n",
              "      border-right-color: var(--fill-color);\n",
              "      border-top-color: var(--fill-color);\n",
              "    }\n",
              "    60% {\n",
              "      border-color: transparent;\n",
              "      border-right-color: var(--fill-color);\n",
              "    }\n",
              "    80% {\n",
              "      border-color: transparent;\n",
              "      border-right-color: var(--fill-color);\n",
              "      border-bottom-color: var(--fill-color);\n",
              "    }\n",
              "    90% {\n",
              "      border-color: transparent;\n",
              "      border-bottom-color: var(--fill-color);\n",
              "    }\n",
              "  }\n",
              "</style>\n",
              "\n",
              "  <script>\n",
              "    async function quickchart(key) {\n",
              "      const quickchartButtonEl =\n",
              "        document.querySelector('#' + key + ' button');\n",
              "      quickchartButtonEl.disabled = true;  // To prevent multiple clicks.\n",
              "      quickchartButtonEl.classList.add('colab-df-spinner');\n",
              "      try {\n",
              "        const charts = await google.colab.kernel.invokeFunction(\n",
              "            'suggestCharts', [key], {});\n",
              "      } catch (error) {\n",
              "        console.error('Error during call to suggestCharts:', error);\n",
              "      }\n",
              "      quickchartButtonEl.classList.remove('colab-df-spinner');\n",
              "      quickchartButtonEl.classList.add('colab-df-quickchart-complete');\n",
              "    }\n",
              "    (() => {\n",
              "      let quickchartButtonEl =\n",
              "        document.querySelector('#df-cbab2335-7daa-4eb1-b54c-00d24cde0cd0 button');\n",
              "      quickchartButtonEl.style.display =\n",
              "        google.colab.kernel.accessAllowed ? 'block' : 'none';\n",
              "    })();\n",
              "  </script>\n",
              "</div>\n",
              "\n",
              "  <div id=\"id_5d881a94-b7c0-4f27-8016-6af940019a00\">\n",
              "    <style>\n",
              "      .colab-df-generate {\n",
              "        background-color: #E8F0FE;\n",
              "        border: none;\n",
              "        border-radius: 50%;\n",
              "        cursor: pointer;\n",
              "        display: none;\n",
              "        fill: #1967D2;\n",
              "        height: 32px;\n",
              "        padding: 0 0 0 0;\n",
              "        width: 32px;\n",
              "      }\n",
              "\n",
              "      .colab-df-generate:hover {\n",
              "        background-color: #E2EBFA;\n",
              "        box-shadow: 0px 1px 2px rgba(60, 64, 67, 0.3), 0px 1px 3px 1px rgba(60, 64, 67, 0.15);\n",
              "        fill: #174EA6;\n",
              "      }\n",
              "\n",
              "      [theme=dark] .colab-df-generate {\n",
              "        background-color: #3B4455;\n",
              "        fill: #D2E3FC;\n",
              "      }\n",
              "\n",
              "      [theme=dark] .colab-df-generate:hover {\n",
              "        background-color: #434B5C;\n",
              "        box-shadow: 0px 1px 3px 1px rgba(0, 0, 0, 0.15);\n",
              "        filter: drop-shadow(0px 1px 2px rgba(0, 0, 0, 0.3));\n",
              "        fill: #FFFFFF;\n",
              "      }\n",
              "    </style>\n",
              "    <button class=\"colab-df-generate\" onclick=\"generateWithVariable('hist_')\"\n",
              "            title=\"Generate code using this dataframe.\"\n",
              "            style=\"display:none;\">\n",
              "\n",
              "  <svg xmlns=\"http://www.w3.org/2000/svg\" height=\"24px\"viewBox=\"0 0 24 24\"\n",
              "       width=\"24px\">\n",
              "    <path d=\"M7,19H8.4L18.45,9,17,7.55,7,17.6ZM5,21V16.75L18.45,3.32a2,2,0,0,1,2.83,0l1.4,1.43a1.91,1.91,0,0,1,.58,1.4,1.91,1.91,0,0,1-.58,1.4L9.25,21ZM18.45,9,17,7.55Zm-12,3A5.31,5.31,0,0,0,4.9,8.1,5.31,5.31,0,0,0,1,6.5,5.31,5.31,0,0,0,4.9,4.9,5.31,5.31,0,0,0,6.5,1,5.31,5.31,0,0,0,8.1,4.9,5.31,5.31,0,0,0,12,6.5,5.46,5.46,0,0,0,6.5,12Z\"/>\n",
              "  </svg>\n",
              "    </button>\n",
              "    <script>\n",
              "      (() => {\n",
              "      const buttonEl =\n",
              "        document.querySelector('#id_5d881a94-b7c0-4f27-8016-6af940019a00 button.colab-df-generate');\n",
              "      buttonEl.style.display =\n",
              "        google.colab.kernel.accessAllowed ? 'block' : 'none';\n",
              "\n",
              "      buttonEl.onclick = () => {\n",
              "        google.colab.notebook.generateWithVariable('hist_');\n",
              "      }\n",
              "      })();\n",
              "    </script>\n",
              "  </div>\n",
              "\n",
              "    </div>\n",
              "  </div>\n"
            ],
            "application/vnd.google.colaboratory.intrinsic+json": {
              "type": "dataframe",
              "variable_name": "hist_",
              "summary": "{\n  \"name\": \"hist_\",\n  \"rows\": 35,\n  \"fields\": [\n    {\n      \"column\": \"loss\",\n      \"properties\": {\n        \"dtype\": \"number\",\n        \"std\": 0.1683027316210385,\n        \"min\": 9.11472125153523e-06,\n        \"max\": 0.9149315357208252,\n        \"num_unique_values\": 35,\n        \"samples\": [\n          1.8618629837874323e-05,\n          0.021878467872738838,\n          3.456493141129613e-05\n        ],\n        \"semantic_type\": \"\",\n        \"description\": \"\"\n      }\n    },\n    {\n      \"column\": \"accuracy\",\n      \"properties\": {\n        \"dtype\": \"number\",\n        \"std\": 0.07765778463572554,\n        \"min\": 0.5666759014129639,\n        \"max\": 1.0,\n        \"num_unique_values\": 13,\n        \"samples\": [\n          0.9880787134170532,\n          1.0,\n          0.5666759014129639\n        ],\n        \"semantic_type\": \"\",\n        \"description\": \"\"\n      }\n    },\n    {\n      \"column\": \"val_loss\",\n      \"properties\": {\n        \"dtype\": \"number\",\n        \"std\": 0.14181361822159533,\n        \"min\": 0.008598381653428078,\n        \"max\": 0.8013652563095093,\n        \"num_unique_values\": 35,\n        \"samples\": [\n          0.024997379630804062,\n          0.038448765873909,\n          0.023042872548103333\n        ],\n        \"semantic_type\": \"\",\n        \"description\": \"\"\n      }\n    },\n    {\n      \"column\": \"val_accuracy\",\n      \"properties\": {\n        \"dtype\": \"number\",\n        \"std\": 0.06315263375920294,\n        \"min\": 0.6357758641242981,\n        \"max\": 0.9978448152542114,\n        \"num_unique_values\": 13,\n        \"samples\": [\n          0.943965494632721,\n          0.9892241358757019,\n          0.6357758641242981\n        ],\n        \"semantic_type\": \"\",\n        \"description\": \"\"\n      }\n    }\n  ]\n}"
            }
          },
          "metadata": {},
          "execution_count": 72
        }
      ]
    },
    {
      "cell_type": "markdown",
      "source": [
        "# **Model Evaluation**"
      ],
      "metadata": {
        "id": "H5U-0AnsNnlB"
      }
    },
    {
      "cell_type": "code",
      "source": [
        "loss, acc = model1.evaluate(X_test, Y_test_cat)\n",
        "print('loss: ', loss)\n",
        "print('accuracy ', acc)"
      ],
      "metadata": {
        "id": "hAhOrJj7NsU8",
        "outputId": "6a07e36b-5ed5-4b71-c6b5-f13fadb42c5d",
        "colab": {
          "base_uri": "https://localhost:8080/"
        }
      },
      "execution_count": 73,
      "outputs": [
        {
          "output_type": "stream",
          "name": "stdout",
          "text": [
            "34/34 [==============================] - 5s 155ms/step - loss: 0.0140 - accuracy: 0.9972\n",
            "loss:  0.013967059552669525\n",
            "accuracy  0.9972299337387085\n"
          ]
        }
      ]
    },
    {
      "cell_type": "code",
      "source": [
        "# Reshape Y_test to a 1-dimensional array\n",
        "Y_test = Y_test.reshape(-1,)\n",
        "\n",
        "predictions = model1.predict(X_test)\n",
        "Y_predected = np.argmax(predictions, axis=1)\n",
        "#Y_test_ = np.argmax(Y_test,axis=0)\n",
        "\n",
        "df = pd.DataFrame({'Actual': Y_test, 'Prediction': Y_predected})\n",
        "df"
      ],
      "metadata": {
        "id": "Rjjfs1ANN1e1",
        "outputId": "fd726388-8a6f-45c5-c462-c727773f084a",
        "colab": {
          "base_uri": "https://localhost:8080/",
          "height": 442
        }
      },
      "execution_count": 74,
      "outputs": [
        {
          "output_type": "stream",
          "name": "stdout",
          "text": [
            "34/34 [==============================] - 5s 154ms/step\n"
          ]
        },
        {
          "output_type": "execute_result",
          "data": {
            "text/plain": [
              "      Actual  Prediction\n",
              "0          0           0\n",
              "1          1           1\n",
              "2          1           1\n",
              "3          1           1\n",
              "4          1           1\n",
              "...      ...         ...\n",
              "1078       1           1\n",
              "1079       1           1\n",
              "1080       1           1\n",
              "1081       1           1\n",
              "1082       1           1\n",
              "\n",
              "[1083 rows x 2 columns]"
            ],
            "text/html": [
              "\n",
              "  <div id=\"df-1027193a-a68e-4975-879d-0f978507403b\" class=\"colab-df-container\">\n",
              "    <div>\n",
              "<style scoped>\n",
              "    .dataframe tbody tr th:only-of-type {\n",
              "        vertical-align: middle;\n",
              "    }\n",
              "\n",
              "    .dataframe tbody tr th {\n",
              "        vertical-align: top;\n",
              "    }\n",
              "\n",
              "    .dataframe thead th {\n",
              "        text-align: right;\n",
              "    }\n",
              "</style>\n",
              "<table border=\"1\" class=\"dataframe\">\n",
              "  <thead>\n",
              "    <tr style=\"text-align: right;\">\n",
              "      <th></th>\n",
              "      <th>Actual</th>\n",
              "      <th>Prediction</th>\n",
              "    </tr>\n",
              "  </thead>\n",
              "  <tbody>\n",
              "    <tr>\n",
              "      <th>0</th>\n",
              "      <td>0</td>\n",
              "      <td>0</td>\n",
              "    </tr>\n",
              "    <tr>\n",
              "      <th>1</th>\n",
              "      <td>1</td>\n",
              "      <td>1</td>\n",
              "    </tr>\n",
              "    <tr>\n",
              "      <th>2</th>\n",
              "      <td>1</td>\n",
              "      <td>1</td>\n",
              "    </tr>\n",
              "    <tr>\n",
              "      <th>3</th>\n",
              "      <td>1</td>\n",
              "      <td>1</td>\n",
              "    </tr>\n",
              "    <tr>\n",
              "      <th>4</th>\n",
              "      <td>1</td>\n",
              "      <td>1</td>\n",
              "    </tr>\n",
              "    <tr>\n",
              "      <th>...</th>\n",
              "      <td>...</td>\n",
              "      <td>...</td>\n",
              "    </tr>\n",
              "    <tr>\n",
              "      <th>1078</th>\n",
              "      <td>1</td>\n",
              "      <td>1</td>\n",
              "    </tr>\n",
              "    <tr>\n",
              "      <th>1079</th>\n",
              "      <td>1</td>\n",
              "      <td>1</td>\n",
              "    </tr>\n",
              "    <tr>\n",
              "      <th>1080</th>\n",
              "      <td>1</td>\n",
              "      <td>1</td>\n",
              "    </tr>\n",
              "    <tr>\n",
              "      <th>1081</th>\n",
              "      <td>1</td>\n",
              "      <td>1</td>\n",
              "    </tr>\n",
              "    <tr>\n",
              "      <th>1082</th>\n",
              "      <td>1</td>\n",
              "      <td>1</td>\n",
              "    </tr>\n",
              "  </tbody>\n",
              "</table>\n",
              "<p>1083 rows × 2 columns</p>\n",
              "</div>\n",
              "    <div class=\"colab-df-buttons\">\n",
              "\n",
              "  <div class=\"colab-df-container\">\n",
              "    <button class=\"colab-df-convert\" onclick=\"convertToInteractive('df-1027193a-a68e-4975-879d-0f978507403b')\"\n",
              "            title=\"Convert this dataframe to an interactive table.\"\n",
              "            style=\"display:none;\">\n",
              "\n",
              "  <svg xmlns=\"http://www.w3.org/2000/svg\" height=\"24px\" viewBox=\"0 -960 960 960\">\n",
              "    <path d=\"M120-120v-720h720v720H120Zm60-500h600v-160H180v160Zm220 220h160v-160H400v160Zm0 220h160v-160H400v160ZM180-400h160v-160H180v160Zm440 0h160v-160H620v160ZM180-180h160v-160H180v160Zm440 0h160v-160H620v160Z\"/>\n",
              "  </svg>\n",
              "    </button>\n",
              "\n",
              "  <style>\n",
              "    .colab-df-container {\n",
              "      display:flex;\n",
              "      gap: 12px;\n",
              "    }\n",
              "\n",
              "    .colab-df-convert {\n",
              "      background-color: #E8F0FE;\n",
              "      border: none;\n",
              "      border-radius: 50%;\n",
              "      cursor: pointer;\n",
              "      display: none;\n",
              "      fill: #1967D2;\n",
              "      height: 32px;\n",
              "      padding: 0 0 0 0;\n",
              "      width: 32px;\n",
              "    }\n",
              "\n",
              "    .colab-df-convert:hover {\n",
              "      background-color: #E2EBFA;\n",
              "      box-shadow: 0px 1px 2px rgba(60, 64, 67, 0.3), 0px 1px 3px 1px rgba(60, 64, 67, 0.15);\n",
              "      fill: #174EA6;\n",
              "    }\n",
              "\n",
              "    .colab-df-buttons div {\n",
              "      margin-bottom: 4px;\n",
              "    }\n",
              "\n",
              "    [theme=dark] .colab-df-convert {\n",
              "      background-color: #3B4455;\n",
              "      fill: #D2E3FC;\n",
              "    }\n",
              "\n",
              "    [theme=dark] .colab-df-convert:hover {\n",
              "      background-color: #434B5C;\n",
              "      box-shadow: 0px 1px 3px 1px rgba(0, 0, 0, 0.15);\n",
              "      filter: drop-shadow(0px 1px 2px rgba(0, 0, 0, 0.3));\n",
              "      fill: #FFFFFF;\n",
              "    }\n",
              "  </style>\n",
              "\n",
              "    <script>\n",
              "      const buttonEl =\n",
              "        document.querySelector('#df-1027193a-a68e-4975-879d-0f978507403b button.colab-df-convert');\n",
              "      buttonEl.style.display =\n",
              "        google.colab.kernel.accessAllowed ? 'block' : 'none';\n",
              "\n",
              "      async function convertToInteractive(key) {\n",
              "        const element = document.querySelector('#df-1027193a-a68e-4975-879d-0f978507403b');\n",
              "        const dataTable =\n",
              "          await google.colab.kernel.invokeFunction('convertToInteractive',\n",
              "                                                    [key], {});\n",
              "        if (!dataTable) return;\n",
              "\n",
              "        const docLinkHtml = 'Like what you see? Visit the ' +\n",
              "          '<a target=\"_blank\" href=https://colab.research.google.com/notebooks/data_table.ipynb>data table notebook</a>'\n",
              "          + ' to learn more about interactive tables.';\n",
              "        element.innerHTML = '';\n",
              "        dataTable['output_type'] = 'display_data';\n",
              "        await google.colab.output.renderOutput(dataTable, element);\n",
              "        const docLink = document.createElement('div');\n",
              "        docLink.innerHTML = docLinkHtml;\n",
              "        element.appendChild(docLink);\n",
              "      }\n",
              "    </script>\n",
              "  </div>\n",
              "\n",
              "\n",
              "<div id=\"df-29817e85-787b-4a64-8ca6-b57fcdfc987e\">\n",
              "  <button class=\"colab-df-quickchart\" onclick=\"quickchart('df-29817e85-787b-4a64-8ca6-b57fcdfc987e')\"\n",
              "            title=\"Suggest charts\"\n",
              "            style=\"display:none;\">\n",
              "\n",
              "<svg xmlns=\"http://www.w3.org/2000/svg\" height=\"24px\"viewBox=\"0 0 24 24\"\n",
              "     width=\"24px\">\n",
              "    <g>\n",
              "        <path d=\"M19 3H5c-1.1 0-2 .9-2 2v14c0 1.1.9 2 2 2h14c1.1 0 2-.9 2-2V5c0-1.1-.9-2-2-2zM9 17H7v-7h2v7zm4 0h-2V7h2v10zm4 0h-2v-4h2v4z\"/>\n",
              "    </g>\n",
              "</svg>\n",
              "  </button>\n",
              "\n",
              "<style>\n",
              "  .colab-df-quickchart {\n",
              "      --bg-color: #E8F0FE;\n",
              "      --fill-color: #1967D2;\n",
              "      --hover-bg-color: #E2EBFA;\n",
              "      --hover-fill-color: #174EA6;\n",
              "      --disabled-fill-color: #AAA;\n",
              "      --disabled-bg-color: #DDD;\n",
              "  }\n",
              "\n",
              "  [theme=dark] .colab-df-quickchart {\n",
              "      --bg-color: #3B4455;\n",
              "      --fill-color: #D2E3FC;\n",
              "      --hover-bg-color: #434B5C;\n",
              "      --hover-fill-color: #FFFFFF;\n",
              "      --disabled-bg-color: #3B4455;\n",
              "      --disabled-fill-color: #666;\n",
              "  }\n",
              "\n",
              "  .colab-df-quickchart {\n",
              "    background-color: var(--bg-color);\n",
              "    border: none;\n",
              "    border-radius: 50%;\n",
              "    cursor: pointer;\n",
              "    display: none;\n",
              "    fill: var(--fill-color);\n",
              "    height: 32px;\n",
              "    padding: 0;\n",
              "    width: 32px;\n",
              "  }\n",
              "\n",
              "  .colab-df-quickchart:hover {\n",
              "    background-color: var(--hover-bg-color);\n",
              "    box-shadow: 0 1px 2px rgba(60, 64, 67, 0.3), 0 1px 3px 1px rgba(60, 64, 67, 0.15);\n",
              "    fill: var(--button-hover-fill-color);\n",
              "  }\n",
              "\n",
              "  .colab-df-quickchart-complete:disabled,\n",
              "  .colab-df-quickchart-complete:disabled:hover {\n",
              "    background-color: var(--disabled-bg-color);\n",
              "    fill: var(--disabled-fill-color);\n",
              "    box-shadow: none;\n",
              "  }\n",
              "\n",
              "  .colab-df-spinner {\n",
              "    border: 2px solid var(--fill-color);\n",
              "    border-color: transparent;\n",
              "    border-bottom-color: var(--fill-color);\n",
              "    animation:\n",
              "      spin 1s steps(1) infinite;\n",
              "  }\n",
              "\n",
              "  @keyframes spin {\n",
              "    0% {\n",
              "      border-color: transparent;\n",
              "      border-bottom-color: var(--fill-color);\n",
              "      border-left-color: var(--fill-color);\n",
              "    }\n",
              "    20% {\n",
              "      border-color: transparent;\n",
              "      border-left-color: var(--fill-color);\n",
              "      border-top-color: var(--fill-color);\n",
              "    }\n",
              "    30% {\n",
              "      border-color: transparent;\n",
              "      border-left-color: var(--fill-color);\n",
              "      border-top-color: var(--fill-color);\n",
              "      border-right-color: var(--fill-color);\n",
              "    }\n",
              "    40% {\n",
              "      border-color: transparent;\n",
              "      border-right-color: var(--fill-color);\n",
              "      border-top-color: var(--fill-color);\n",
              "    }\n",
              "    60% {\n",
              "      border-color: transparent;\n",
              "      border-right-color: var(--fill-color);\n",
              "    }\n",
              "    80% {\n",
              "      border-color: transparent;\n",
              "      border-right-color: var(--fill-color);\n",
              "      border-bottom-color: var(--fill-color);\n",
              "    }\n",
              "    90% {\n",
              "      border-color: transparent;\n",
              "      border-bottom-color: var(--fill-color);\n",
              "    }\n",
              "  }\n",
              "</style>\n",
              "\n",
              "  <script>\n",
              "    async function quickchart(key) {\n",
              "      const quickchartButtonEl =\n",
              "        document.querySelector('#' + key + ' button');\n",
              "      quickchartButtonEl.disabled = true;  // To prevent multiple clicks.\n",
              "      quickchartButtonEl.classList.add('colab-df-spinner');\n",
              "      try {\n",
              "        const charts = await google.colab.kernel.invokeFunction(\n",
              "            'suggestCharts', [key], {});\n",
              "      } catch (error) {\n",
              "        console.error('Error during call to suggestCharts:', error);\n",
              "      }\n",
              "      quickchartButtonEl.classList.remove('colab-df-spinner');\n",
              "      quickchartButtonEl.classList.add('colab-df-quickchart-complete');\n",
              "    }\n",
              "    (() => {\n",
              "      let quickchartButtonEl =\n",
              "        document.querySelector('#df-29817e85-787b-4a64-8ca6-b57fcdfc987e button');\n",
              "      quickchartButtonEl.style.display =\n",
              "        google.colab.kernel.accessAllowed ? 'block' : 'none';\n",
              "    })();\n",
              "  </script>\n",
              "</div>\n",
              "\n",
              "  <div id=\"id_b0bbc494-e991-404f-a0d9-d36f0ba08519\">\n",
              "    <style>\n",
              "      .colab-df-generate {\n",
              "        background-color: #E8F0FE;\n",
              "        border: none;\n",
              "        border-radius: 50%;\n",
              "        cursor: pointer;\n",
              "        display: none;\n",
              "        fill: #1967D2;\n",
              "        height: 32px;\n",
              "        padding: 0 0 0 0;\n",
              "        width: 32px;\n",
              "      }\n",
              "\n",
              "      .colab-df-generate:hover {\n",
              "        background-color: #E2EBFA;\n",
              "        box-shadow: 0px 1px 2px rgba(60, 64, 67, 0.3), 0px 1px 3px 1px rgba(60, 64, 67, 0.15);\n",
              "        fill: #174EA6;\n",
              "      }\n",
              "\n",
              "      [theme=dark] .colab-df-generate {\n",
              "        background-color: #3B4455;\n",
              "        fill: #D2E3FC;\n",
              "      }\n",
              "\n",
              "      [theme=dark] .colab-df-generate:hover {\n",
              "        background-color: #434B5C;\n",
              "        box-shadow: 0px 1px 3px 1px rgba(0, 0, 0, 0.15);\n",
              "        filter: drop-shadow(0px 1px 2px rgba(0, 0, 0, 0.3));\n",
              "        fill: #FFFFFF;\n",
              "      }\n",
              "    </style>\n",
              "    <button class=\"colab-df-generate\" onclick=\"generateWithVariable('df')\"\n",
              "            title=\"Generate code using this dataframe.\"\n",
              "            style=\"display:none;\">\n",
              "\n",
              "  <svg xmlns=\"http://www.w3.org/2000/svg\" height=\"24px\"viewBox=\"0 0 24 24\"\n",
              "       width=\"24px\">\n",
              "    <path d=\"M7,19H8.4L18.45,9,17,7.55,7,17.6ZM5,21V16.75L18.45,3.32a2,2,0,0,1,2.83,0l1.4,1.43a1.91,1.91,0,0,1,.58,1.4,1.91,1.91,0,0,1-.58,1.4L9.25,21ZM18.45,9,17,7.55Zm-12,3A5.31,5.31,0,0,0,4.9,8.1,5.31,5.31,0,0,0,1,6.5,5.31,5.31,0,0,0,4.9,4.9,5.31,5.31,0,0,0,6.5,1,5.31,5.31,0,0,0,8.1,4.9,5.31,5.31,0,0,0,12,6.5,5.46,5.46,0,0,0,6.5,12Z\"/>\n",
              "  </svg>\n",
              "    </button>\n",
              "    <script>\n",
              "      (() => {\n",
              "      const buttonEl =\n",
              "        document.querySelector('#id_b0bbc494-e991-404f-a0d9-d36f0ba08519 button.colab-df-generate');\n",
              "      buttonEl.style.display =\n",
              "        google.colab.kernel.accessAllowed ? 'block' : 'none';\n",
              "\n",
              "      buttonEl.onclick = () => {\n",
              "        google.colab.notebook.generateWithVariable('df');\n",
              "      }\n",
              "      })();\n",
              "    </script>\n",
              "  </div>\n",
              "\n",
              "    </div>\n",
              "  </div>\n"
            ],
            "application/vnd.google.colaboratory.intrinsic+json": {
              "type": "dataframe",
              "variable_name": "df",
              "summary": "{\n  \"name\": \"df\",\n  \"rows\": 1083,\n  \"fields\": [\n    {\n      \"column\": \"Actual\",\n      \"properties\": {\n        \"dtype\": \"number\",\n        \"std\": 0,\n        \"min\": 0,\n        \"max\": 2,\n        \"num_unique_values\": 3,\n        \"samples\": [\n          0,\n          1,\n          2\n        ],\n        \"semantic_type\": \"\",\n        \"description\": \"\"\n      }\n    },\n    {\n      \"column\": \"Prediction\",\n      \"properties\": {\n        \"dtype\": \"number\",\n        \"std\": 0,\n        \"min\": 0,\n        \"max\": 2,\n        \"num_unique_values\": 3,\n        \"samples\": [\n          0,\n          1,\n          2\n        ],\n        \"semantic_type\": \"\",\n        \"description\": \"\"\n      }\n    }\n  ]\n}"
            }
          },
          "metadata": {},
          "execution_count": 74
        }
      ]
    },
    {
      "cell_type": "code",
      "source": [
        "CM = confusion_matrix(Y_test,Y_predected)\n",
        "CM_percent = CM.astype('float') / CM.sum(axis=1)[:, np.newaxis]\n",
        "\n",
        "sns.heatmap(CM_percent,fmt='g',center = True,cbar=False,annot=True,cmap='Blues')\n",
        "CM"
      ],
      "metadata": {
        "colab": {
          "base_uri": "https://localhost:8080/",
          "height": 484
        },
        "id": "V883lZCBqEgj",
        "outputId": "e9e6b204-e92f-47ad-d74f-d8aaac5b8841"
      },
      "execution_count": 75,
      "outputs": [
        {
          "output_type": "execute_result",
          "data": {
            "text/plain": [
              "array([[308,   0,   0],\n",
              "       [  0, 529,   0],\n",
              "       [  0,   3, 243]])"
            ]
          },
          "metadata": {},
          "execution_count": 75
        },
        {
          "output_type": "display_data",
          "data": {
            "text/plain": [
              "<Figure size 640x480 with 1 Axes>"
            ],
            "image/png": "[encoded data removed]"
          },
          "metadata": {}
        }
      ]
    },
    {
      "cell_type": "code",
      "source": [
        "print(classification_report(Y_test, Y_predected))"
      ],
      "metadata": {
        "id": "jFtuqVUeOdYf",
        "outputId": "d0e13c80-8fdc-441b-ca60-0252be4b6bf4",
        "colab": {
          "base_uri": "https://localhost:8080/"
        }
      },
      "execution_count": 76,
      "outputs": [
        {
          "output_type": "stream",
          "name": "stdout",
          "text": [
            "              precision    recall  f1-score   support\n",
            "\n",
            "           0       1.00      1.00      1.00       308\n",
            "           1       0.99      1.00      1.00       529\n",
            "           2       1.00      0.99      0.99       246\n",
            "\n",
            "    accuracy                           1.00      1083\n",
            "   macro avg       1.00      1.00      1.00      1083\n",
            "weighted avg       1.00      1.00      1.00      1083\n",
            "\n"
          ]
        }
      ]
    }
  ]
}