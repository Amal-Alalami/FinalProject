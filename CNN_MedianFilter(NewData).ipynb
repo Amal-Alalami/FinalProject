{
  "nbformat": 4,
  "nbformat_minor": 0,
  "metadata": {
    "colab": {
      "provenance": [],
      "authorship_tag": "ABX9TyOR2cCQ6rogtaizMyPjPjJG",
      "include_colab_link": true
    },
    "kernelspec": {
      "name": "python3",
      "display_name": "Python 3"
    },
    "language_info": {
      "name": "python"
    }
  },
  "cells": [
    {
      "cell_type": "markdown",
      "metadata": {
        "id": "view-in-github",
        "colab_type": "text"
      },
      "source": [
        "<a href=\"https://colab.research.google.com/github/Amal-Alalami/FinalProject/blob/main/CNN_MedianFilter(NewData).ipynb\" target=\"_parent\"><img src=\"https://colab.research.google.com/assets/colab-badge.svg\" alt=\"Open In Colab\"/></a>"
      ]
    },
    {
      "cell_type": "code",
      "execution_count": 1,
      "metadata": {
        "id": "NFtM0zcbyU8U"
      },
      "outputs": [],
      "source": [
        "import cv2\n",
        "import os\n",
        "import pandas as pd\n",
        "import seaborn as sns\n",
        "import tensorflow as tf\n",
        "import numpy as np\n",
        "\n",
        "import matplotlib.pyplot as plt\n",
        "from imblearn.over_sampling import SMOTE\n",
        "from google.colab.patches import cv2_imshow\n",
        "from sklearn.model_selection import train_test_split\n",
        "from sklearn.metrics import confusion_matrix\n",
        "from sklearn.metrics import classification_report\n",
        "\n",
        "# to generate data\n",
        "from keras.preprocessing.image import ImageDataGenerator\n",
        "\n",
        "# to build model\n",
        "from keras.models import Sequential\n",
        "from keras.layers import Dense,Conv2D,MaxPool2D,Flatten,Dropout\n",
        "%matplotlib inline"
      ]
    },
    {
      "cell_type": "markdown",
      "source": [
        "# Upload Dataset"
      ],
      "metadata": {
        "id": "UTGIyVtefqsg"
      }
    },
    {
      "cell_type": "code",
      "source": [
        "!7z x ADNI.zip\n"
      ],
      "metadata": {
        "colab": {
          "base_uri": "https://localhost:8080/"
        },
        "id": "jBCO88_7ycdk",
        "outputId": "552dc26b-32a4-42b6-bfa4-b8a36a718ee6"
      },
      "execution_count": 2,
      "outputs": [
        {
          "output_type": "stream",
          "name": "stdout",
          "text": [
            "\n",
            "7-Zip [64] 16.02 : Copyright (c) 1999-2016 Igor Pavlov : 2016-05-21\n",
            "p7zip Version 16.02 (locale=en_US.UTF-8,Utf16=on,HugeFiles=on,64 bits,2 CPUs Intel(R) Xeon(R) CPU @ 2.20GHz (406F0),ASM,AES-NI)\n",
            "\n",
            "Scanning the drive for archives:\n",
            "  0M Scan\b\b\b\b\b\b\b\b\b         \b\b\b\b\b\b\b\b\b1 file, 106677136 bytes (102 MiB)\n",
            "\n",
            "Extracting archive: ADNI.zip\n",
            " 79% 4096 Open\b\b\b\b\b\b\b\b\b\b\b\b\b\b              \b\b\b\b\b\b\b\b\b\b\b\b\b\b--\n",
            "Path = ADNI.zip\n",
            "Type = zip\n",
            "Physical Size = 106677136\n",
            "\n",
            "  0%\b\b\b\b    \b\b\b\b 11% 605 - Axial/AD/AD027_S_1385a110.png\b\b\b\b\b\b\b\b\b\b\b\b\b\b\b\b\b\b\b\b\b\b\b\b\b\b\b\b\b\b\b\b\b\b\b\b\b\b\b\b                                        \b\b\b\b\b\b\b\b\b\b\b\b\b\b\b\b\b\b\b\b\b\b\b\b\b\b\b\b\b\b\b\b\b\b\b\b\b\b\b\b 19% 1004 - Axial/AD/AD136_S_0300a090.png\b\b\b\b\b\b\b\b\b\b\b\b\b\b\b\b\b\b\b\b\b\b\b\b\b\b\b\b\b\b\b\b\b\b\b\b\b\b\b\b\b                                         \b\b\b\b\b\b\b\b\b\b\b\b\b\b\b\b\b\b\b\b\b\b\b\b\b\b\b\b\b\b\b\b\b\b\b\b\b\b\b\b\b 30% 1592 - Axial/CI/CI018_S_0406a128.png\b\b\b\b\b\b\b\b\b\b\b\b\b\b\b\b\b\b\b\b\b\b\b\b\b\b\b\b\b\b\b\b\b\b\b\b\b\b\b\b\b                                         \b\b\b\b\b\b\b\b\b\b\b\b\b\b\b\b\b\b\b\b\b\b\b\b\b\b\b\b\b\b\b\b\b\b\b\b\b\b\b\b\b 39% 2021 - Axial/CI/CI023_S_0604b079.png\b\b\b\b\b\b\b\b\b\b\b\b\b\b\b\b\b\b\b\b\b\b\b\b\b\b\b\b\b\b\b\b\b\b\b\b\b\b\b\b\b                                         \b\b\b\b\b\b\b\b\b\b\b\b\b\b\b\b\b\b\b\b\b\b\b\b\b\b\b\b\b\b\b\b\b\b\b\b\b\b\b\b\b 45% 2367 - Axial/CI/CI023_S_1104b111.png\b\b\b\b\b\b\b\b\b\b\b\b\b\b\b\b\b\b\b\b\b\b\b\b\b\b\b\b\b\b\b\b\b\b\b\b\b\b\b\b\b                                         \b\b\b\b\b\b\b\b\b\b\b\b\b\b\b\b\b\b\b\b\b\b\b\b\b\b\b\b\b\b\b\b\b\b\b\b\b\b\b\b\b 50% 2629 - Axial/CI/CI031_S_0830a078.png\b\b\b\b\b\b\b\b\b\b\b\b\b\b\b\b\b\b\b\b\b\b\b\b\b\b\b\b\b\b\b\b\b\b\b\b\b\b\b\b\b                                         \b\b\b\b\b\b\b\b\b\b\b\b\b\b\b\b\b\b\b\b\b\b\b\b\b\b\b\b\b\b\b\b\b\b\b\b\b\b\b\b\b 55% 2879\b\b\b\b\b\b\b\b\b         \b\b\b\b\b\b\b\b\b 59% 3089 - Axial/CI/CI068_S_0476b127.png\b\b\b\b\b\b\b\b\b\b\b\b\b\b\b\b\b\b\b\b\b\b\b\b\b\b\b\b\b\b\b\b\b\b\b\b\b\b\b\b\b                                         \b\b\b\b\b\b\b\b\b\b\b\b\b\b\b\b\b\b\b\b\b\b\b\b\b\b\b\b\b\b\b\b\b\b\b\b\b\b\b\b\b 64% 3297 - Axial/CI/CI094_S_1293a092.png\b\b\b\b\b\b\b\b\b\b\b\b\b\b\b\b\b\b\b\b\b\b\b\b\b\b\b\b\b\b\b\b\b\b\b\b\b\b\b\b\b                                         \b\b\b\b\b\b\b\b\b\b\b\b\b\b\b\b\b\b\b\b\b\b\b\b\b\b\b\b\b\b\b\b\b\b\b\b\b\b\b\b\b 67% 3486 - Axial/CI/CI130_S_0449a093.png\b\b\b\b\b\b\b\b\b\b\b\b\b\b\b\b\b\b\b\b\b\b\b\b\b\b\b\b\b\b\b\b\b\b\b\b\b\b\b\b\b                                         \b\b\b\b\b\b\b\b\b\b\b\b\b\b\b\b\b\b\b\b\b\b\b\b\b\b\b\b\b\b\b\b\b\b\b\b\b\b\b\b\b 71% 3660 - Axial/CI/CI136_S_0579a082.png\b\b\b\b\b\b\b\b\b\b\b\b\b\b\b\b\b\b\b\b\b\b\b\b\b\b\b\b\b\b\b\b\b\b\b\b\b\b\b\b\b                                         \b\b\b\b\b\b\b\b\b\b\b\b\b\b\b\b\b\b\b\b\b\b\b\b\b\b\b\b\b\b\b\b\b\b\b\b\b\b\b\b\b 82% 4198 - Axial/CN/CN023_S_0058b124.png\b\b\b\b\b\b\b\b\b\b\b\b\b\b\b\b\b\b\b\b\b\b\b\b\b\b\b\b\b\b\b\b\b\b\b\b\b\b\b\b\b                                         \b\b\b\b\b\b\b\b\b\b\b\b\b\b\b\b\b\b\b\b\b\b\b\b\b\b\b\b\b\b\b\b\b\b\b\b\b\b\b\b\b 90% 4636 - Axial/CN/CN052_S_1251a121.png\b\b\b\b\b\b\b\b\b\b\b\b\b\b\b\b\b\b\b\b\b\b\b\b\b\b\b\b\b\b\b\b\b\b\b\b\b\b\b\b\b                                         \b\b\b\b\b\b\b\b\b\b\b\b\b\b\b\b\b\b\b\b\b\b\b\b\b\b\b\b\b\b\b\b\b\b\b\b\b\b\b\b\b 96% 4965 - Axial/CN/CN127_S_0260a099.png\b\b\b\b\b\b\b\b\b\b\b\b\b\b\b\b\b\b\b\b\b\b\b\b\b\b\b\b\b\b\b\b\b\b\b\b\b\b\b\b\b                                         \b\b\b\b\b\b\b\b\b\b\b\b\b\b\b\b\b\b\b\b\b\b\b\b\b\b\b\b\b\b\b\b\b\b\b\b\b\b\b\b\bEverything is Ok\n",
            "\n",
            "Files: 5154\n",
            "Size:       105727324\n",
            "Compressed: 106677136\n"
          ]
        }
      ]
    },
    {
      "cell_type": "markdown",
      "source": [
        "# **Pre-processed data and Visualize Sample Images**"
      ],
      "metadata": {
        "id": "15xS79d9Kwcq"
      }
    },
    {
      "cell_type": "code",
      "source": [
        "# Method to print sample images from each class\n",
        "\n",
        "def print_sample_images(train_path, class_labels):\n",
        "\n",
        "  plt.figure(figsize=(10, 10))\n",
        "  for i, class_name in enumerate(class_labels):\n",
        "\n",
        "    # Get a random image from the class directory\n",
        "    img_name = np.random.choice(os.listdir(os.path.join(train_path, class_name)))\n",
        "    img_path = os.path.join(train_path, class_name, img_name)\n",
        "\n",
        "    img = cv2.imread(img_path)\n",
        "    img = cv2.cvtColor(img, cv2.COLOR_BGR2RGB)\n",
        "\n",
        "    plt.subplot(4, 4, i+1)\n",
        "    plt.imshow(img)\n",
        "    plt.title(class_name)\n",
        "    plt.axis('off')\n",
        "\n",
        "  plt.show()"
      ],
      "metadata": {
        "id": "MNs1CHmuLvfE"
      },
      "execution_count": 3,
      "outputs": []
    },
    {
      "cell_type": "markdown",
      "source": [
        "**Sample of train images before pre-processing data from each class**"
      ],
      "metadata": {
        "id": "-lsv3c149KfM"
      }
    },
    {
      "cell_type": "code",
      "source": [
        "data_dir = '/content/Axial'\n",
        "class_names = os.listdir('/content/Axial')\n",
        "print_sample_images(data_dir, class_names)"
      ],
      "metadata": {
        "colab": {
          "base_uri": "https://localhost:8080/",
          "height": 226
        },
        "id": "hRLa4rFmyi2A",
        "outputId": "4e174953-766e-4dc1-af66-f83519422178"
      },
      "execution_count": 4,
      "outputs": [
        {
          "output_type": "display_data",
          "data": {
            "text/plain": [
              "<Figure size 1000x1000 with 3 Axes>"
            ],
            "image/png": "[encoded data removed]"
          },
          "metadata": {}
        }
      ]
    },
    {
      "cell_type": "markdown",
      "source": [
        "**Pre-processing data**"
      ],
      "metadata": {
        "id": "QApcnr4b9ln_"
      }
    },
    {
      "cell_type": "code",
      "source": [
        "def process_images_in_folder(folder_path):\n",
        "\n",
        "  kernel_size = 7\n",
        "\n",
        "  for filename in os.listdir(folder_path):\n",
        "    image_path = os.path.join(folder_path, filename)\n",
        "    image = cv2.imread(image_path)\n",
        "\n",
        "    #pre-processing data using median filter (Noise Removal Methods)\n",
        "\n",
        "    gray_image = cv2.cvtColor(image, cv2.COLOR_BGR2GRAY)\n",
        "    preprocessed_image = cv2.medianBlur(gray_image, kernel_size)\n",
        "\n",
        "    # Save the pre-processed image with the same filename\n",
        "    cv2.imwrite(image_path, preprocessed_image)"
      ],
      "metadata": {
        "id": "LL7OQxObvdFY"
      },
      "execution_count": 5,
      "outputs": []
    },
    {
      "cell_type": "code",
      "source": [
        "data_path = '/content/Axial'\n",
        "class_labels = os.listdir('/content/Axial')\n",
        "\n",
        "\n",
        "def data_to_be_processed(class_path ,class_labels):\n",
        "  for class_label in class_labels:\n",
        "    class_folder_path = os.path.join(class_path, class_label)\n",
        "    process_images_in_folder(class_folder_path)\n",
        "\n",
        "\n",
        "\n",
        "# train data\n",
        "data_to_be_processed(data_path, class_labels)\n",
        "\n",
        "# test data\n",
        "#data_to_be_processed(test_data_path, class_labels)"
      ],
      "metadata": {
        "id": "8jRsqRDTuGFu"
      },
      "execution_count": 6,
      "outputs": []
    },
    {
      "cell_type": "markdown",
      "source": [
        "**Sample of train images after pre-processing data from each class**"
      ],
      "metadata": {
        "id": "dTE_evRg9_g6"
      }
    },
    {
      "cell_type": "code",
      "source": [
        "data_dir = '/content/Axial'\n",
        "class_names = os.listdir('/content/Axial')\n",
        "print_sample_images(data_dir, class_names)"
      ],
      "metadata": {
        "colab": {
          "base_uri": "https://localhost:8080/",
          "height": 226
        },
        "id": "EwEpet6pzGxl",
        "outputId": "7f978a5a-c67d-49c2-ffdc-5fc1d13eb811"
      },
      "execution_count": 7,
      "outputs": [
        {
          "output_type": "display_data",
          "data": {
            "text/plain": [
              "<Figure size 1000x1000 with 3 Axes>"
            ],
            "image/png": "[encoded data removed]"
          },
          "metadata": {}
        }
      ]
    },
    {
      "cell_type": "markdown",
      "source": [
        "# Images in train data"
      ],
      "metadata": {
        "id": "T93m2V-sVDhV"
      }
    },
    {
      "cell_type": "code",
      "source": [
        "data_folder = '/content/Axial'\n",
        "class_names_train_folder = os.listdir(data_folder)\n",
        "class_count = []\n",
        "\n",
        "for class_name in class_names_train_folder:\n",
        "  num_images = len(os.listdir(os.path.join(data_folder, class_name)))\n",
        "  class_count.append(num_images)\n",
        "  print(f\"Class {class_name}: {num_images} images\")\n"
      ],
      "metadata": {
        "id": "iniRBG6wVCwo",
        "outputId": "26a1e057-fe7f-408c-8a68-7dd8e67b5a62",
        "colab": {
          "base_uri": "https://localhost:8080/"
        }
      },
      "execution_count": 8,
      "outputs": [
        {
          "output_type": "stream",
          "name": "stdout",
          "text": [
            "Class CN: 1440 images\n",
            "Class CI: 2590 images\n",
            "Class AD: 1124 images\n"
          ]
        }
      ]
    },
    {
      "cell_type": "code",
      "source": [
        "\n",
        "plt.figure(figsize=(10, 6))\n",
        "plt.bar(class_names_train_folder, class_count)\n",
        "\n",
        "plt.title('The Number Of Images In Train folder For Each Class', fontsize=20)\n",
        "plt.xlabel(\"Class\", fontsize = 20)\n",
        "plt.ylabel(\"Number of Images\", fontsize=20)\n",
        "plt.xticks(rotation=45)\n",
        "\n",
        "plt.show()\n"
      ],
      "metadata": {
        "colab": {
          "base_uri": "https://localhost:8080/",
          "height": 596
        },
        "id": "BY581UoIQ8xG",
        "outputId": "9cd6f7e4-99c2-4360-f36e-2e345bcc4a1e"
      },
      "execution_count": 9,
      "outputs": [
        {
          "output_type": "display_data",
          "data": {
            "text/plain": [
              "<Figure size 1000x600 with 1 Axes>"
            ],
            "image/png": "[encoded data removed]"
          },
          "metadata": {}
        }
      ]
    },
    {
      "cell_type": "markdown",
      "source": [
        "# **Train Test split and Build Model**"
      ],
      "metadata": {
        "id": "2Jb3kOW7vsuK"
      }
    },
    {
      "cell_type": "code",
      "source": [
        "#  Loads all images and labels from a directory and converts them to a NumPy array.\n",
        "\n",
        "def load_train_data(data_dir):\n",
        "\n",
        "  image_width, image_height = 128, 128\n",
        "  class_names = os.listdir(data_dir)\n",
        "  class_name_to_label = {class_name: i for i, class_name in enumerate(class_names)}\n",
        "  images = []\n",
        "  labels = []\n",
        "\n",
        "  for class_name in class_names:\n",
        "    class_path = os.path.join(data_dir, class_name)\n",
        "    for filename in os.listdir(class_path):\n",
        "\n",
        "      image_path = os.path.join(class_path, filename)\n",
        "      image = cv2.imread(image_path)\n",
        "      image = cv2.cvtColor(image, cv2.COLOR_RGB2GRAY)\n",
        "      image = cv2.resize(image, (image_width, image_height))\n",
        "      image = image / 255.0 #normalize\n",
        "\n",
        "      label = class_name_to_label[class_name]\n",
        "      images.append(image)\n",
        "      labels.append(label)\n",
        "\n",
        "  # Convert the list of images to a NumPy array\n",
        "  X_train = np.asarray(images)\n",
        "  Y_train = np.asarray(labels)\n",
        "\n",
        "  return X_train, Y_train"
      ],
      "metadata": {
        "id": "1Iocg5AKsIE-"
      },
      "execution_count": 10,
      "outputs": []
    },
    {
      "cell_type": "code",
      "source": [
        "X_train , Y_train = load_train_data('/content/Axial')"
      ],
      "metadata": {
        "id": "YvrnA0B9rb8O"
      },
      "execution_count": 11,
      "outputs": []
    },
    {
      "cell_type": "code",
      "source": [
        "X_train, X_test, Y_train, Y_test = train_test_split(X_train, Y_train, test_size=0.3, random_state=42)"
      ],
      "metadata": {
        "id": "Rcgdvso7VbAz"
      },
      "execution_count": 12,
      "outputs": []
    },
    {
      "cell_type": "code",
      "source": [
        "print(f\"X_train shape: {X_train.shape}\")\n",
        "print(f\"Y_train shape: {Y_train.shape}\")"
      ],
      "metadata": {
        "id": "WPBeHU67VrKZ",
        "outputId": "e9a68287-0793-4f8c-a511-500f9525121b",
        "colab": {
          "base_uri": "https://localhost:8080/"
        }
      },
      "execution_count": 13,
      "outputs": [
        {
          "output_type": "stream",
          "name": "stdout",
          "text": [
            "X_train shape: (3607, 128, 128)\n",
            "Y_train shape: (3607,)\n"
          ]
        }
      ]
    },
    {
      "cell_type": "code",
      "source": [
        "X_val, X_test, Y_val , Y_test = train_test_split(X_test, Y_test, test_size=0.7, random_state=42)\n"
      ],
      "metadata": {
        "id": "yOosJjefVHDe"
      },
      "execution_count": 14,
      "outputs": []
    },
    {
      "cell_type": "code",
      "source": [
        "print(f\"X_test shape: {X_test.shape}\")\n",
        "print(f\"Y_test shape: {Y_test.shape}\")"
      ],
      "metadata": {
        "id": "JVsksBFWVwXs",
        "outputId": "cabdeb65-bb73-4661-a390-3456bbea0e95",
        "colab": {
          "base_uri": "https://localhost:8080/"
        }
      },
      "execution_count": 15,
      "outputs": [
        {
          "output_type": "stream",
          "name": "stdout",
          "text": [
            "X_test shape: (1083, 128, 128)\n",
            "Y_test shape: (1083,)\n"
          ]
        }
      ]
    },
    {
      "cell_type": "code",
      "source": [
        "print(f\"X_val shape: {X_val.shape}\")\n",
        "print(f\"Y_val shape: {Y_val.shape}\")"
      ],
      "metadata": {
        "id": "MIeDJ4i6V3Tv",
        "outputId": "be25bcaa-5a31-42ce-9849-05c97cd2048b",
        "colab": {
          "base_uri": "https://localhost:8080/"
        }
      },
      "execution_count": 16,
      "outputs": [
        {
          "output_type": "stream",
          "name": "stdout",
          "text": [
            "X_val shape: (464, 128, 128)\n",
            "Y_val shape: (464,)\n"
          ]
        }
      ]
    },
    {
      "cell_type": "code",
      "source": [
        "Y_train"
      ],
      "metadata": {
        "colab": {
          "base_uri": "https://localhost:8080/"
        },
        "id": "0TXGmPsWvF-r",
        "outputId": "65334382-0d58-4d57-ec45-57af04aa8fe7"
      },
      "execution_count": 17,
      "outputs": [
        {
          "output_type": "execute_result",
          "data": {
            "text/plain": [
              "array([2, 1, 0, ..., 1, 1, 0])"
            ]
          },
          "metadata": {},
          "execution_count": 17
        }
      ]
    },
    {
      "cell_type": "code",
      "source": [
        "Y_train = tf.keras.utils.to_categorical(Y_train)"
      ],
      "metadata": {
        "id": "IrL-98W9vRTM"
      },
      "execution_count": 18,
      "outputs": []
    },
    {
      "cell_type": "code",
      "source": [
        "Y_train"
      ],
      "metadata": {
        "colab": {
          "base_uri": "https://localhost:8080/"
        },
        "id": "rqmsAPH1vSed",
        "outputId": "00dee71c-8c63-4ce5-e5d3-b5c0a38f6db9"
      },
      "execution_count": 19,
      "outputs": [
        {
          "output_type": "execute_result",
          "data": {
            "text/plain": [
              "array([[0., 0., 1.],\n",
              "       [0., 1., 0.],\n",
              "       [1., 0., 0.],\n",
              "       ...,\n",
              "       [0., 1., 0.],\n",
              "       [0., 1., 0.],\n",
              "       [1., 0., 0.]], dtype=float32)"
            ]
          },
          "metadata": {},
          "execution_count": 19
        }
      ]
    },
    {
      "cell_type": "code",
      "source": [
        "print(Y_train.shape)"
      ],
      "metadata": {
        "colab": {
          "base_uri": "https://localhost:8080/"
        },
        "id": "N1mHKXfsZ6jH",
        "outputId": "6fbd4837-b919-4d74-b143-39735836a7fe"
      },
      "execution_count": 20,
      "outputs": [
        {
          "output_type": "stream",
          "name": "stdout",
          "text": [
            "(3607, 3)\n"
          ]
        }
      ]
    },
    {
      "cell_type": "code",
      "source": [
        "Y_test"
      ],
      "metadata": {
        "colab": {
          "base_uri": "https://localhost:8080/"
        },
        "id": "dYx63ohEvlVv",
        "outputId": "dd29119c-c453-46bd-9f8c-02a099e64d55"
      },
      "execution_count": 21,
      "outputs": [
        {
          "output_type": "execute_result",
          "data": {
            "text/plain": [
              "array([0, 1, 1, ..., 1, 1, 1])"
            ]
          },
          "metadata": {},
          "execution_count": 21
        }
      ]
    },
    {
      "cell_type": "code",
      "source": [
        "Y_test_cat = tf.keras.utils.to_categorical(Y_test)"
      ],
      "metadata": {
        "id": "FVzCHTW1vnXL"
      },
      "execution_count": 22,
      "outputs": []
    },
    {
      "cell_type": "code",
      "source": [
        "print(Y_test_cat.shape)"
      ],
      "metadata": {
        "colab": {
          "base_uri": "https://localhost:8080/"
        },
        "id": "x8dTjhjLGzRb",
        "outputId": "75498587-ee2f-4c4b-ca83-3ea349ec946c"
      },
      "execution_count": 23,
      "outputs": [
        {
          "output_type": "stream",
          "name": "stdout",
          "text": [
            "(1083, 3)\n"
          ]
        }
      ]
    },
    {
      "cell_type": "code",
      "source": [
        "Y_test_cat"
      ],
      "metadata": {
        "colab": {
          "base_uri": "https://localhost:8080/"
        },
        "id": "vINQgFzqvr0U",
        "outputId": "53fd0384-8a02-4f15-af07-fa3fbe3dc3e7"
      },
      "execution_count": 24,
      "outputs": [
        {
          "output_type": "execute_result",
          "data": {
            "text/plain": [
              "array([[1., 0., 0.],\n",
              "       [0., 1., 0.],\n",
              "       [0., 1., 0.],\n",
              "       ...,\n",
              "       [0., 1., 0.],\n",
              "       [0., 1., 0.],\n",
              "       [0., 1., 0.]], dtype=float32)"
            ]
          },
          "metadata": {},
          "execution_count": 24
        }
      ]
    },
    {
      "cell_type": "code",
      "source": [
        "Y_val"
      ],
      "metadata": {
        "id": "PKTe_1mrXTWu",
        "outputId": "09ccc82a-93f7-4f84-ddb7-05509d93f240",
        "colab": {
          "base_uri": "https://localhost:8080/"
        }
      },
      "execution_count": 25,
      "outputs": [
        {
          "output_type": "execute_result",
          "data": {
            "text/plain": [
              "array([0, 2, 1, 0, 1, 0, 1, 2, 0, 2, 1, 2, 1, 0, 1, 1, 0, 1, 1, 1, 2, 1,\n",
              "       0, 1, 1, 0, 0, 2, 0, 2, 0, 1, 2, 1, 1, 1, 2, 0, 0, 0, 1, 1, 2, 2,\n",
              "       1, 2, 2, 1, 0, 1, 1, 0, 2, 1, 1, 1, 0, 2, 1, 1, 0, 1, 1, 2, 1, 1,\n",
              "       0, 1, 1, 2, 1, 2, 0, 1, 0, 0, 1, 1, 0, 1, 0, 0, 0, 1, 0, 0, 1, 1,\n",
              "       2, 1, 1, 1, 1, 1, 1, 1, 1, 1, 0, 1, 1, 1, 2, 0, 1, 1, 2, 1, 2, 0,\n",
              "       0, 2, 0, 0, 1, 2, 0, 2, 0, 1, 0, 1, 0, 1, 0, 0, 1, 2, 1, 2, 2, 0,\n",
              "       1, 0, 0, 1, 1, 0, 1, 0, 1, 0, 2, 1, 1, 0, 1, 0, 2, 0, 0, 1, 2, 0,\n",
              "       1, 1, 2, 1, 0, 1, 1, 1, 1, 2, 1, 1, 1, 1, 0, 1, 1, 0, 2, 0, 2, 1,\n",
              "       1, 1, 2, 0, 1, 0, 0, 2, 1, 1, 0, 0, 1, 0, 1, 1, 1, 1, 1, 0, 1, 1,\n",
              "       2, 1, 1, 1, 1, 2, 1, 1, 2, 2, 1, 0, 1, 0, 2, 0, 1, 1, 0, 1, 1, 1,\n",
              "       0, 1, 0, 2, 1, 1, 2, 1, 0, 1, 0, 0, 2, 0, 1, 1, 1, 0, 1, 2, 2, 0,\n",
              "       2, 0, 2, 0, 1, 2, 1, 0, 2, 2, 0, 1, 0, 0, 1, 1, 0, 0, 1, 1, 2, 2,\n",
              "       1, 0, 2, 0, 0, 2, 2, 2, 2, 0, 1, 0, 2, 1, 2, 0, 0, 1, 2, 1, 1, 0,\n",
              "       0, 1, 0, 1, 1, 1, 1, 2, 1, 0, 1, 1, 2, 0, 1, 2, 2, 1, 2, 0, 0, 1,\n",
              "       1, 0, 1, 1, 1, 1, 0, 0, 2, 0, 1, 0, 2, 0, 1, 1, 1, 0, 0, 1, 1, 0,\n",
              "       1, 1, 1, 1, 1, 0, 1, 2, 1, 0, 0, 2, 1, 1, 0, 2, 2, 1, 2, 1, 1, 2,\n",
              "       2, 0, 2, 1, 0, 2, 2, 1, 1, 2, 1, 2, 0, 1, 2, 2, 2, 0, 2, 1, 1, 1,\n",
              "       0, 1, 2, 2, 2, 0, 0, 0, 0, 0, 1, 2, 1, 0, 2, 1, 2, 1, 2, 2, 2, 0,\n",
              "       1, 1, 1, 1, 0, 1, 1, 2, 2, 1, 1, 1, 0, 1, 1, 1, 1, 0, 1, 0, 1, 0,\n",
              "       1, 2, 2, 0, 0, 1, 0, 1, 1, 1, 0, 0, 1, 1, 1, 1, 1, 2, 0, 2, 1, 2,\n",
              "       0, 1, 0, 1, 2, 0, 2, 1, 1, 2, 2, 0, 1, 0, 0, 0, 0, 2, 0, 1, 1, 2,\n",
              "       0, 1])"
            ]
          },
          "metadata": {},
          "execution_count": 25
        }
      ]
    },
    {
      "cell_type": "code",
      "source": [
        "Y_val_cat = tf.keras.utils.to_categorical(Y_val)"
      ],
      "metadata": {
        "id": "ehkuDVs_XVc6"
      },
      "execution_count": 26,
      "outputs": []
    },
    {
      "cell_type": "code",
      "source": [
        "print(Y_val_cat.shape)"
      ],
      "metadata": {
        "id": "S1CVs9uEXX_j",
        "outputId": "85bc7834-1bfb-484d-befd-a7c96ae9aa9e",
        "colab": {
          "base_uri": "https://localhost:8080/"
        }
      },
      "execution_count": 27,
      "outputs": [
        {
          "output_type": "stream",
          "name": "stdout",
          "text": [
            "(464, 3)\n"
          ]
        }
      ]
    },
    {
      "cell_type": "code",
      "source": [
        "Y_val_cat"
      ],
      "metadata": {
        "id": "q9nEVl_mXaUU",
        "outputId": "5e3b34d0-0f2e-45bc-9ee8-d929c7572e6d",
        "colab": {
          "base_uri": "https://localhost:8080/"
        }
      },
      "execution_count": 28,
      "outputs": [
        {
          "output_type": "execute_result",
          "data": {
            "text/plain": [
              "array([[1., 0., 0.],\n",
              "       [0., 0., 1.],\n",
              "       [0., 1., 0.],\n",
              "       ...,\n",
              "       [0., 0., 1.],\n",
              "       [1., 0., 0.],\n",
              "       [0., 1., 0.]], dtype=float32)"
            ]
          },
          "metadata": {},
          "execution_count": 28
        }
      ]
    },
    {
      "cell_type": "code",
      "source": [
        "# CNN model\n",
        "model1 = Sequential()\n",
        "inputSize = (128,128,1)\n",
        "\n",
        "#ilters=32, kernel_size=(4,4), input_shape=(28,28,1), activation='relu')\n",
        "model1.add(Conv2D(filters = 32, kernel_size=(3,3), input_shape=inputSize, activation='relu'))\n",
        "model1.add(MaxPool2D(pool_size=(2,2)))\n",
        "\n",
        "model1.add(Conv2D(filters = 32, kernel_size=(3,3), input_shape=inputSize, activation='relu'))\n",
        "model1.add(MaxPool2D(pool_size=(2,2)))\n",
        "\n",
        "model1.add(Conv2D(filters = 32, kernel_size=(3,3), input_shape=inputSize, activation='relu'))\n",
        "model1.add(MaxPool2D(pool_size=(2,2)))\n",
        "\n",
        "model1.add(Flatten())\n",
        "\n",
        "model1.add(Dense(1024, activation='relu'))\n",
        "model1.add(Dropout(0.2))\n",
        "\n",
        "model1.add(Dense(3, activation = 'softmax'))\n",
        "model1.compile(loss = 'categorical_crossentropy',\n",
        "              optimizer = 'adam',\n",
        "              metrics = ['accuracy'])"
      ],
      "metadata": {
        "id": "qyfIQ8gr7QZV"
      },
      "execution_count": 29,
      "outputs": []
    },
    {
      "cell_type": "code",
      "source": [
        "model1.summary()"
      ],
      "metadata": {
        "colab": {
          "base_uri": "https://localhost:8080/"
        },
        "id": "p-KxKdTWBtpn",
        "outputId": "cf7312ac-123c-4e2e-9e6c-b2a3a378904f"
      },
      "execution_count": 30,
      "outputs": [
        {
          "output_type": "stream",
          "name": "stdout",
          "text": [
            "Model: \"sequential\"\n",
            "_________________________________________________________________\n",
            " Layer (type)                Output Shape              Param #   \n",
            "=================================================================\n",
            " conv2d (Conv2D)             (None, 126, 126, 32)      320       \n",
            "                                                                 \n",
            " max_pooling2d (MaxPooling2  (None, 63, 63, 32)        0         \n",
            " D)                                                              \n",
            "                                                                 \n",
            " conv2d_1 (Conv2D)           (None, 61, 61, 32)        9248      \n",
            "                                                                 \n",
            " max_pooling2d_1 (MaxPoolin  (None, 30, 30, 32)        0         \n",
            " g2D)                                                            \n",
            "                                                                 \n",
            " conv2d_2 (Conv2D)           (None, 28, 28, 32)        9248      \n",
            "                                                                 \n",
            " max_pooling2d_2 (MaxPoolin  (None, 14, 14, 32)        0         \n",
            " g2D)                                                            \n",
            "                                                                 \n",
            " flatten (Flatten)           (None, 6272)              0         \n",
            "                                                                 \n",
            " dense (Dense)               (None, 1024)              6423552   \n",
            "                                                                 \n",
            " dropout (Dropout)           (None, 1024)              0         \n",
            "                                                                 \n",
            " dense_1 (Dense)             (None, 3)                 3075      \n",
            "                                                                 \n",
            "=================================================================\n",
            "Total params: 6445443 (24.59 MB)\n",
            "Trainable params: 6445443 (24.59 MB)\n",
            "Non-trainable params: 0 (0.00 Byte)\n",
            "_________________________________________________________________\n"
          ]
        }
      ]
    },
    {
      "cell_type": "code",
      "source": [
        "results = model1.fit(X_train, Y_train, epochs=35, validation_data=(X_val, Y_val_cat))"
      ],
      "metadata": {
        "colab": {
          "base_uri": "https://localhost:8080/"
        },
        "id": "dIYSHz2HEwZ3",
        "outputId": "ccc148c1-1ab4-4263-a1e9-851891cc3f78"
      },
      "execution_count": 31,
      "outputs": [
        {
          "output_type": "stream",
          "name": "stdout",
          "text": [
            "Epoch 1/35\n",
            "113/113 [==============================] - 77s 657ms/step - loss: 0.9455 - accuracy: 0.5478 - val_loss: 0.8034 - val_accuracy: 0.6336\n",
            "Epoch 2/35\n",
            "113/113 [==============================] - 79s 698ms/step - loss: 0.5094 - accuracy: 0.7893 - val_loss: 0.3984 - val_accuracy: 0.8405\n",
            "Epoch 3/35\n",
            "113/113 [==============================] - 77s 683ms/step - loss: 0.2042 - accuracy: 0.9274 - val_loss: 0.2393 - val_accuracy: 0.9138\n",
            "Epoch 4/35\n",
            "113/113 [==============================] - 76s 670ms/step - loss: 0.0888 - accuracy: 0.9723 - val_loss: 0.1392 - val_accuracy: 0.9677\n",
            "Epoch 5/35\n",
            "113/113 [==============================] - 75s 661ms/step - loss: 0.0362 - accuracy: 0.9897 - val_loss: 0.0862 - val_accuracy: 0.9741\n",
            "Epoch 6/35\n",
            "113/113 [==============================] - 75s 661ms/step - loss: 0.0289 - accuracy: 0.9909 - val_loss: 0.0847 - val_accuracy: 0.9828\n",
            "Epoch 7/35\n",
            "113/113 [==============================] - 73s 649ms/step - loss: 0.0326 - accuracy: 0.9881 - val_loss: 0.0733 - val_accuracy: 0.9849\n",
            "Epoch 8/35\n",
            "113/113 [==============================] - 79s 698ms/step - loss: 0.0194 - accuracy: 0.9953 - val_loss: 0.0573 - val_accuracy: 0.9871\n",
            "Epoch 9/35\n",
            "113/113 [==============================] - 73s 647ms/step - loss: 0.0234 - accuracy: 0.9920 - val_loss: 0.0832 - val_accuracy: 0.9871\n",
            "Epoch 10/35\n",
            "113/113 [==============================] - 76s 668ms/step - loss: 0.0025 - accuracy: 0.9997 - val_loss: 0.0566 - val_accuracy: 0.9892\n",
            "Epoch 11/35\n",
            "113/113 [==============================] - 75s 664ms/step - loss: 0.0013 - accuracy: 1.0000 - val_loss: 0.0735 - val_accuracy: 0.9892\n",
            "Epoch 12/35\n",
            "113/113 [==============================] - 76s 669ms/step - loss: 4.3673e-04 - accuracy: 1.0000 - val_loss: 0.0716 - val_accuracy: 0.9914\n",
            "Epoch 13/35\n",
            "113/113 [==============================] - 74s 657ms/step - loss: 1.4384e-04 - accuracy: 1.0000 - val_loss: 0.0673 - val_accuracy: 0.9892\n",
            "Epoch 14/35\n",
            "113/113 [==============================] - 74s 654ms/step - loss: 9.0647e-05 - accuracy: 1.0000 - val_loss: 0.0645 - val_accuracy: 0.9914\n",
            "Epoch 15/35\n",
            "113/113 [==============================] - 73s 648ms/step - loss: 7.1821e-05 - accuracy: 1.0000 - val_loss: 0.0652 - val_accuracy: 0.9914\n",
            "Epoch 16/35\n",
            "113/113 [==============================] - 83s 735ms/step - loss: 8.3216e-05 - accuracy: 1.0000 - val_loss: 0.0697 - val_accuracy: 0.9935\n",
            "Epoch 17/35\n",
            "113/113 [==============================] - 81s 719ms/step - loss: 1.1333e-04 - accuracy: 1.0000 - val_loss: 0.0611 - val_accuracy: 0.9892\n",
            "Epoch 18/35\n",
            "113/113 [==============================] - 83s 731ms/step - loss: 4.5074e-05 - accuracy: 1.0000 - val_loss: 0.0644 - val_accuracy: 0.9892\n",
            "Epoch 19/35\n",
            "113/113 [==============================] - 82s 728ms/step - loss: 0.0346 - accuracy: 0.9906 - val_loss: 0.2311 - val_accuracy: 0.9095\n",
            "Epoch 20/35\n",
            "113/113 [==============================] - 79s 697ms/step - loss: 0.0684 - accuracy: 0.9748 - val_loss: 0.0575 - val_accuracy: 0.9806\n",
            "Epoch 21/35\n",
            "113/113 [==============================] - 81s 722ms/step - loss: 0.0141 - accuracy: 0.9953 - val_loss: 0.0461 - val_accuracy: 0.9849\n",
            "Epoch 22/35\n",
            "113/113 [==============================] - 80s 704ms/step - loss: 0.0013 - accuracy: 1.0000 - val_loss: 0.0404 - val_accuracy: 0.9935\n",
            "Epoch 23/35\n",
            "113/113 [==============================] - 81s 714ms/step - loss: 3.6204e-04 - accuracy: 1.0000 - val_loss: 0.0358 - val_accuracy: 0.9957\n",
            "Epoch 24/35\n",
            "113/113 [==============================] - 93s 823ms/step - loss: 3.6176e-04 - accuracy: 1.0000 - val_loss: 0.0383 - val_accuracy: 0.9957\n",
            "Epoch 25/35\n",
            "113/113 [==============================] - 86s 759ms/step - loss: 6.4548e-04 - accuracy: 1.0000 - val_loss: 0.0385 - val_accuracy: 0.9957\n",
            "Epoch 26/35\n",
            "113/113 [==============================] - 87s 771ms/step - loss: 2.0076e-04 - accuracy: 1.0000 - val_loss: 0.0440 - val_accuracy: 0.9935\n",
            "Epoch 27/35\n",
            "113/113 [==============================] - 87s 770ms/step - loss: 4.4958e-04 - accuracy: 1.0000 - val_loss: 0.0419 - val_accuracy: 0.9957\n",
            "Epoch 28/35\n",
            "113/113 [==============================] - 89s 793ms/step - loss: 6.7198e-05 - accuracy: 1.0000 - val_loss: 0.0464 - val_accuracy: 0.9957\n",
            "Epoch 29/35\n",
            "113/113 [==============================] - 84s 747ms/step - loss: 3.6192e-05 - accuracy: 1.0000 - val_loss: 0.0487 - val_accuracy: 0.9957\n",
            "Epoch 30/35\n",
            "113/113 [==============================] - 84s 741ms/step - loss: 6.0750e-05 - accuracy: 1.0000 - val_loss: 0.0464 - val_accuracy: 0.9957\n",
            "Epoch 31/35\n",
            "113/113 [==============================] - 90s 799ms/step - loss: 2.3354e-05 - accuracy: 1.0000 - val_loss: 0.0456 - val_accuracy: 0.9957\n",
            "Epoch 32/35\n",
            "113/113 [==============================] - 85s 758ms/step - loss: 2.2912e-05 - accuracy: 1.0000 - val_loss: 0.0454 - val_accuracy: 0.9957\n",
            "Epoch 33/35\n",
            "113/113 [==============================] - 85s 757ms/step - loss: 2.4576e-05 - accuracy: 1.0000 - val_loss: 0.0482 - val_accuracy: 0.9957\n",
            "Epoch 34/35\n",
            "113/113 [==============================] - 88s 778ms/step - loss: 1.4190e-05 - accuracy: 1.0000 - val_loss: 0.0481 - val_accuracy: 0.9957\n",
            "Epoch 35/35\n",
            "113/113 [==============================] - 78s 694ms/step - loss: 1.1389e-05 - accuracy: 1.0000 - val_loss: 0.0488 - val_accuracy: 0.9957\n"
          ]
        }
      ]
    },
    {
      "cell_type": "code",
      "source": [
        "print(model1.output_shape)"
      ],
      "metadata": {
        "id": "PAPdI8YsHE63",
        "colab": {
          "base_uri": "https://localhost:8080/"
        },
        "outputId": "f5383c31-4f8a-49e0-ebfe-a168263d317d"
      },
      "execution_count": 32,
      "outputs": [
        {
          "output_type": "stream",
          "name": "stdout",
          "text": [
            "(None, 3)\n"
          ]
        }
      ]
    },
    {
      "cell_type": "code",
      "source": [
        "hist_=pd.DataFrame(results.history)\n",
        "hist_"
      ],
      "metadata": {
        "colab": {
          "base_uri": "https://localhost:8080/",
          "height": 1000
        },
        "id": "JTD7k4UktUDx",
        "outputId": "8a105928-7cee-42b5-f57e-40f333d2f9f9"
      },
      "execution_count": 33,
      "outputs": [
        {
          "output_type": "execute_result",
          "data": {
            "text/plain": [
              "        loss  accuracy  val_loss  val_accuracy\n",
              "0   0.945498  0.547824  0.803428      0.633621\n",
              "1   0.509430  0.789299  0.398447      0.840517\n",
              "2   0.204167  0.927363  0.239303      0.913793\n",
              "3   0.088795  0.972276  0.139167      0.967672\n",
              "4   0.036168  0.989742  0.086193      0.974138\n",
              "5   0.028908  0.990851  0.084722      0.982759\n",
              "6   0.032569  0.988079  0.073333      0.984914\n",
              "7   0.019377  0.995287  0.057334      0.987069\n",
              "8   0.023408  0.991960  0.083192      0.987069\n",
              "9   0.002529  0.999723  0.056564      0.989224\n",
              "10  0.001337  1.000000  0.073529      0.989224\n",
              "11  0.000437  1.000000  0.071580      0.991379\n",
              "12  0.000144  1.000000  0.067297      0.989224\n",
              "13  0.000091  1.000000  0.064521      0.991379\n",
              "14  0.000072  1.000000  0.065189      0.991379\n",
              "15  0.000083  1.000000  0.069708      0.993535\n",
              "16  0.000113  1.000000  0.061133      0.989224\n",
              "17  0.000045  1.000000  0.064396      0.989224\n",
              "18  0.034644  0.990574  0.231129      0.909483\n",
              "19  0.068397  0.974771  0.057533      0.980603\n",
              "20  0.014132  0.995287  0.046096      0.984914\n",
              "21  0.001295  1.000000  0.040447      0.993535\n",
              "22  0.000362  1.000000  0.035827      0.995690\n",
              "23  0.000362  1.000000  0.038345      0.995690\n",
              "24  0.000645  1.000000  0.038481      0.995690\n",
              "25  0.000201  1.000000  0.044013      0.993535\n",
              "26  0.000450  1.000000  0.041905      0.995690\n",
              "27  0.000067  1.000000  0.046449      0.995690\n",
              "28  0.000036  1.000000  0.048711      0.995690\n",
              "29  0.000061  1.000000  0.046414      0.995690\n",
              "30  0.000023  1.000000  0.045641      0.995690\n",
              "31  0.000023  1.000000  0.045390      0.995690\n",
              "32  0.000025  1.000000  0.048224      0.995690\n",
              "33  0.000014  1.000000  0.048114      0.995690\n",
              "34  0.000011  1.000000  0.048818      0.995690"
            ],
            "text/html": [
              "\n",
              "  <div id=\"df-82fdbf93-7bd8-484f-aead-f8f8ff7b4157\" class=\"colab-df-container\">\n",
              "    <div>\n",
              "<style scoped>\n",
              "    .dataframe tbody tr th:only-of-type {\n",
              "        vertical-align: middle;\n",
              "    }\n",
              "\n",
              "    .dataframe tbody tr th {\n",
              "        vertical-align: top;\n",
              "    }\n",
              "\n",
              "    .dataframe thead th {\n",
              "        text-align: right;\n",
              "    }\n",
              "</style>\n",
              "<table border=\"1\" class=\"dataframe\">\n",
              "  <thead>\n",
              "    <tr style=\"text-align: right;\">\n",
              "      <th></th>\n",
              "      <th>loss</th>\n",
              "      <th>accuracy</th>\n",
              "      <th>val_loss</th>\n",
              "      <th>val_accuracy</th>\n",
              "    </tr>\n",
              "  </thead>\n",
              "  <tbody>\n",
              "    <tr>\n",
              "      <th>0</th>\n",
              "      <td>0.945498</td>\n",
              "      <td>0.547824</td>\n",
              "      <td>0.803428</td>\n",
              "      <td>0.633621</td>\n",
              "    </tr>\n",
              "    <tr>\n",
              "      <th>1</th>\n",
              "      <td>0.509430</td>\n",
              "      <td>0.789299</td>\n",
              "      <td>0.398447</td>\n",
              "      <td>0.840517</td>\n",
              "    </tr>\n",
              "    <tr>\n",
              "      <th>2</th>\n",
              "      <td>0.204167</td>\n",
              "      <td>0.927363</td>\n",
              "      <td>0.239303</td>\n",
              "      <td>0.913793</td>\n",
              "    </tr>\n",
              "    <tr>\n",
              "      <th>3</th>\n",
              "      <td>0.088795</td>\n",
              "      <td>0.972276</td>\n",
              "      <td>0.139167</td>\n",
              "      <td>0.967672</td>\n",
              "    </tr>\n",
              "    <tr>\n",
              "      <th>4</th>\n",
              "      <td>0.036168</td>\n",
              "      <td>0.989742</td>\n",
              "      <td>0.086193</td>\n",
              "      <td>0.974138</td>\n",
              "    </tr>\n",
              "    <tr>\n",
              "      <th>5</th>\n",
              "      <td>0.028908</td>\n",
              "      <td>0.990851</td>\n",
              "      <td>0.084722</td>\n",
              "      <td>0.982759</td>\n",
              "    </tr>\n",
              "    <tr>\n",
              "      <th>6</th>\n",
              "      <td>0.032569</td>\n",
              "      <td>0.988079</td>\n",
              "      <td>0.073333</td>\n",
              "      <td>0.984914</td>\n",
              "    </tr>\n",
              "    <tr>\n",
              "      <th>7</th>\n",
              "      <td>0.019377</td>\n",
              "      <td>0.995287</td>\n",
              "      <td>0.057334</td>\n",
              "      <td>0.987069</td>\n",
              "    </tr>\n",
              "    <tr>\n",
              "      <th>8</th>\n",
              "      <td>0.023408</td>\n",
              "      <td>0.991960</td>\n",
              "      <td>0.083192</td>\n",
              "      <td>0.987069</td>\n",
              "    </tr>\n",
              "    <tr>\n",
              "      <th>9</th>\n",
              "      <td>0.002529</td>\n",
              "      <td>0.999723</td>\n",
              "      <td>0.056564</td>\n",
              "      <td>0.989224</td>\n",
              "    </tr>\n",
              "    <tr>\n",
              "      <th>10</th>\n",
              "      <td>0.001337</td>\n",
              "      <td>1.000000</td>\n",
              "      <td>0.073529</td>\n",
              "      <td>0.989224</td>\n",
              "    </tr>\n",
              "    <tr>\n",
              "      <th>11</th>\n",
              "      <td>0.000437</td>\n",
              "      <td>1.000000</td>\n",
              "      <td>0.071580</td>\n",
              "      <td>0.991379</td>\n",
              "    </tr>\n",
              "    <tr>\n",
              "      <th>12</th>\n",
              "      <td>0.000144</td>\n",
              "      <td>1.000000</td>\n",
              "      <td>0.067297</td>\n",
              "      <td>0.989224</td>\n",
              "    </tr>\n",
              "    <tr>\n",
              "      <th>13</th>\n",
              "      <td>0.000091</td>\n",
              "      <td>1.000000</td>\n",
              "      <td>0.064521</td>\n",
              "      <td>0.991379</td>\n",
              "    </tr>\n",
              "    <tr>\n",
              "      <th>14</th>\n",
              "      <td>0.000072</td>\n",
              "      <td>1.000000</td>\n",
              "      <td>0.065189</td>\n",
              "      <td>0.991379</td>\n",
              "    </tr>\n",
              "    <tr>\n",
              "      <th>15</th>\n",
              "      <td>0.000083</td>\n",
              "      <td>1.000000</td>\n",
              "      <td>0.069708</td>\n",
              "      <td>0.993535</td>\n",
              "    </tr>\n",
              "    <tr>\n",
              "      <th>16</th>\n",
              "      <td>0.000113</td>\n",
              "      <td>1.000000</td>\n",
              "      <td>0.061133</td>\n",
              "      <td>0.989224</td>\n",
              "    </tr>\n",
              "    <tr>\n",
              "      <th>17</th>\n",
              "      <td>0.000045</td>\n",
              "      <td>1.000000</td>\n",
              "      <td>0.064396</td>\n",
              "      <td>0.989224</td>\n",
              "    </tr>\n",
              "    <tr>\n",
              "      <th>18</th>\n",
              "      <td>0.034644</td>\n",
              "      <td>0.990574</td>\n",
              "      <td>0.231129</td>\n",
              "      <td>0.909483</td>\n",
              "    </tr>\n",
              "    <tr>\n",
              "      <th>19</th>\n",
              "      <td>0.068397</td>\n",
              "      <td>0.974771</td>\n",
              "      <td>0.057533</td>\n",
              "      <td>0.980603</td>\n",
              "    </tr>\n",
              "    <tr>\n",
              "      <th>20</th>\n",
              "      <td>0.014132</td>\n",
              "      <td>0.995287</td>\n",
              "      <td>0.046096</td>\n",
              "      <td>0.984914</td>\n",
              "    </tr>\n",
              "    <tr>\n",
              "      <th>21</th>\n",
              "      <td>0.001295</td>\n",
              "      <td>1.000000</td>\n",
              "      <td>0.040447</td>\n",
              "      <td>0.993535</td>\n",
              "    </tr>\n",
              "    <tr>\n",
              "      <th>22</th>\n",
              "      <td>0.000362</td>\n",
              "      <td>1.000000</td>\n",
              "      <td>0.035827</td>\n",
              "      <td>0.995690</td>\n",
              "    </tr>\n",
              "    <tr>\n",
              "      <th>23</th>\n",
              "      <td>0.000362</td>\n",
              "      <td>1.000000</td>\n",
              "      <td>0.038345</td>\n",
              "      <td>0.995690</td>\n",
              "    </tr>\n",
              "    <tr>\n",
              "      <th>24</th>\n",
              "      <td>0.000645</td>\n",
              "      <td>1.000000</td>\n",
              "      <td>0.038481</td>\n",
              "      <td>0.995690</td>\n",
              "    </tr>\n",
              "    <tr>\n",
              "      <th>25</th>\n",
              "      <td>0.000201</td>\n",
              "      <td>1.000000</td>\n",
              "      <td>0.044013</td>\n",
              "      <td>0.993535</td>\n",
              "    </tr>\n",
              "    <tr>\n",
              "      <th>26</th>\n",
              "      <td>0.000450</td>\n",
              "      <td>1.000000</td>\n",
              "      <td>0.041905</td>\n",
              "      <td>0.995690</td>\n",
              "    </tr>\n",
              "    <tr>\n",
              "      <th>27</th>\n",
              "      <td>0.000067</td>\n",
              "      <td>1.000000</td>\n",
              "      <td>0.046449</td>\n",
              "      <td>0.995690</td>\n",
              "    </tr>\n",
              "    <tr>\n",
              "      <th>28</th>\n",
              "      <td>0.000036</td>\n",
              "      <td>1.000000</td>\n",
              "      <td>0.048711</td>\n",
              "      <td>0.995690</td>\n",
              "    </tr>\n",
              "    <tr>\n",
              "      <th>29</th>\n",
              "      <td>0.000061</td>\n",
              "      <td>1.000000</td>\n",
              "      <td>0.046414</td>\n",
              "      <td>0.995690</td>\n",
              "    </tr>\n",
              "    <tr>\n",
              "      <th>30</th>\n",
              "      <td>0.000023</td>\n",
              "      <td>1.000000</td>\n",
              "      <td>0.045641</td>\n",
              "      <td>0.995690</td>\n",
              "    </tr>\n",
              "    <tr>\n",
              "      <th>31</th>\n",
              "      <td>0.000023</td>\n",
              "      <td>1.000000</td>\n",
              "      <td>0.045390</td>\n",
              "      <td>0.995690</td>\n",
              "    </tr>\n",
              "    <tr>\n",
              "      <th>32</th>\n",
              "      <td>0.000025</td>\n",
              "      <td>1.000000</td>\n",
              "      <td>0.048224</td>\n",
              "      <td>0.995690</td>\n",
              "    </tr>\n",
              "    <tr>\n",
              "      <th>33</th>\n",
              "      <td>0.000014</td>\n",
              "      <td>1.000000</td>\n",
              "      <td>0.048114</td>\n",
              "      <td>0.995690</td>\n",
              "    </tr>\n",
              "    <tr>\n",
              "      <th>34</th>\n",
              "      <td>0.000011</td>\n",
              "      <td>1.000000</td>\n",
              "      <td>0.048818</td>\n",
              "      <td>0.995690</td>\n",
              "    </tr>\n",
              "  </tbody>\n",
              "</table>\n",
              "</div>\n",
              "    <div class=\"colab-df-buttons\">\n",
              "\n",
              "  <div class=\"colab-df-container\">\n",
              "    <button class=\"colab-df-convert\" onclick=\"convertToInteractive('df-82fdbf93-7bd8-484f-aead-f8f8ff7b4157')\"\n",
              "            title=\"Convert this dataframe to an interactive table.\"\n",
              "            style=\"display:none;\">\n",
              "\n",
              "  <svg xmlns=\"http://www.w3.org/2000/svg\" height=\"24px\" viewBox=\"0 -960 960 960\">\n",
              "    <path d=\"M120-120v-720h720v720H120Zm60-500h600v-160H180v160Zm220 220h160v-160H400v160Zm0 220h160v-160H400v160ZM180-400h160v-160H180v160Zm440 0h160v-160H620v160ZM180-180h160v-160H180v160Zm440 0h160v-160H620v160Z\"/>\n",
              "  </svg>\n",
              "    </button>\n",
              "\n",
              "  <style>\n",
              "    .colab-df-container {\n",
              "      display:flex;\n",
              "      gap: 12px;\n",
              "    }\n",
              "\n",
              "    .colab-df-convert {\n",
              "      background-color: #E8F0FE;\n",
              "      border: none;\n",
              "      border-radius: 50%;\n",
              "      cursor: pointer;\n",
              "      display: none;\n",
              "      fill: #1967D2;\n",
              "      height: 32px;\n",
              "      padding: 0 0 0 0;\n",
              "      width: 32px;\n",
              "    }\n",
              "\n",
              "    .colab-df-convert:hover {\n",
              "      background-color: #E2EBFA;\n",
              "      box-shadow: 0px 1px 2px rgba(60, 64, 67, 0.3), 0px 1px 3px 1px rgba(60, 64, 67, 0.15);\n",
              "      fill: #174EA6;\n",
              "    }\n",
              "\n",
              "    .colab-df-buttons div {\n",
              "      margin-bottom: 4px;\n",
              "    }\n",
              "\n",
              "    [theme=dark] .colab-df-convert {\n",
              "      background-color: #3B4455;\n",
              "      fill: #D2E3FC;\n",
              "    }\n",
              "\n",
              "    [theme=dark] .colab-df-convert:hover {\n",
              "      background-color: #434B5C;\n",
              "      box-shadow: 0px 1px 3px 1px rgba(0, 0, 0, 0.15);\n",
              "      filter: drop-shadow(0px 1px 2px rgba(0, 0, 0, 0.3));\n",
              "      fill: #FFFFFF;\n",
              "    }\n",
              "  </style>\n",
              "\n",
              "    <script>\n",
              "      const buttonEl =\n",
              "        document.querySelector('#df-82fdbf93-7bd8-484f-aead-f8f8ff7b4157 button.colab-df-convert');\n",
              "      buttonEl.style.display =\n",
              "        google.colab.kernel.accessAllowed ? 'block' : 'none';\n",
              "\n",
              "      async function convertToInteractive(key) {\n",
              "        const element = document.querySelector('#df-82fdbf93-7bd8-484f-aead-f8f8ff7b4157');\n",
              "        const dataTable =\n",
              "          await google.colab.kernel.invokeFunction('convertToInteractive',\n",
              "                                                    [key], {});\n",
              "        if (!dataTable) return;\n",
              "\n",
              "        const docLinkHtml = 'Like what you see? Visit the ' +\n",
              "          '<a target=\"_blank\" href=https://colab.research.google.com/notebooks/data_table.ipynb>data table notebook</a>'\n",
              "          + ' to learn more about interactive tables.';\n",
              "        element.innerHTML = '';\n",
              "        dataTable['output_type'] = 'display_data';\n",
              "        await google.colab.output.renderOutput(dataTable, element);\n",
              "        const docLink = document.createElement('div');\n",
              "        docLink.innerHTML = docLinkHtml;\n",
              "        element.appendChild(docLink);\n",
              "      }\n",
              "    </script>\n",
              "  </div>\n",
              "\n",
              "\n",
              "<div id=\"df-585f6c5e-a50a-4fac-ba73-85360ff6ecca\">\n",
              "  <button class=\"colab-df-quickchart\" onclick=\"quickchart('df-585f6c5e-a50a-4fac-ba73-85360ff6ecca')\"\n",
              "            title=\"Suggest charts\"\n",
              "            style=\"display:none;\">\n",
              "\n",
              "<svg xmlns=\"http://www.w3.org/2000/svg\" height=\"24px\"viewBox=\"0 0 24 24\"\n",
              "     width=\"24px\">\n",
              "    <g>\n",
              "        <path d=\"M19 3H5c-1.1 0-2 .9-2 2v14c0 1.1.9 2 2 2h14c1.1 0 2-.9 2-2V5c0-1.1-.9-2-2-2zM9 17H7v-7h2v7zm4 0h-2V7h2v10zm4 0h-2v-4h2v4z\"/>\n",
              "    </g>\n",
              "</svg>\n",
              "  </button>\n",
              "\n",
              "<style>\n",
              "  .colab-df-quickchart {\n",
              "      --bg-color: #E8F0FE;\n",
              "      --fill-color: #1967D2;\n",
              "      --hover-bg-color: #E2EBFA;\n",
              "      --hover-fill-color: #174EA6;\n",
              "      --disabled-fill-color: #AAA;\n",
              "      --disabled-bg-color: #DDD;\n",
              "  }\n",
              "\n",
              "  [theme=dark] .colab-df-quickchart {\n",
              "      --bg-color: #3B4455;\n",
              "      --fill-color: #D2E3FC;\n",
              "      --hover-bg-color: #434B5C;\n",
              "      --hover-fill-color: #FFFFFF;\n",
              "      --disabled-bg-color: #3B4455;\n",
              "      --disabled-fill-color: #666;\n",
              "  }\n",
              "\n",
              "  .colab-df-quickchart {\n",
              "    background-color: var(--bg-color);\n",
              "    border: none;\n",
              "    border-radius: 50%;\n",
              "    cursor: pointer;\n",
              "    display: none;\n",
              "    fill: var(--fill-color);\n",
              "    height: 32px;\n",
              "    padding: 0;\n",
              "    width: 32px;\n",
              "  }\n",
              "\n",
              "  .colab-df-quickchart:hover {\n",
              "    background-color: var(--hover-bg-color);\n",
              "    box-shadow: 0 1px 2px rgba(60, 64, 67, 0.3), 0 1px 3px 1px rgba(60, 64, 67, 0.15);\n",
              "    fill: var(--button-hover-fill-color);\n",
              "  }\n",
              "\n",
              "  .colab-df-quickchart-complete:disabled,\n",
              "  .colab-df-quickchart-complete:disabled:hover {\n",
              "    background-color: var(--disabled-bg-color);\n",
              "    fill: var(--disabled-fill-color);\n",
              "    box-shadow: none;\n",
              "  }\n",
              "\n",
              "  .colab-df-spinner {\n",
              "    border: 2px solid var(--fill-color);\n",
              "    border-color: transparent;\n",
              "    border-bottom-color: var(--fill-color);\n",
              "    animation:\n",
              "      spin 1s steps(1) infinite;\n",
              "  }\n",
              "\n",
              "  @keyframes spin {\n",
              "    0% {\n",
              "      border-color: transparent;\n",
              "      border-bottom-color: var(--fill-color);\n",
              "      border-left-color: var(--fill-color);\n",
              "    }\n",
              "    20% {\n",
              "      border-color: transparent;\n",
              "      border-left-color: var(--fill-color);\n",
              "      border-top-color: var(--fill-color);\n",
              "    }\n",
              "    30% {\n",
              "      border-color: transparent;\n",
              "      border-left-color: var(--fill-color);\n",
              "      border-top-color: var(--fill-color);\n",
              "      border-right-color: var(--fill-color);\n",
              "    }\n",
              "    40% {\n",
              "      border-color: transparent;\n",
              "      border-right-color: var(--fill-color);\n",
              "      border-top-color: var(--fill-color);\n",
              "    }\n",
              "    60% {\n",
              "      border-color: transparent;\n",
              "      border-right-color: var(--fill-color);\n",
              "    }\n",
              "    80% {\n",
              "      border-color: transparent;\n",
              "      border-right-color: var(--fill-color);\n",
              "      border-bottom-color: var(--fill-color);\n",
              "    }\n",
              "    90% {\n",
              "      border-color: transparent;\n",
              "      border-bottom-color: var(--fill-color);\n",
              "    }\n",
              "  }\n",
              "</style>\n",
              "\n",
              "  <script>\n",
              "    async function quickchart(key) {\n",
              "      const quickchartButtonEl =\n",
              "        document.querySelector('#' + key + ' button');\n",
              "      quickchartButtonEl.disabled = true;  // To prevent multiple clicks.\n",
              "      quickchartButtonEl.classList.add('colab-df-spinner');\n",
              "      try {\n",
              "        const charts = await google.colab.kernel.invokeFunction(\n",
              "            'suggestCharts', [key], {});\n",
              "      } catch (error) {\n",
              "        console.error('Error during call to suggestCharts:', error);\n",
              "      }\n",
              "      quickchartButtonEl.classList.remove('colab-df-spinner');\n",
              "      quickchartButtonEl.classList.add('colab-df-quickchart-complete');\n",
              "    }\n",
              "    (() => {\n",
              "      let quickchartButtonEl =\n",
              "        document.querySelector('#df-585f6c5e-a50a-4fac-ba73-85360ff6ecca button');\n",
              "      quickchartButtonEl.style.display =\n",
              "        google.colab.kernel.accessAllowed ? 'block' : 'none';\n",
              "    })();\n",
              "  </script>\n",
              "</div>\n",
              "\n",
              "  <div id=\"id_5921c8bd-cea8-412d-b205-6ed619d70a36\">\n",
              "    <style>\n",
              "      .colab-df-generate {\n",
              "        background-color: #E8F0FE;\n",
              "        border: none;\n",
              "        border-radius: 50%;\n",
              "        cursor: pointer;\n",
              "        display: none;\n",
              "        fill: #1967D2;\n",
              "        height: 32px;\n",
              "        padding: 0 0 0 0;\n",
              "        width: 32px;\n",
              "      }\n",
              "\n",
              "      .colab-df-generate:hover {\n",
              "        background-color: #E2EBFA;\n",
              "        box-shadow: 0px 1px 2px rgba(60, 64, 67, 0.3), 0px 1px 3px 1px rgba(60, 64, 67, 0.15);\n",
              "        fill: #174EA6;\n",
              "      }\n",
              "\n",
              "      [theme=dark] .colab-df-generate {\n",
              "        background-color: #3B4455;\n",
              "        fill: #D2E3FC;\n",
              "      }\n",
              "\n",
              "      [theme=dark] .colab-df-generate:hover {\n",
              "        background-color: #434B5C;\n",
              "        box-shadow: 0px 1px 3px 1px rgba(0, 0, 0, 0.15);\n",
              "        filter: drop-shadow(0px 1px 2px rgba(0, 0, 0, 0.3));\n",
              "        fill: #FFFFFF;\n",
              "      }\n",
              "    </style>\n",
              "    <button class=\"colab-df-generate\" onclick=\"generateWithVariable('hist_')\"\n",
              "            title=\"Generate code using this dataframe.\"\n",
              "            style=\"display:none;\">\n",
              "\n",
              "  <svg xmlns=\"http://www.w3.org/2000/svg\" height=\"24px\"viewBox=\"0 0 24 24\"\n",
              "       width=\"24px\">\n",
              "    <path d=\"M7,19H8.4L18.45,9,17,7.55,7,17.6ZM5,21V16.75L18.45,3.32a2,2,0,0,1,2.83,0l1.4,1.43a1.91,1.91,0,0,1,.58,1.4,1.91,1.91,0,0,1-.58,1.4L9.25,21ZM18.45,9,17,7.55Zm-12,3A5.31,5.31,0,0,0,4.9,8.1,5.31,5.31,0,0,0,1,6.5,5.31,5.31,0,0,0,4.9,4.9,5.31,5.31,0,0,0,6.5,1,5.31,5.31,0,0,0,8.1,4.9,5.31,5.31,0,0,0,12,6.5,5.46,5.46,0,0,0,6.5,12Z\"/>\n",
              "  </svg>\n",
              "    </button>\n",
              "    <script>\n",
              "      (() => {\n",
              "      const buttonEl =\n",
              "        document.querySelector('#id_5921c8bd-cea8-412d-b205-6ed619d70a36 button.colab-df-generate');\n",
              "      buttonEl.style.display =\n",
              "        google.colab.kernel.accessAllowed ? 'block' : 'none';\n",
              "\n",
              "      buttonEl.onclick = () => {\n",
              "        google.colab.notebook.generateWithVariable('hist_');\n",
              "      }\n",
              "      })();\n",
              "    </script>\n",
              "  </div>\n",
              "\n",
              "    </div>\n",
              "  </div>\n"
            ],
            "application/vnd.google.colaboratory.intrinsic+json": {
              "type": "dataframe",
              "variable_name": "hist_",
              "summary": "{\n  \"name\": \"hist_\",\n  \"rows\": 35,\n  \"fields\": [\n    {\n      \"column\": \"loss\",\n      \"properties\": {\n        \"dtype\": \"number\",\n        \"std\": 0.17965556111718917,\n        \"min\": 1.1388516213628463e-05,\n        \"max\": 0.9454975128173828,\n        \"num_unique_values\": 35,\n        \"samples\": [\n          0.00044957950012758374,\n          9.064719051821157e-05,\n          0.0006454762769863009\n        ],\n        \"semantic_type\": \"\",\n        \"description\": \"\"\n      }\n    },\n    {\n      \"column\": \"accuracy\",\n      \"properties\": {\n        \"dtype\": \"number\",\n        \"std\": 0.08323832766114427,\n        \"min\": 0.5478236675262451,\n        \"max\": 1.0,\n        \"num_unique_values\": 13,\n        \"samples\": [\n          0.9905738830566406,\n          0.9997227787971497,\n          0.5478236675262451\n        ],\n        \"semantic_type\": \"\",\n        \"description\": \"\"\n      }\n    },\n    {\n      \"column\": \"val_loss\",\n      \"properties\": {\n        \"dtype\": \"number\",\n        \"std\": 0.14190406260798885,\n        \"min\": 0.03582748398184776,\n        \"max\": 0.8034275770187378,\n        \"num_unique_values\": 35,\n        \"samples\": [\n          0.04190514236688614,\n          0.06452112644910812,\n          0.038481228053569794\n        ],\n        \"semantic_type\": \"\",\n        \"description\": \"\"\n      }\n    },\n    {\n      \"column\": \"val_accuracy\",\n      \"properties\": {\n        \"dtype\": \"number\",\n        \"std\": 0.06659893291043871,\n        \"min\": 0.6336206793785095,\n        \"max\": 0.9956896305084229,\n        \"num_unique_values\": 14,\n        \"samples\": [\n          0.9913793206214905,\n          0.9094827771186829,\n          0.6336206793785095\n        ],\n        \"semantic_type\": \"\",\n        \"description\": \"\"\n      }\n    }\n  ]\n}"
            }
          },
          "metadata": {},
          "execution_count": 33
        }
      ]
    },
    {
      "cell_type": "markdown",
      "source": [
        "# **Model Evaluation**"
      ],
      "metadata": {
        "id": "H5U-0AnsNnlB"
      }
    },
    {
      "cell_type": "code",
      "source": [
        "loss, acc = model1.evaluate(X_test, Y_test_cat)\n",
        "print('loss: ', loss)\n",
        "print('accuracy ', acc)"
      ],
      "metadata": {
        "id": "hAhOrJj7NsU8",
        "outputId": "4cf2c1c7-0a72-43ef-8514-5e24b7978692",
        "colab": {
          "base_uri": "https://localhost:8080/"
        }
      },
      "execution_count": 34,
      "outputs": [
        {
          "output_type": "stream",
          "name": "stdout",
          "text": [
            "34/34 [==============================] - 5s 155ms/step - loss: 0.0222 - accuracy: 0.9945\n",
            "loss:  0.022174911573529243\n",
            "accuracy  0.9944598078727722\n"
          ]
        }
      ]
    },
    {
      "cell_type": "code",
      "source": [
        "# Reshape Y_test to a 1-dimensional array\n",
        "Y_test = Y_test.reshape(-1,)\n",
        "\n",
        "predictions = model1.predict(X_test)\n",
        "Y_predected = np.argmax(predictions, axis=1)\n",
        "#Y_test_ = np.argmax(Y_test,axis=0)\n",
        "\n",
        "df = pd.DataFrame({'Actual': Y_test, 'Prediction': Y_predected})\n",
        "df"
      ],
      "metadata": {
        "id": "Rjjfs1ANN1e1",
        "outputId": "63f23a4e-78be-4fe6-b375-5f04f0f6558c",
        "colab": {
          "base_uri": "https://localhost:8080/",
          "height": 442
        }
      },
      "execution_count": 35,
      "outputs": [
        {
          "output_type": "stream",
          "name": "stdout",
          "text": [
            "34/34 [==============================] - 6s 172ms/step\n"
          ]
        },
        {
          "output_type": "execute_result",
          "data": {
            "text/plain": [
              "      Actual  Prediction\n",
              "0          0           0\n",
              "1          1           1\n",
              "2          1           1\n",
              "3          1           1\n",
              "4          1           1\n",
              "...      ...         ...\n",
              "1078       1           1\n",
              "1079       1           1\n",
              "1080       1           1\n",
              "1081       1           1\n",
              "1082       1           1\n",
              "\n",
              "[1083 rows x 2 columns]"
            ],
            "text/html": [
              "\n",
              "  <div id=\"df-57ff0679-0827-4bd4-be99-bbc363f23039\" class=\"colab-df-container\">\n",
              "    <div>\n",
              "<style scoped>\n",
              "    .dataframe tbody tr th:only-of-type {\n",
              "        vertical-align: middle;\n",
              "    }\n",
              "\n",
              "    .dataframe tbody tr th {\n",
              "        vertical-align: top;\n",
              "    }\n",
              "\n",
              "    .dataframe thead th {\n",
              "        text-align: right;\n",
              "    }\n",
              "</style>\n",
              "<table border=\"1\" class=\"dataframe\">\n",
              "  <thead>\n",
              "    <tr style=\"text-align: right;\">\n",
              "      <th></th>\n",
              "      <th>Actual</th>\n",
              "      <th>Prediction</th>\n",
              "    </tr>\n",
              "  </thead>\n",
              "  <tbody>\n",
              "    <tr>\n",
              "      <th>0</th>\n",
              "      <td>0</td>\n",
              "      <td>0</td>\n",
              "    </tr>\n",
              "    <tr>\n",
              "      <th>1</th>\n",
              "      <td>1</td>\n",
              "      <td>1</td>\n",
              "    </tr>\n",
              "    <tr>\n",
              "      <th>2</th>\n",
              "      <td>1</td>\n",
              "      <td>1</td>\n",
              "    </tr>\n",
              "    <tr>\n",
              "      <th>3</th>\n",
              "      <td>1</td>\n",
              "      <td>1</td>\n",
              "    </tr>\n",
              "    <tr>\n",
              "      <th>4</th>\n",
              "      <td>1</td>\n",
              "      <td>1</td>\n",
              "    </tr>\n",
              "    <tr>\n",
              "      <th>...</th>\n",
              "      <td>...</td>\n",
              "      <td>...</td>\n",
              "    </tr>\n",
              "    <tr>\n",
              "      <th>1078</th>\n",
              "      <td>1</td>\n",
              "      <td>1</td>\n",
              "    </tr>\n",
              "    <tr>\n",
              "      <th>1079</th>\n",
              "      <td>1</td>\n",
              "      <td>1</td>\n",
              "    </tr>\n",
              "    <tr>\n",
              "      <th>1080</th>\n",
              "      <td>1</td>\n",
              "      <td>1</td>\n",
              "    </tr>\n",
              "    <tr>\n",
              "      <th>1081</th>\n",
              "      <td>1</td>\n",
              "      <td>1</td>\n",
              "    </tr>\n",
              "    <tr>\n",
              "      <th>1082</th>\n",
              "      <td>1</td>\n",
              "      <td>1</td>\n",
              "    </tr>\n",
              "  </tbody>\n",
              "</table>\n",
              "<p>1083 rows × 2 columns</p>\n",
              "</div>\n",
              "    <div class=\"colab-df-buttons\">\n",
              "\n",
              "  <div class=\"colab-df-container\">\n",
              "    <button class=\"colab-df-convert\" onclick=\"convertToInteractive('df-57ff0679-0827-4bd4-be99-bbc363f23039')\"\n",
              "            title=\"Convert this dataframe to an interactive table.\"\n",
              "            style=\"display:none;\">\n",
              "\n",
              "  <svg xmlns=\"http://www.w3.org/2000/svg\" height=\"24px\" viewBox=\"0 -960 960 960\">\n",
              "    <path d=\"M120-120v-720h720v720H120Zm60-500h600v-160H180v160Zm220 220h160v-160H400v160Zm0 220h160v-160H400v160ZM180-400h160v-160H180v160Zm440 0h160v-160H620v160ZM180-180h160v-160H180v160Zm440 0h160v-160H620v160Z\"/>\n",
              "  </svg>\n",
              "    </button>\n",
              "\n",
              "  <style>\n",
              "    .colab-df-container {\n",
              "      display:flex;\n",
              "      gap: 12px;\n",
              "    }\n",
              "\n",
              "    .colab-df-convert {\n",
              "      background-color: #E8F0FE;\n",
              "      border: none;\n",
              "      border-radius: 50%;\n",
              "      cursor: pointer;\n",
              "      display: none;\n",
              "      fill: #1967D2;\n",
              "      height: 32px;\n",
              "      padding: 0 0 0 0;\n",
              "      width: 32px;\n",
              "    }\n",
              "\n",
              "    .colab-df-convert:hover {\n",
              "      background-color: #E2EBFA;\n",
              "      box-shadow: 0px 1px 2px rgba(60, 64, 67, 0.3), 0px 1px 3px 1px rgba(60, 64, 67, 0.15);\n",
              "      fill: #174EA6;\n",
              "    }\n",
              "\n",
              "    .colab-df-buttons div {\n",
              "      margin-bottom: 4px;\n",
              "    }\n",
              "\n",
              "    [theme=dark] .colab-df-convert {\n",
              "      background-color: #3B4455;\n",
              "      fill: #D2E3FC;\n",
              "    }\n",
              "\n",
              "    [theme=dark] .colab-df-convert:hover {\n",
              "      background-color: #434B5C;\n",
              "      box-shadow: 0px 1px 3px 1px rgba(0, 0, 0, 0.15);\n",
              "      filter: drop-shadow(0px 1px 2px rgba(0, 0, 0, 0.3));\n",
              "      fill: #FFFFFF;\n",
              "    }\n",
              "  </style>\n",
              "\n",
              "    <script>\n",
              "      const buttonEl =\n",
              "        document.querySelector('#df-57ff0679-0827-4bd4-be99-bbc363f23039 button.colab-df-convert');\n",
              "      buttonEl.style.display =\n",
              "        google.colab.kernel.accessAllowed ? 'block' : 'none';\n",
              "\n",
              "      async function convertToInteractive(key) {\n",
              "        const element = document.querySelector('#df-57ff0679-0827-4bd4-be99-bbc363f23039');\n",
              "        const dataTable =\n",
              "          await google.colab.kernel.invokeFunction('convertToInteractive',\n",
              "                                                    [key], {});\n",
              "        if (!dataTable) return;\n",
              "\n",
              "        const docLinkHtml = 'Like what you see? Visit the ' +\n",
              "          '<a target=\"_blank\" href=https://colab.research.google.com/notebooks/data_table.ipynb>data table notebook</a>'\n",
              "          + ' to learn more about interactive tables.';\n",
              "        element.innerHTML = '';\n",
              "        dataTable['output_type'] = 'display_data';\n",
              "        await google.colab.output.renderOutput(dataTable, element);\n",
              "        const docLink = document.createElement('div');\n",
              "        docLink.innerHTML = docLinkHtml;\n",
              "        element.appendChild(docLink);\n",
              "      }\n",
              "    </script>\n",
              "  </div>\n",
              "\n",
              "\n",
              "<div id=\"df-74053587-111b-4d20-8a58-9aa1abf172bd\">\n",
              "  <button class=\"colab-df-quickchart\" onclick=\"quickchart('df-74053587-111b-4d20-8a58-9aa1abf172bd')\"\n",
              "            title=\"Suggest charts\"\n",
              "            style=\"display:none;\">\n",
              "\n",
              "<svg xmlns=\"http://www.w3.org/2000/svg\" height=\"24px\"viewBox=\"0 0 24 24\"\n",
              "     width=\"24px\">\n",
              "    <g>\n",
              "        <path d=\"M19 3H5c-1.1 0-2 .9-2 2v14c0 1.1.9 2 2 2h14c1.1 0 2-.9 2-2V5c0-1.1-.9-2-2-2zM9 17H7v-7h2v7zm4 0h-2V7h2v10zm4 0h-2v-4h2v4z\"/>\n",
              "    </g>\n",
              "</svg>\n",
              "  </button>\n",
              "\n",
              "<style>\n",
              "  .colab-df-quickchart {\n",
              "      --bg-color: #E8F0FE;\n",
              "      --fill-color: #1967D2;\n",
              "      --hover-bg-color: #E2EBFA;\n",
              "      --hover-fill-color: #174EA6;\n",
              "      --disabled-fill-color: #AAA;\n",
              "      --disabled-bg-color: #DDD;\n",
              "  }\n",
              "\n",
              "  [theme=dark] .colab-df-quickchart {\n",
              "      --bg-color: #3B4455;\n",
              "      --fill-color: #D2E3FC;\n",
              "      --hover-bg-color: #434B5C;\n",
              "      --hover-fill-color: #FFFFFF;\n",
              "      --disabled-bg-color: #3B4455;\n",
              "      --disabled-fill-color: #666;\n",
              "  }\n",
              "\n",
              "  .colab-df-quickchart {\n",
              "    background-color: var(--bg-color);\n",
              "    border: none;\n",
              "    border-radius: 50%;\n",
              "    cursor: pointer;\n",
              "    display: none;\n",
              "    fill: var(--fill-color);\n",
              "    height: 32px;\n",
              "    padding: 0;\n",
              "    width: 32px;\n",
              "  }\n",
              "\n",
              "  .colab-df-quickchart:hover {\n",
              "    background-color: var(--hover-bg-color);\n",
              "    box-shadow: 0 1px 2px rgba(60, 64, 67, 0.3), 0 1px 3px 1px rgba(60, 64, 67, 0.15);\n",
              "    fill: var(--button-hover-fill-color);\n",
              "  }\n",
              "\n",
              "  .colab-df-quickchart-complete:disabled,\n",
              "  .colab-df-quickchart-complete:disabled:hover {\n",
              "    background-color: var(--disabled-bg-color);\n",
              "    fill: var(--disabled-fill-color);\n",
              "    box-shadow: none;\n",
              "  }\n",
              "\n",
              "  .colab-df-spinner {\n",
              "    border: 2px solid var(--fill-color);\n",
              "    border-color: transparent;\n",
              "    border-bottom-color: var(--fill-color);\n",
              "    animation:\n",
              "      spin 1s steps(1) infinite;\n",
              "  }\n",
              "\n",
              "  @keyframes spin {\n",
              "    0% {\n",
              "      border-color: transparent;\n",
              "      border-bottom-color: var(--fill-color);\n",
              "      border-left-color: var(--fill-color);\n",
              "    }\n",
              "    20% {\n",
              "      border-color: transparent;\n",
              "      border-left-color: var(--fill-color);\n",
              "      border-top-color: var(--fill-color);\n",
              "    }\n",
              "    30% {\n",
              "      border-color: transparent;\n",
              "      border-left-color: var(--fill-color);\n",
              "      border-top-color: var(--fill-color);\n",
              "      border-right-color: var(--fill-color);\n",
              "    }\n",
              "    40% {\n",
              "      border-color: transparent;\n",
              "      border-right-color: var(--fill-color);\n",
              "      border-top-color: var(--fill-color);\n",
              "    }\n",
              "    60% {\n",
              "      border-color: transparent;\n",
              "      border-right-color: var(--fill-color);\n",
              "    }\n",
              "    80% {\n",
              "      border-color: transparent;\n",
              "      border-right-color: var(--fill-color);\n",
              "      border-bottom-color: var(--fill-color);\n",
              "    }\n",
              "    90% {\n",
              "      border-color: transparent;\n",
              "      border-bottom-color: var(--fill-color);\n",
              "    }\n",
              "  }\n",
              "</style>\n",
              "\n",
              "  <script>\n",
              "    async function quickchart(key) {\n",
              "      const quickchartButtonEl =\n",
              "        document.querySelector('#' + key + ' button');\n",
              "      quickchartButtonEl.disabled = true;  // To prevent multiple clicks.\n",
              "      quickchartButtonEl.classList.add('colab-df-spinner');\n",
              "      try {\n",
              "        const charts = await google.colab.kernel.invokeFunction(\n",
              "            'suggestCharts', [key], {});\n",
              "      } catch (error) {\n",
              "        console.error('Error during call to suggestCharts:', error);\n",
              "      }\n",
              "      quickchartButtonEl.classList.remove('colab-df-spinner');\n",
              "      quickchartButtonEl.classList.add('colab-df-quickchart-complete');\n",
              "    }\n",
              "    (() => {\n",
              "      let quickchartButtonEl =\n",
              "        document.querySelector('#df-74053587-111b-4d20-8a58-9aa1abf172bd button');\n",
              "      quickchartButtonEl.style.display =\n",
              "        google.colab.kernel.accessAllowed ? 'block' : 'none';\n",
              "    })();\n",
              "  </script>\n",
              "</div>\n",
              "\n",
              "  <div id=\"id_65222890-8046-4c43-a778-cc0c12fb3065\">\n",
              "    <style>\n",
              "      .colab-df-generate {\n",
              "        background-color: #E8F0FE;\n",
              "        border: none;\n",
              "        border-radius: 50%;\n",
              "        cursor: pointer;\n",
              "        display: none;\n",
              "        fill: #1967D2;\n",
              "        height: 32px;\n",
              "        padding: 0 0 0 0;\n",
              "        width: 32px;\n",
              "      }\n",
              "\n",
              "      .colab-df-generate:hover {\n",
              "        background-color: #E2EBFA;\n",
              "        box-shadow: 0px 1px 2px rgba(60, 64, 67, 0.3), 0px 1px 3px 1px rgba(60, 64, 67, 0.15);\n",
              "        fill: #174EA6;\n",
              "      }\n",
              "\n",
              "      [theme=dark] .colab-df-generate {\n",
              "        background-color: #3B4455;\n",
              "        fill: #D2E3FC;\n",
              "      }\n",
              "\n",
              "      [theme=dark] .colab-df-generate:hover {\n",
              "        background-color: #434B5C;\n",
              "        box-shadow: 0px 1px 3px 1px rgba(0, 0, 0, 0.15);\n",
              "        filter: drop-shadow(0px 1px 2px rgba(0, 0, 0, 0.3));\n",
              "        fill: #FFFFFF;\n",
              "      }\n",
              "    </style>\n",
              "    <button class=\"colab-df-generate\" onclick=\"generateWithVariable('df')\"\n",
              "            title=\"Generate code using this dataframe.\"\n",
              "            style=\"display:none;\">\n",
              "\n",
              "  <svg xmlns=\"http://www.w3.org/2000/svg\" height=\"24px\"viewBox=\"0 0 24 24\"\n",
              "       width=\"24px\">\n",
              "    <path d=\"M7,19H8.4L18.45,9,17,7.55,7,17.6ZM5,21V16.75L18.45,3.32a2,2,0,0,1,2.83,0l1.4,1.43a1.91,1.91,0,0,1,.58,1.4,1.91,1.91,0,0,1-.58,1.4L9.25,21ZM18.45,9,17,7.55Zm-12,3A5.31,5.31,0,0,0,4.9,8.1,5.31,5.31,0,0,0,1,6.5,5.31,5.31,0,0,0,4.9,4.9,5.31,5.31,0,0,0,6.5,1,5.31,5.31,0,0,0,8.1,4.9,5.31,5.31,0,0,0,12,6.5,5.46,5.46,0,0,0,6.5,12Z\"/>\n",
              "  </svg>\n",
              "    </button>\n",
              "    <script>\n",
              "      (() => {\n",
              "      const buttonEl =\n",
              "        document.querySelector('#id_65222890-8046-4c43-a778-cc0c12fb3065 button.colab-df-generate');\n",
              "      buttonEl.style.display =\n",
              "        google.colab.kernel.accessAllowed ? 'block' : 'none';\n",
              "\n",
              "      buttonEl.onclick = () => {\n",
              "        google.colab.notebook.generateWithVariable('df');\n",
              "      }\n",
              "      })();\n",
              "    </script>\n",
              "  </div>\n",
              "\n",
              "    </div>\n",
              "  </div>\n"
            ],
            "application/vnd.google.colaboratory.intrinsic+json": {
              "type": "dataframe",
              "variable_name": "df",
              "summary": "{\n  \"name\": \"df\",\n  \"rows\": 1083,\n  \"fields\": [\n    {\n      \"column\": \"Actual\",\n      \"properties\": {\n        \"dtype\": \"number\",\n        \"std\": 0,\n        \"min\": 0,\n        \"max\": 2,\n        \"num_unique_values\": 3,\n        \"samples\": [\n          0,\n          1,\n          2\n        ],\n        \"semantic_type\": \"\",\n        \"description\": \"\"\n      }\n    },\n    {\n      \"column\": \"Prediction\",\n      \"properties\": {\n        \"dtype\": \"number\",\n        \"std\": 0,\n        \"min\": 0,\n        \"max\": 2,\n        \"num_unique_values\": 3,\n        \"samples\": [\n          0,\n          1,\n          2\n        ],\n        \"semantic_type\": \"\",\n        \"description\": \"\"\n      }\n    }\n  ]\n}"
            }
          },
          "metadata": {},
          "execution_count": 35
        }
      ]
    },
    {
      "cell_type": "code",
      "source": [
        "CM = confusion_matrix(Y_test,Y_predected)\n",
        "CM_percent = CM.astype('float') / CM.sum(axis=1)[:, np.newaxis]\n",
        "\n",
        "sns.heatmap(CM_percent,fmt='g',center = True,cbar=False,annot=True,cmap='Blues')\n",
        "CM"
      ],
      "metadata": {
        "colab": {
          "base_uri": "https://localhost:8080/",
          "height": 484
        },
        "id": "V883lZCBqEgj",
        "outputId": "a0948402-3b4a-43ed-dc6b-1805f1fe86ea"
      },
      "execution_count": 36,
      "outputs": [
        {
          "output_type": "execute_result",
          "data": {
            "text/plain": [
              "array([[308,   0,   0],\n",
              "       [  0, 527,   2],\n",
              "       [  2,   2, 242]])"
            ]
          },
          "metadata": {},
          "execution_count": 36
        },
        {
          "output_type": "display_data",
          "data": {
            "text/plain": [
              "<Figure size 640x480 with 1 Axes>"
            ],
            "image/png": "[encoded data removed]"
          },
          "metadata": {}
        }
      ]
    },
    {
      "cell_type": "code",
      "source": [
        "print(classification_report(Y_test, Y_predected))"
      ],
      "metadata": {
        "id": "jFtuqVUeOdYf",
        "outputId": "c00bffb9-9c00-41c3-f833-2b3deb0fb139",
        "colab": {
          "base_uri": "https://localhost:8080/"
        }
      },
      "execution_count": 37,
      "outputs": [
        {
          "output_type": "stream",
          "name": "stdout",
          "text": [
            "              precision    recall  f1-score   support\n",
            "\n",
            "           0       0.99      1.00      1.00       308\n",
            "           1       1.00      1.00      1.00       529\n",
            "           2       0.99      0.98      0.99       246\n",
            "\n",
            "    accuracy                           0.99      1083\n",
            "   macro avg       0.99      0.99      0.99      1083\n",
            "weighted avg       0.99      0.99      0.99      1083\n",
            "\n"
          ]
        }
      ]
    },
    {
      "cell_type": "code",
      "source": [],
      "metadata": {
        "id": "XQDIk2uylWZq"
      },
      "execution_count": null,
      "outputs": []
    }
  ]
}